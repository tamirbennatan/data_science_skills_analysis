{
 "cells": [
  {
   "cell_type": "code",
   "execution_count": 39,
   "metadata": {
    "collapsed": false
   },
   "outputs": [],
   "source": [
    "from bs4 import BeautifulSoup\n",
    "from urllib2 import urlopen\n",
    "import feedparser\n",
    "from collections import Counter\n",
    "from nltk.tokenize import RegexpTokenizer\n",
    "import re\n",
    "import pdb\n",
    "\n",
    "import numpy as np"
   ]
  },
  {
   "cell_type": "code",
   "execution_count": 39,
   "metadata": {
    "collapsed": false
   },
   "outputs": [],
   "source": [
    "FEED_URL='http://www.indeed.com/jobs?q=data+scientist&l=New+York%2C+NY' \n",
    "fp = feedparser.parse(FEED_URL)\n"
   ]
  },
  {
   "cell_type": "code",
   "execution_count": 109,
   "metadata": {
    "collapsed": true
   },
   "outputs": [],
   "source": [
    "fp = feedparser.parse(FEED_URL)\n",
    "soup = BeautifulSoup(fp['feed']['summary'])"
   ]
  },
  {
   "cell_type": "code",
   "execution_count": 110,
   "metadata": {
    "collapsed": false
   },
   "outputs": [],
   "source": [
    "#method accepts a BeautifulSoup parsed HTML object and returns a list of <a> tags of job posts\n",
    "def get_job_posts(soup_object):\n",
    "    \n",
    "    job_posts = []\n",
    "    a_s = soup_object.find_all('a')\n",
    "    for a in a_s:\n",
    "        try:\n",
    "            if u'jobtitle' in a['class']:\n",
    "                job_posts.append(a)\n",
    "        except:\n",
    "            pass\n",
    "    \n",
    "    return job_posts"
   ]
  },
  {
   "cell_type": "code",
   "execution_count": 129,
   "metadata": {
    "collapsed": true
   },
   "outputs": [],
   "source": [
    "#method accepts a link to a job post and returns a list of \n",
    "def get_words(job_post_href):\n",
    "    \n",
    "    #only keep the content\n",
    "    post_soup = BeautifulSoup(feedparser.parse(job_post_href)['feed']['summary'], 'html.parser')\n",
    "\n",
    "    text = post_soup.get_text().lower()\n",
    "    \n",
    "    #keep only letters, but keep '+' for 'c++', '#' for 'c#','3' for 'd3, '!' for 'go!', and  '-' for 'scikit-learn'\n",
    "    text = re.sub(\"[^a-z+#3-]\",\" \", text) \n",
    "\n",
    "    #break into lines to get rid of the annoying '\\n' characters. Also project to lowercase.\n",
    "    lines = [line.strip().lower() for line in text.splitlines()]\n",
    "\n",
    "    words = []\n",
    "    for line in lines:\n",
    "        words += [each_word for each_word in line.split()]\n",
    "        \n",
    "    #Lighten the load by getting rid of basic stopwords, like \"the\", \"or\" etc    \n",
    "    words = set(words) - set(nltk.corpus.stopwords.words(\"english\")) \n",
    "    \n",
    "    return words\n",
    "    "
   ]
  },
  {
   "cell_type": "code",
   "execution_count": 112,
   "metadata": {
    "collapsed": true
   },
   "outputs": [],
   "source": [
    "#method accepts a list of words in a job post, and creates sets according to pre-determined sets\n",
    "def words_by_category(words_list):\n",
    "    \n",
    "    high_level_languages = set(['r', 'python', 'java', 'scala', 'c', 'c++', 'c#', 'c--', \n",
    "                               'f', 'f#', 'go', 'go!', 'groovy', 'julia', 'jscript', \n",
    "                               'matlab', 'perl'])\n",
    "    \n",
    "    low_level_langages = set(['pascal', 'haskell', 'fortran', 'django', 'flask'])\n",
    "    \n",
    "    frameworks = set(['angular', 'angularjs', 'asp', 'node' ])\n",
    "    \n",
    "    #operating systems and tools\n",
    "    operating_systems = set(['unix', 'osx', 'bash', 'batch' , 'curl' ])\n",
    "    \n",
    "    misc_tools = set(['latex' ])"
   ]
  },
  {
   "cell_type": "code",
   "execution_count": 143,
   "metadata": {
    "collapsed": false
   },
   "outputs": [],
   "source": [
    "def crawl_indeed(query, city, experience_level = \"\", num_pages = 10):\n",
    "    \n",
    "    #clean parameters so that they match Indeed's protocol\n",
    "    \n",
    "    #spaces parameters seperated by '+'\n",
    "    query = query.replace(' ', '+')\n",
    "    city = city.replace(' ' , '+')\n",
    "    \n",
    "    #make sure experience_level is one of the four valid options\n",
    "    if experience_level not in ['', 'entry_level', 'mid_level', 'senior_level']:\n",
    "        experience_level = ''\n",
    "        print \"Experience level parameter not valid. Showing all experience levels\"\n",
    "    \n",
    "    #build data in JSON-like format, given the heirarchial nature of the data\n",
    "    data = list()\n",
    "    \n",
    "    #Indeed shows job posts 10 at a time, so each page starts with post 0, 10, 20...\n",
    "    #Loop through the posts using the num_pages parameter\n",
    "    \n",
    "    page_start_numbers = np.arange(num_pages)*10\n",
    "    \n",
    "    for start_number in page_start_numbers:\n",
    "        \n",
    "        url = \"http://www.indeed.com/jobs?q={0}&l={1}&explvl={2}&start={3}\".format(query, city, experience_level, start_number)\n",
    "    \n",
    "        #isolate html body and get rid of extraneous HTML objects using feedparser, and create a BeautifulSoup obect\n",
    "        fp = feedparser.parse(url)\n",
    "        page_soup = BeautifulSoup(fp['feed']['summary'])\n",
    "    \n",
    "        #get a list of all the <a class='jobtitle'></a> elemdents, which are job posts\n",
    "        job_posts = get_job_posts(page_soup)\n",
    "\n",
    "        for post in job_posts:\n",
    "            \n",
    "            #each job post gets a sub-dictionary\n",
    "            post_data = dict()\n",
    "            \n",
    "            #attributes which are constant amongst all results\n",
    "            post_data['query'] = query\n",
    "            post_data['city'] = city\n",
    "            \n",
    "            #job title of that sepcific post\n",
    "            post_data['title'] = post['title']\n",
    "            \n",
    "            \n",
    "            #for each job post, extract the link to the post itself\n",
    "            post_href = post['href']\n",
    "            \n",
    "            #extract all the (cleaned up) words fromt that link\n",
    "            post_words = get_words(post_href)\n",
    "                        \n",
    "            post_data['words'] =post_words\n",
    "            data.append(post_data)\n",
    "            \n",
    "    pdb.set_trace()\n",
    "    return data\n",
    "            \n",
    "            \n",
    "    #http://www.indeed.com/jobs?q=data+scientist&l=New+York,+NY&explvl=entry_level\n",
    "    #http://www.indeed.com/jobs?q=data+scientist&l=New+York,+NY&explvl=senior_level&start=0\n",
    "    "
   ]
  },
  {
   "cell_type": "code",
   "execution_count": 144,
   "metadata": {
    "collapsed": false
   },
   "outputs": [
    {
     "name": "stdout",
     "output_type": "stream",
     "text": [
      "> <ipython-input-129-4d003a18fd7c>(6)get_words()\n",
      "-> post_soup = BeautifulSoup(feedparser.parse(job_post_href)['feed']['summary'], 'html.parser')\n",
      "(Pdb) data\n",
      "*** NameError: name 'data' is not defined\n",
      "(Pdb) l\n",
      "  1  \t#method accepts a link to a job post and returns a list of \n",
      "  2  \tdef get_words(job_post_href):\n",
      "  3  \t    \n",
      "  4  \t    pdb.set_trace()\n",
      "  5  \t    #only keep the content\n",
      "  6  ->\t    post_soup = BeautifulSoup(feedparser.parse(job_post_href)['feed']['summary'], 'html.parser')\n",
      "  7  \t\n",
      "  8  \t    text = post_soup.get_text().lower()\n",
      "  9  \t    \n",
      " 10  \t    #keep only letters, but keep '+' for 'c++', '#' for 'c#','3' for 'd3, '!' for 'go!', and  '-' for 'scikit-learn'\n",
      " 11  \t    text = re.sub(\"[^a-z+#3-]\",\" \", text) \n",
      "(Pdb) q\n"
     ]
    },
    {
     "ename": "BdbQuit",
     "evalue": "",
     "output_type": "error",
     "traceback": [
      "\u001b[0;31m---------------------------------------------------------------------------\u001b[0m",
      "\u001b[0;31mBdbQuit\u001b[0m                                   Traceback (most recent call last)",
      "\u001b[0;32m<ipython-input-144-e9f3be768181>\u001b[0m in \u001b[0;36m<module>\u001b[0;34m()\u001b[0m\n\u001b[0;32m----> 1\u001b[0;31m \u001b[0mcrawl_indeed\u001b[0m\u001b[0;34m(\u001b[0m\u001b[0;34m'data scientist'\u001b[0m\u001b[0;34m,\u001b[0m \u001b[0;34m'new york'\u001b[0m\u001b[0;34m)\u001b[0m\u001b[0;34m\u001b[0m\u001b[0m\n\u001b[0m",
      "\u001b[0;32m<ipython-input-143-3b89ce51423b>\u001b[0m in \u001b[0;36mcrawl_indeed\u001b[0;34m(query, city, experience_level, num_pages)\u001b[0m\n\u001b[1;32m     48\u001b[0m \u001b[0;34m\u001b[0m\u001b[0m\n\u001b[1;32m     49\u001b[0m             \u001b[0;31m#extract all the (cleaned up) words fromt that link\u001b[0m\u001b[0;34m\u001b[0m\u001b[0;34m\u001b[0m\u001b[0m\n\u001b[0;32m---> 50\u001b[0;31m             \u001b[0mpost_words\u001b[0m \u001b[0;34m=\u001b[0m \u001b[0mget_words\u001b[0m\u001b[0;34m(\u001b[0m\u001b[0mpost_href\u001b[0m\u001b[0;34m)\u001b[0m\u001b[0;34m\u001b[0m\u001b[0m\n\u001b[0m\u001b[1;32m     51\u001b[0m \u001b[0;34m\u001b[0m\u001b[0m\n\u001b[1;32m     52\u001b[0m             \u001b[0mpost_data\u001b[0m\u001b[0;34m[\u001b[0m\u001b[0;34m'words'\u001b[0m\u001b[0;34m]\u001b[0m \u001b[0;34m=\u001b[0m\u001b[0mpost_words\u001b[0m\u001b[0;34m\u001b[0m\u001b[0m\n",
      "\u001b[0;32m<ipython-input-129-4d003a18fd7c>\u001b[0m in \u001b[0;36mget_words\u001b[0;34m(job_post_href)\u001b[0m\n\u001b[1;32m      4\u001b[0m     \u001b[0mpdb\u001b[0m\u001b[0;34m.\u001b[0m\u001b[0mset_trace\u001b[0m\u001b[0;34m(\u001b[0m\u001b[0;34m)\u001b[0m\u001b[0;34m\u001b[0m\u001b[0m\n\u001b[1;32m      5\u001b[0m     \u001b[0;31m#only keep the content\u001b[0m\u001b[0;34m\u001b[0m\u001b[0;34m\u001b[0m\u001b[0m\n\u001b[0;32m----> 6\u001b[0;31m     \u001b[0mpost_soup\u001b[0m \u001b[0;34m=\u001b[0m \u001b[0mBeautifulSoup\u001b[0m\u001b[0;34m(\u001b[0m\u001b[0mfeedparser\u001b[0m\u001b[0;34m.\u001b[0m\u001b[0mparse\u001b[0m\u001b[0;34m(\u001b[0m\u001b[0mjob_post_href\u001b[0m\u001b[0;34m)\u001b[0m\u001b[0;34m[\u001b[0m\u001b[0;34m'feed'\u001b[0m\u001b[0;34m]\u001b[0m\u001b[0;34m[\u001b[0m\u001b[0;34m'summary'\u001b[0m\u001b[0;34m]\u001b[0m\u001b[0;34m,\u001b[0m \u001b[0;34m'html.parser'\u001b[0m\u001b[0;34m)\u001b[0m\u001b[0;34m\u001b[0m\u001b[0m\n\u001b[0m\u001b[1;32m      7\u001b[0m \u001b[0;34m\u001b[0m\u001b[0m\n\u001b[1;32m      8\u001b[0m     \u001b[0mtext\u001b[0m \u001b[0;34m=\u001b[0m \u001b[0mpost_soup\u001b[0m\u001b[0;34m.\u001b[0m\u001b[0mget_text\u001b[0m\u001b[0;34m(\u001b[0m\u001b[0;34m)\u001b[0m\u001b[0;34m.\u001b[0m\u001b[0mlower\u001b[0m\u001b[0;34m(\u001b[0m\u001b[0;34m)\u001b[0m\u001b[0;34m\u001b[0m\u001b[0m\n",
      "\u001b[0;32m<ipython-input-129-4d003a18fd7c>\u001b[0m in \u001b[0;36mget_words\u001b[0;34m(job_post_href)\u001b[0m\n\u001b[1;32m      4\u001b[0m     \u001b[0mpdb\u001b[0m\u001b[0;34m.\u001b[0m\u001b[0mset_trace\u001b[0m\u001b[0;34m(\u001b[0m\u001b[0;34m)\u001b[0m\u001b[0;34m\u001b[0m\u001b[0m\n\u001b[1;32m      5\u001b[0m     \u001b[0;31m#only keep the content\u001b[0m\u001b[0;34m\u001b[0m\u001b[0;34m\u001b[0m\u001b[0m\n\u001b[0;32m----> 6\u001b[0;31m     \u001b[0mpost_soup\u001b[0m \u001b[0;34m=\u001b[0m \u001b[0mBeautifulSoup\u001b[0m\u001b[0;34m(\u001b[0m\u001b[0mfeedparser\u001b[0m\u001b[0;34m.\u001b[0m\u001b[0mparse\u001b[0m\u001b[0;34m(\u001b[0m\u001b[0mjob_post_href\u001b[0m\u001b[0;34m)\u001b[0m\u001b[0;34m[\u001b[0m\u001b[0;34m'feed'\u001b[0m\u001b[0;34m]\u001b[0m\u001b[0;34m[\u001b[0m\u001b[0;34m'summary'\u001b[0m\u001b[0;34m]\u001b[0m\u001b[0;34m,\u001b[0m \u001b[0;34m'html.parser'\u001b[0m\u001b[0;34m)\u001b[0m\u001b[0;34m\u001b[0m\u001b[0m\n\u001b[0m\u001b[1;32m      7\u001b[0m \u001b[0;34m\u001b[0m\u001b[0m\n\u001b[1;32m      8\u001b[0m     \u001b[0mtext\u001b[0m \u001b[0;34m=\u001b[0m \u001b[0mpost_soup\u001b[0m\u001b[0;34m.\u001b[0m\u001b[0mget_text\u001b[0m\u001b[0;34m(\u001b[0m\u001b[0;34m)\u001b[0m\u001b[0;34m.\u001b[0m\u001b[0mlower\u001b[0m\u001b[0;34m(\u001b[0m\u001b[0;34m)\u001b[0m\u001b[0;34m\u001b[0m\u001b[0m\n",
      "\u001b[0;32m/Library/Frameworks/Python.framework/Versions/2.7/lib/python2.7/bdb.pyc\u001b[0m in \u001b[0;36mtrace_dispatch\u001b[0;34m(self, frame, event, arg)\u001b[0m\n\u001b[1;32m     47\u001b[0m             \u001b[0;32mreturn\u001b[0m \u001b[0;31m# None\u001b[0m\u001b[0;34m\u001b[0m\u001b[0m\n\u001b[1;32m     48\u001b[0m         \u001b[0;32mif\u001b[0m \u001b[0mevent\u001b[0m \u001b[0;34m==\u001b[0m \u001b[0;34m'line'\u001b[0m\u001b[0;34m:\u001b[0m\u001b[0;34m\u001b[0m\u001b[0m\n\u001b[0;32m---> 49\u001b[0;31m             \u001b[0;32mreturn\u001b[0m \u001b[0mself\u001b[0m\u001b[0;34m.\u001b[0m\u001b[0mdispatch_line\u001b[0m\u001b[0;34m(\u001b[0m\u001b[0mframe\u001b[0m\u001b[0;34m)\u001b[0m\u001b[0;34m\u001b[0m\u001b[0m\n\u001b[0m\u001b[1;32m     50\u001b[0m         \u001b[0;32mif\u001b[0m \u001b[0mevent\u001b[0m \u001b[0;34m==\u001b[0m \u001b[0;34m'call'\u001b[0m\u001b[0;34m:\u001b[0m\u001b[0;34m\u001b[0m\u001b[0m\n\u001b[1;32m     51\u001b[0m             \u001b[0;32mreturn\u001b[0m \u001b[0mself\u001b[0m\u001b[0;34m.\u001b[0m\u001b[0mdispatch_call\u001b[0m\u001b[0;34m(\u001b[0m\u001b[0mframe\u001b[0m\u001b[0;34m,\u001b[0m \u001b[0marg\u001b[0m\u001b[0;34m)\u001b[0m\u001b[0;34m\u001b[0m\u001b[0m\n",
      "\u001b[0;32m/Library/Frameworks/Python.framework/Versions/2.7/lib/python2.7/bdb.pyc\u001b[0m in \u001b[0;36mdispatch_line\u001b[0;34m(self, frame)\u001b[0m\n\u001b[1;32m     66\u001b[0m         \u001b[0;32mif\u001b[0m \u001b[0mself\u001b[0m\u001b[0;34m.\u001b[0m\u001b[0mstop_here\u001b[0m\u001b[0;34m(\u001b[0m\u001b[0mframe\u001b[0m\u001b[0;34m)\u001b[0m \u001b[0;32mor\u001b[0m \u001b[0mself\u001b[0m\u001b[0;34m.\u001b[0m\u001b[0mbreak_here\u001b[0m\u001b[0;34m(\u001b[0m\u001b[0mframe\u001b[0m\u001b[0;34m)\u001b[0m\u001b[0;34m:\u001b[0m\u001b[0;34m\u001b[0m\u001b[0m\n\u001b[1;32m     67\u001b[0m             \u001b[0mself\u001b[0m\u001b[0;34m.\u001b[0m\u001b[0muser_line\u001b[0m\u001b[0;34m(\u001b[0m\u001b[0mframe\u001b[0m\u001b[0;34m)\u001b[0m\u001b[0;34m\u001b[0m\u001b[0m\n\u001b[0;32m---> 68\u001b[0;31m             \u001b[0;32mif\u001b[0m \u001b[0mself\u001b[0m\u001b[0;34m.\u001b[0m\u001b[0mquitting\u001b[0m\u001b[0;34m:\u001b[0m \u001b[0;32mraise\u001b[0m \u001b[0mBdbQuit\u001b[0m\u001b[0;34m\u001b[0m\u001b[0m\n\u001b[0m\u001b[1;32m     69\u001b[0m         \u001b[0;32mreturn\u001b[0m \u001b[0mself\u001b[0m\u001b[0;34m.\u001b[0m\u001b[0mtrace_dispatch\u001b[0m\u001b[0;34m\u001b[0m\u001b[0m\n\u001b[1;32m     70\u001b[0m \u001b[0;34m\u001b[0m\u001b[0m\n",
      "\u001b[0;31mBdbQuit\u001b[0m: "
     ]
    }
   ],
   "source": [
    "crawl_indeed('data scientist', 'new york')"
   ]
  },
  {
   "cell_type": "code",
   "execution_count": 137,
   "metadata": {
    "collapsed": false
   },
   "outputs": [
    {
     "name": "stdout",
     "output_type": "stream",
     "text": [
      "> <ipython-input-129-4d003a18fd7c>(6)get_words()\n",
      "-> post_soup = BeautifulSoup(feedparser.parse(job_post_href)['feed']['summary'], 'html.parser')\n",
      "(Pdb) l\n",
      "  1  \t#method accepts a link to a job post and returns a list of \n",
      "  2  \tdef get_words(job_post_href):\n",
      "  3  \t    \n",
      "  4  \t    pdb.set_trace()\n",
      "  5  \t    #only keep the content\n",
      "  6  ->\t    post_soup = BeautifulSoup(feedparser.parse(job_post_href)['feed']['summary'], 'html.parser')\n",
      "  7  \t\n",
      "  8  \t    text = post_soup.get_text().lower()\n",
      "  9  \t    \n",
      " 10  \t    #keep only letters, but keep '+' for 'c++', '#' for 'c#','3' for 'd3, '!' for 'go!', and  '-' for 'scikit-learn'\n",
      " 11  \t    text = re.sub(\"[^a-z+#3-]\",\" \", text) \n",
      "(Pdb) n\n",
      "> <ipython-input-129-4d003a18fd7c>(8)get_words()\n",
      "-> text = post_soup.get_text().lower()\n",
      "(Pdb) post_soup\n",
      "<svg style=\"display: none;\" xmlns=\"http://www.w3.org/2000/svg\"><path d=\"M61.2 81.8c1.1-1.2 1.5-2.6 1.5-4.7c0-2-0.4-3.3-1.4-4.5c-1.1-1.2-2.4-1.8-4.2-1.8c-3.3 0-5.5 2.6-5.5 6.4 c0 3.9 2.2 6.4 5.5 6.4C59 83.5 60.3 82.9 61.2 81.8z M58.6 73.7c0.4 0.6 0.7 1.6 0.7 3.3c0 2.9-0.6 4.1-2 4.1c-0.6 0-1.3-0.3-1.6-1 c-0.3-0.6-0.4-1.7-0.4-3.1c0-1.2 0.1-2.1 0.3-2.7c0.3-0.8 0.9-1.2 1.7-1.2C57.8 73.1 58.3 73.3 58.6 73.7z M76.8 83.2L80.4 71H77 l-0.9 4.4c-0.3 1.6-0.6 3.5-0.7 4c0 0-0.4-2.1-0.9-4.3l-1-4.1h-3l-1.2 4.1c-0.6 2.1-0.9 4.3-0.9 4.3S68 77 67.7 75.5l-1-4.6h-3.3 l3.4 12.3h3l0.6-2.5c0.3-1.1 0.8-3.3 1.1-4.3c0.2-0.9 0.2-1.1 0.3-1.6c0.1 0.5 0.1 0.6 0.2 1.2c0.1 0.8 0.4 2 0.7 3l1.1 4.2H76.8z M45.8 83.2h3.3l0-17.7l-3.3 0.7L45.8 83.2z M39.4 83.2h3.3l0-17.7l-3.3 0.7L39.4 83.2z M33 83.3h3.2l0-11.5L33 72.5L33 83.3z M34.6 71c1.1 0 2-0.9 2-2c0-1.1-0.9-2-2-2c-1.1 0-2 0.9-2 2C32.7 70.2 33.6 71 34.6 71z M30 83.2l0.9-2.7h-5.6l-1.4 0 c0 0 0.3-0.5 0.6-1.1l6.4-11.1v-2.4h-10L20 68.7h5.2c1 0 1.4 0 1.4 0s-0.2 0.6-0.7 1.4l-6.3 10.8v2.3H30z\"></path><path d=\"M30 48.8c4.9-5.1 22.6-21.5 22.6-21.5c-9.2 2.2-18.8 5.1-22.3 6.7l-5.2 5.3c4.3-0.9 5.7-1.1 8.9-1.6L30 48.8z M62.8 23.2c0 0-15.6 15.8-18.1 18c4.8-1.7 14.5-3.8 20.7-4.1c0.7-2.2 1.5-3.8 1.5-3.8l8.3-0.8C75.2 32.5 68.9 27.4 62.8 23.2z M27.3 56.3c1.8-0.8 18.6-6.4 34.1-7.3c0.3-1.3 2-5.7 2.3-6.9c-16.1 1.1-29.1 6-34.4 8.4L27.3 56.3z M52.4 16.3 c-2.8 1.3-10.8 7.5-15.1 10.7c5.2-1.8 17.8-4.6 24.3-4.7C59.6 20.9 53.9 17.1 52.4 16.3z\"></path></svg><a id=\"top\" name=\"top\"></a><noscript></noscript><div class=\"main-wrapper\" id=\"wrapper\"><div class=\"zsg-modal-mask\"></div><header class=\"zss-header pinnable-header zsg-layout-width layout-width_marginless\"><nav class=\"nav-top nav-top_full \"> <a accesskey=\"1\" class=\"zsg-logo za-track-event\" href=\"http://www.zillow.com/\" title=\"Zillow Real Estate\"></a><svg style=\"display: none;\" xmlns=\"http://www.w3.org/2000/svg\"><path d=\"M61.2 81.8c1.1-1.2 1.5-2.6 1.5-4.7c0-2-0.4-3.3-1.4-4.5c-1.1-1.2-2.4-1.8-4.2-1.8c-3.3 0-5.5 2.6-5.5 6.4 c0 3.9 2.2 6.4 5.5 6.4C59 83.5 60.3 82.9 61.2 81.8z M58.6 73.7c0.4 0.6 0.7 1.6 0.7 3.3c0 2.9-0.6 4.1-2 4.1c-0.6 0-1.3-0.3-1.6-1 c-0.3-0.6-0.4-1.7-0.4-3.1c0-1.2 0.1-2.1 0.3-2.7c0.3-0.8 0.9-1.2 1.7-1.2C57.8 73.1 58.3 73.3 58.6 73.7z M76.8 83.2L80.4 71H77 l-0.9 4.4c-0.3 1.6-0.6 3.5-0.7 4c0 0-0.4-2.1-0.9-4.3l-1-4.1h-3l-1.2 4.1c-0.6 2.1-0.9 4.3-0.9 4.3S68 77 67.7 75.5l-1-4.6h-3.3 l3.4 12.3h3l0.6-2.5c0.3-1.1 0.8-3.3 1.1-4.3c0.2-0.9 0.2-1.1 0.3-1.6c0.1 0.5 0.1 0.6 0.2 1.2c0.1 0.8 0.4 2 0.7 3l1.1 4.2H76.8z M45.8 83.2h3.3l0-17.7l-3.3 0.7L45.8 83.2z M39.4 83.2h3.3l0-17.7l-3.3 0.7L39.4 83.2z M33 83.3h3.2l0-11.5L33 72.5L33 83.3z M34.6 71c1.1 0 2-0.9 2-2c0-1.1-0.9-2-2-2c-1.1 0-2 0.9-2 2C32.7 70.2 33.6 71 34.6 71z M30 83.2l0.9-2.7h-5.6l-1.4 0 c0 0 0.3-0.5 0.6-1.1l6.4-11.1v-2.4h-10L20 68.7h5.2c1 0 1.4 0 1.4 0s-0.2 0.6-0.7 1.4l-6.3 10.8v2.3H30z\"></path><path d=\"M30 48.8c4.9-5.1 22.6-21.5 22.6-21.5c-9.2 2.2-18.8 5.1-22.3 6.7l-5.2 5.3c4.3-0.9 5.7-1.1 8.9-1.6L30 48.8z M62.8 23.2c0 0-15.6 15.8-18.1 18c4.8-1.7 14.5-3.8 20.7-4.1c0.7-2.2 1.5-3.8 1.5-3.8l8.3-0.8C75.2 32.5 68.9 27.4 62.8 23.2z M27.3 56.3c1.8-0.8 18.6-6.4 34.1-7.3c0.3-1.3 2-5.7 2.3-6.9c-16.1 1.1-29.1 6-34.4 8.4L27.3 56.3z M52.4 16.3 c-2.8 1.3-10.8 7.5-15.1 10.7c5.2-1.8 17.8-4.6 24.3-4.7C59.6 20.9 53.9 17.1 52.4 16.3z\"></path></svg> <a accesskey=\"1\" class=\"zsg-logo-menu za-track-event delay-enable\" title=\"Zillow Real Estate\"><img src=\"http://www.zillow.com/static/images/logos/z-logo-menu_carat.svg\"/> </a><a class=\"za-track-event zsg-logo_home-link zsg-link\" href=\"http://www.zillow.com/\"><span>Homepage</span></a><div class=\"nav-top-container\"><div class=\"user-nav nav-top-group nav_hoverable\"> <div class=\"user-nav-placeholder login-section nav-top-group nav_hoverable\"> <section class=\"nav-section nav-top-auth mobile-flex\" id=\"login-block\"> <div class=\"nav-header-content nav-top-auth-icon\"> <a class=\"zss-login-link auth-required login show-lightbox\" href=\"http://www.zillow.com/jobs/JobsOpenings,$PageWrapper.$ui$TopNav2014.canonicalLinksService.loginLink.sdirect?form:jobs/JobsOpenings=ZH4sIAAAAAAAAAFvzloG1PJ6BgYGNkcFZJSAxPTW8KLGgILVIT6U0UyUkv8AvsczIwNBELzkxLz8vMzkxxyczL7s4OLWoLDM5VS8rPzPPJbMoNbkkv6gSJMMgDNRbnFlckpoCMsyvNDcptaigPJRKpvPCTQ%2FOLyopKE9lZAjGZ25iSm5mHpDjVJqZkwKUJteeXEaGUHz2FBTlp2XmpJJhE%2FbwSqeZfeg%2By6ZRCGL1FwAIUh9MbgIAAA%3D%3D\" rel=\"nofollow\" title=\"Sign in\"><span class=\"login-icon zsg-icon-user\"></span></a> </div> <div class=\"nav-header-content nav-top-auth-links\"> <a class=\"zss-login-link auth-required login show-lightbox\" href=\"http://www.zillow.com/jobs/JobsOpenings,$PageWrapper.$ui$TopNav2014.canonicalLinksService.loginLink.sdirect?form:jobs/JobsOpenings=ZH4sIAAAAAAAAAFvzloG1PJ6BgYGNkcFZJSAxPTW8KLGgILVIT6U0UyUkv8AvsczIwNBELzkxLz8vMzkxxyczL7s4OLWoLDM5VS8rPzPPJbMoNbkkv6gSJMMgDNRbnFlckpoCMsyvNDcptaigPJRKpvPCTQ%2FOLyopKE9lZAjGZ25iSm5mHpDjVJqZkwKUJteeXEaGUHz2FBTlp2XmpJJhE%2FbwSqeZfeg%2By6ZRCGL1FwAIUh9MbgIAAA%3D%3D\" id=\"login_opener\" rel=\"nofollow\" title=\"Sign in\"><span>Sign in</span></a>  or   <a class=\"auth-required register show-lightbox\" href=\"http://www.zillow.com/jobs/JobsOpenings,$PageWrapper.$ui$TopNav2014.canonicalLinksService.registerLink.sdirect?form:jobs/JobsOpenings=ZH4sIAAAAAAAAAFvzloG1PJ6BgYGNkcFZJSAxPTW8KLGgILVIT6U0UyUkv8AvsczIwNBELzkxLz8vMzkxxyczL7s4OLWoLDM5VS8rPzPPJbMoNbkkv6gSJMMgDNRbnFlckpoCMsyvNDcptaigPJRKpvPCTQ%2FOLyopKE9lZAjGZ25iSm5mHpDjVJqZkwKUJteeXEaGUHz2FBTlp2XmpJJhE%2FbwSqeZfeg%2By6ZRCGL1FwAIUh9MbgIAAA%3D%3D\" id=\"register_opener\" rel=\"nofollow\" title=\"Join\"><span>Join</span></a> </div> <section class=\"nav-section nav-top-placeholder nav-top_non-mobile\"><div class=\"zss-account-popup-container\"></div></section> </section> </div> <section class=\"nav-section nav-section-help nav-top-narrow_hidden\"><div class=\"nav-header-content\"><a href=\"https://zillow.zendesk.com/hc/en-us\" title=\"Zillow Help Center\"><span class=\"zsg-icon-circle-question\"></span></a></div></section></div><div class=\"main-nav nav-top-group nav_hoverable\"> <section class=\"nav-section nav-dropdown nav-section_wide\"> <header class=\"nav-header\"> <a class=\"\" href=\"http://www.zillow.com/homes/\" title=\"Buy\"><span>Buy</span></a> <span class=\"zsg-icon-expando-down\"></span> </header> <ul class=\"nav-content\"> <li> <header class=\"nav-sub-header\">  Homes for sale </header> <ul class=\"nav-link-section list-drawer\"> <li> <ul class=\"nav-link-list\"> <li> <a class=\"\" href=\"http://www.zillow.com/homes/for_sale/\" title=\"Homes for sale\"><span>Homes for sale</span></a> </li> <li> <a class=\"\" href=\"http://www.zillow.com/homes/for_sale/fore_lt/pmf,pf_pt/\" title=\"Foreclosures\"><span>Foreclosures</span></a> </li> <li> <a class=\"\" href=\"http://www.zillow.com/homes/fsbo/\" title=\"For sale by owner\"><span>For sale by owner</span></a> </li> <li> <a class=\"\" href=\"http://www.zillow.com/homes/for_sale/1_open/\" title=\"Open houses\"><span>Open houses</span></a> </li> </ul> </li> <li> <ul class=\"nav-link-list\"> <li> <a class=\"\" href=\"http://www.zillow.com/homes/new_homes/0_mmm/\" title=\"New construction\"><span>New construction</span></a> </li> <li> <a class=\"\" href=\"http://www.zillow.com/homes/coming_soon/cmsn_lt/\" title=\"Coming soon\"><span>Coming soon</span></a> </li> <li> <a class=\"\" href=\"http://www.zillow.com/homes/recently_sold/\" title=\"Recent home sales\"><span>Recent home sales</span></a> </li> <li> <a class=\"\" href=\"http://www.zillow.com/browse/homes/\" title=\"All homes\"><span>All homes</span></a> </li> </ul> </li> </ul> </li> <li> <header class=\"nav-sub-header\">  Resources </header> <ul class=\"nav-link-section \"> <li> <ul class=\"nav-link-list\"> <li> <a class=\"\" href=\"http://www.zillow.com/home-buying-guide/\" title=\"Buyers Guide\"><span>Buyers Guide</span></a> </li> <li> <a class=\"\" href=\"http://www.zillow.com/foreclosures/\" title=\"Foreclosure center\"><span>Foreclosure center</span></a> </li> <li> <a class=\"\" href=\"http://www.zillow.com/mobile/realestate\" title=\"Real estate app\"><span>Real estate app</span></a> </li> </ul> </li> </ul> </li> </ul> </section> <section class=\"nav-section nav-dropdown nav-section_wide\"> <header class=\"nav-header\"> <a class=\"\" href=\"http://www.zillow.com/homes/for_rent/\" title=\"Rent\"><span>Rent</span></a> <span class=\"zsg-icon-expando-down\"></span> </header> <ul class=\"nav-content\"> <li> <header class=\"nav-sub-header\">  Rentals </header> <ul class=\"nav-link-section \"> <li> <ul class=\"nav-link-list\"> <li> <a class=\"\" href=\"http://www.zillow.com/homes/for_rent/condo,apartment_duplex_type/\" title=\"Apartments for rent\"><span>Apartments for rent</span></a> </li> <li> <a class=\"\" href=\"http://www.zillow.com/homes/for_rent/house,townhouse_type/\" title=\"Houses for rent\"><span>Houses for rent</span></a> </li> <li> <a class=\"\" href=\"http://www.zillow.com/homes/for_rent/1_pets/\" title=\"Pet friendly rentals\"><span>Pet friendly rentals</span></a> </li> <li> <a class=\"\" href=\"http://www.zillow.com/homes/for_rent/\" title=\"All rental listings\"><span>All rental listings</span></a> </li> <li> <a class=\"\" href=\"http://www.zillow.com/browse/b/\" title=\"All rental buildings\"><span>All rental buildings</span></a> </li> </ul> </li> </ul> </li> <li> <header class=\"nav-sub-header\">  Build your Renter Profile </header> <ul class=\"nav-link-section \"> <li> <ul class=\"nav-link-list\"> <li> <p class=\"nav-top-narrow_hidden\">Boost your chances of landing the perfect rental by completing a profile.</p> </li> <li> <a class=\"\" href=\"https://www.zillow.com/renter-profile/\" title=\"Renter profile\"><span>Start yours and stand out!</span></a> </li> </ul> </li> </ul> </li> <li> <header class=\"nav-sub-header\">  Resources </header> <ul class=\"nav-link-section \"> <li> <ul class=\"nav-link-list\"> <li> <a class=\"\" href=\"http://www.zillow.com/rent-affordability-calculator/\" title=\"Rent affordability calculator\"><span>Rent affordability calculator</span></a> </li> <li> <a class=\"\" href=\"http://www.zillow.com/rent-vs-buy-calculator/\" title=\"Rent vs. buy calculator\"><span>Rent vs. buy calculator</span></a> </li> <li> <a class=\"\" href=\"http://www.zillow.com/rent/guide/\" title=\"Renters Guide\"><span>Renters Guide</span></a> </li> <li> <a class=\"\" href=\"http://www.zillow.com/mobile/rentals\" title=\"Rentals app\"><span>Rentals app</span></a> </li> <li> <a class=\"\" href=\"http://www.zillow.com/rental-property-advertising/\" title=\"Rental pro real estate advertising\"><span>Rental advertising</span></a> </li> </ul> </li> </ul> </li> <li> <header class=\"nav-sub-header\">  Rental Manager </header> <ul class=\"nav-link-section \"> <li> <ul class=\"nav-link-list\"> <li> <a class=\"\" href=\"https://www.zillow.com/rental-manager/posts/all/?source=topnav&amp;itc=postbutton_topnav\" id=\"ZRMYourListings\" title=\"Your listings\"><span>Sign in to see your listings</span></a> </li> <li> <a class=\"\" href=\"https://www.zillow.com/rental-manager/\" id=\"ZRMPostListing\" title=\"Post a rental\"><span>List a rental (it's free)</span></a> </li> <li> <a class=\"\" href=\"https://www.zillow.com/rental-manager/how-it-works/?source=topnav&amp;itc=postbutton_topnav\" id=\"ZRMHowItWorks\" title=\"How it works\"><span>How it works</span></a> </li> <li> <a class=\"\" href=\"https://www.zillow.com/rental-manager/resources/?source=topnav&amp;itc=postbutton_topnav\" id=\"ZRMResources\" title=\"Resources\"><span>Resources</span></a> </li> </ul> </li> </ul> </li> </ul> </section> <section class=\"nav-section nav-dropdown nav-section_wide\"> <header class=\"nav-header\"> <a class=\"\" href=\"http://www.zillow.com/how-much-is-my-home-worth/\" title=\"Sell\"><span>Sell</span></a> <span class=\"zsg-icon-expando-down\"></span> </header> <ul class=\"nav-content\"> <li> <header class=\"nav-sub-header\">  Selling tools </header> <ul class=\"nav-link-section \"> <li> <ul class=\"nav-link-list\"> <li> <a class=\"\" href=\"http://www.zillow.com/how-much-is-my-home-worth/\" title=\"See your home's Zestimate\"><span>See your home's Zestimate</span></a> </li> <li> <a class=\"\" href=\"http://www.zillow.com/home-values/\" title=\"Neighborhood Home Values\"><span>Neighborhood Home Values</span></a> </li> </ul> </li> </ul> </li> <li> <header class=\"nav-sub-header\">  Post a home for sale </header> <ul class=\"nav-link-section \"> <li> <ul class=\"nav-link-list\"> <li> <a class=\"\" href=\"http://www.zillow.com/post-real-estate-listings/\" title=\"For sale by agent\"><span>For sale by agent</span></a> </li> <li> <a class=\"\" href=\"http://www.zillow.com/for-sale-by-owner/\" title=\"For sale by owner\"><span>For sale by owner</span></a> </li> <li> <a class=\"\" href=\"http://www.zillow.com/coming-soon/\" title=\"Coming Soon\"><span>Coming soon</span></a> </li> <li> <a class=\"\" href=\"http://www.zillow.com/make-me-move/\" title=\"Make Me Move\"><span>Make me move</span></a> </li> </ul> </li> </ul> </li> </ul> </section> <section class=\"nav-section nav-dropdown nav-section_wide\"> <header class=\"nav-header\"> <a class=\"\" href=\"https://www.zillow.com/home-loans/\" title=\"Mortgages\"><span>Mortgages</span></a> <span class=\"zsg-icon-expando-down\"></span> </header> <ul class=\"nav-content\"> <li> <header class=\"nav-sub-header\">  Shop mortgages </header> <ul class=\"nav-link-section \"> <li> <ul class=\"nav-link-list\"> <li> <a class=\"\" href=\"https://www.zillow.com/home-loans/\" title=\"Mortgage lenders\"><span>Mortgage lenders</span></a> </li> <li> <a class=\"\" href=\"https://www.zillow.com/mortgage-rates/\" title=\"Mortgage rates\"><span>Mortgage rates</span></a> </li> <li> <a class=\"\" href=\"https://www.zillow.com/browse/mortgage/\" title=\"All mortgage rates\"><span>All mortgage rates</span></a> </li> </ul> </li> </ul> </li> <li> <header class=\"nav-sub-header\">  Refinance </header> <ul class=\"nav-link-section \"> <li> <ul class=\"nav-link-list\"> <li> <a class=\"\" href=\"https://www.zillow.com/refinance/\" title=\"Refinance rates\"><span>Refinance rates</span></a> </li> <li> <a class=\"\" href=\"http://www.zillow.com/mortgage-learning/harp-refinance/\" title=\"HARP program\"><span>HARP program</span></a> </li> </ul> </li> </ul> </li> <li> <header class=\"nav-sub-header\">  Calculators </header> <ul class=\"nav-link-section \"> <li> <ul class=\"nav-link-list\"> <li> <a class=\"\" href=\"https://www.zillow.com/mortgage-calculator/\" title=\"Mortgage calculator\"><span>Mortgage calculator</span></a> </li> <li> <a class=\"\" href=\"https://www.zillow.com/mortgage-calculator/house-affordability/\" title=\"Affordability calculator\"><span>Affordability calculator</span></a> </li> <li> <a class=\"\" href=\"https://www.zillow.com/mortgage-calculator/refinance-calculator/\" title=\"Refinance calculator\"><span>Refinance calculator</span></a> </li> </ul> </li> </ul> </li> <li> <header class=\"nav-sub-header\">  Resources </header> <ul class=\"nav-link-section \"> <li> <ul class=\"nav-link-list\"> <li> <a class=\"\" href=\"https://www.zillow.com/lender-directory/\" title=\"Lender directory\"><span>Lender directory</span></a> </li> <li> <a class=\"\" href=\"http://www.zillow.com/mortgage-learning/\" title=\"Mortgage learning center\"><span>Mortgage learning center</span></a> </li> <li> <a class=\"\" href=\"http://www.zillow.com/lender-resources/\" title=\"Lender resource center\"><span>Lender resource center</span></a> </li> </ul> </li> </ul> </li> </ul> </section> <section class=\"nav-section nav-dropdown nav-section_wide\"> <header class=\"nav-header\"> <a class=\"\" href=\"http://www.zillow.com/agent-finder/real-estate-agent-reviews/\" title=\"Agent finder\"><span>Agent finder</span></a> <span class=\"zsg-icon-expando-down\"></span> </header> <ul class=\"nav-content\"> <li> <header class=\"nav-sub-header\">  Looking for pros? </header> <ul class=\"nav-link-section list-drawer\"> <li> <ul class=\"nav-link-list\"> <li> <a class=\"\" href=\"http://www.zillow.com/agent-finder/real-estate-agent-reviews/\" title=\"Real estate agents\"><span>Real estate agents</span></a> </li> <li> <a class=\"\" href=\"http://www.zillow.com/agent-finder/property-manager-reviews/\" title=\"Property managers\"><span>Property managers</span></a> </li> </ul> </li> <li> <ul class=\"nav-link-list\"> <li> <a class=\"\" href=\"http://www.zillow.com/agent-finder/home-improvement-reviews/\" title=\"Home improvement pros\"><span>Home improvement pros</span></a> </li> <li> <a class=\"\" href=\"http://www.zillow.com/agent-finder/real-estate-services-reviews/\" title=\"Other pros\"><span>Other pros</span></a> </li> </ul> </li> </ul> </li> <li> <header class=\"nav-sub-header\">  I'm a pro </header> <ul class=\"nav-link-section list-drawer\"> <li> <ul class=\"nav-link-list\"> <li> <a class=\"\" href=\"http://www.zillow.com/agent-advertising/\" title=\"Agent advertising\"><span>Agent advertising</span></a> </li> <li> <a class=\"\" href=\"http://www.zillow.com/agent-resources/\" title=\"Agent resource center\"><span>Agent resource center</span></a> </li> <li> <a class=\"\" href=\"http://www.zillow.com/jobs/JobsOpenings,$PageWrapper.$ui$TopNav2014.canonicalLinksService.joinDirectoryLink.sdirect?form:jobs/JobsOpenings=ZH4sIAAAAAAAAAFvzloG1PJ6BgYGNkcFZJSAxPTW8KLGgILVIT6U0UyUkv8AvsczIwNBELzkxLz8vMzkxxyczL7s4OLWoLDM5VS8rPzPPJbMoNbkkv6gSJMMgDNRbnFlckpoCMsyvNDcptaigPJRKpvPCTQ%2FOLyopKE9lZAjGZ25iSm5mHpDjVJqZkwKUJteeXEaGUHz2FBTlp2XmpJJhE%2FbwSqeZfeg%2By6ZRCGL1FwAIUh9MbgIAAA%3D%3D\" title=\"Join the Agent Directory\"><span>Join the Agent Directory</span></a> </li> <li> <a class=\"\" href=\"http://www.zillow.com/agents/\" title=\"Access agent hub\"><span>Access agent hub</span></a> </li> </ul> </li> <li> <ul class=\"nav-link-list\"> <li> <a class=\"\" href=\"http://www.zillow.com/agent-resources/content/real-estate-marketing-for-agents/\" title=\"Real estate marketing guide\"><span>Real estate marketing guide</span></a> </li> <li> <a class=\"\" href=\"http://www.zillow.com/agent-resources/content/agent-email-scripts/\" title=\"Agent email scripts\"><span>Agent email scripts</span></a> </li> <li> <a class=\"\" href=\"http://www.zillow.com/agent-resources/content/real-estate-listing-flyer-templates/\" title=\"Listing flyer templates\"><span>Listing flyer templates</span></a> </li> </ul> </li> </ul> </li> </ul> </section> <section class=\"nav-section nav-dropdown nav-section_wide\"> <header class=\"nav-header\"> <a class=\"\" href=\"http://www.zillow.com/advice/\" title=\"Advice\"><span>Advice</span></a> <span class=\"zsg-icon-expando-down\"></span> </header> <ul class=\"nav-content\"> <li> <header class=\"nav-sub-header\">  Discussion topics </header> <ul class=\"nav-link-section list-drawer\"> <li> <ul class=\"nav-link-list\"> <li> <a class=\"\" href=\"http://www.zillow.com/advice/US/home-buying/question-discussion-guide/\" title=\"Home buying\"><span>Home buying</span></a> </li> <li> <a class=\"\" href=\"http://www.zillow.com/advice/US/home-selling/question-discussion-guide/\" title=\"Home selling\"><span>Home selling</span></a> </li> </ul> </li> <li> <ul class=\"nav-link-list\"> <li> <a class=\"\" href=\"http://www.zillow.com/advice/US/mortgage/question-discussion-guide/\" title=\"Mortgage\"><span>Mortgage</span></a> </li> <li> <a class=\"\" href=\"http://www.zillow.com/advice/US/rentals/question-discussion-guide/\" title=\"Rentals\"><span>Rentals</span></a> </li> </ul> </li> </ul> </li> </ul> </section> <section class=\"nav-section nav-dropdown nav-section_wide\"> <header class=\"nav-header\"> <a class=\"\" href=\"http://www.zillow.com/digs/\" title=\"Home design\"><span>Home design</span></a> <span class=\"zsg-icon-expando-down\"></span> </header> <ul class=\"nav-content\"> <li> <header class=\"nav-sub-header\">  Find design ideas </header> <ul class=\"nav-link-section list-drawer\"> <li> <ul class=\"nav-link-list\"> <li> <a class=\"\" href=\"http://www.zillow.com/digs/kitchens/\" title=\"Kitchens\"><span>Kitchens</span></a> </li> <li> <a class=\"\" href=\"http://www.zillow.com/digs/bathrooms/\" title=\"Bathrooms\"><span>Bathrooms</span></a> </li> <li> <a class=\"\" href=\"http://www.zillow.com/digs/bedrooms/\" title=\"Bedrooms\"><span>Bedrooms</span></a> </li> </ul> </li> <li> <ul class=\"nav-link-list\"> <li> <a class=\"\" href=\"http://www.zillow.com/digs/dining-rooms/\" title=\"Dining rooms\"><span>Dining rooms</span></a> </li> <li> <a class=\"\" href=\"http://www.zillow.com/digs/living-rooms/\" title=\"Living rooms\"><span>Living rooms</span></a> </li> <li> <a class=\"\" href=\"http://www.zillow.com/digs/\" title=\"Explore Digs\"><span>See all spaces</span></a> </li> </ul> </li> </ul> </li> <li> <header class=\"nav-sub-header\">  Popular styles </header> <ul class=\"nav-link-section \"> <li> <ul class=\"nav-link-list\"> <li> <a class=\"\" href=\"http://www.zillow.com/digs/contemporary/\" title=\"Contemporary\"><span>Contemporary</span></a> </li> <li> <a class=\"\" href=\"http://www.zillow.com/digs/traditional/\" title=\"Traditional\"><span>Traditional</span></a> </li> <li> <a class=\"\" href=\"http://www.zillow.com/digs/modern/\" title=\"Modern\"><span>Modern</span></a> </li> </ul> </li> </ul> </li> <li> <header class=\"nav-sub-header\">  Popular Features </header> <ul class=\"nav-link-section list-drawer\"> <li> <ul class=\"nav-link-list\"> <li> <a class=\"\" href=\"http://www.zillow.com/digs/wallpaper/\" title=\"Wallpaper\"><span>Wallpaper</span></a> </li> <li> <a class=\"\" href=\"http://www.zillow.com/digs/chandelier/\" title=\"Chandelier\"><span>Chandelier</span></a> </li> <li> <a class=\"\" href=\"http://www.zillow.com/digs/kitchens-cabinets/\" title=\"Kitchen Cabinets\"><span>Kitchen Cabinets</span></a> </li> </ul> </li> <li> <ul class=\"nav-link-list\"> <li> <a class=\"\" href=\"http://www.zillow.com/digs/patio-furniture/\" title=\"Patio Furniture\"><span>Patio Furniture</span></a> </li> <li> <a class=\"\" href=\"http://www.zillow.com/digs/bathroom-vanity/\" title=\"Bathroom Vanities\"><span>Bathroom Vanities</span></a> </li> <li> <a class=\"\" href=\"http://www.zillow.com/digs/area-rug/\" title=\"Area Rugs\"><span>Area Rugs</span></a> </li> </ul> </li> </ul> </li> </ul> </section> <section class=\"nav-section nav-dropdown nav-section_wide\"> <header class=\"nav-header\"> <a tabindex=\"0\"><span>More</span> </a> <span class=\"zsg-icon-expando-down\"></span> </header> <ul class=\"nav-content\"> <li> <header class=\"nav-sub-header\">  Blogs </header> <ul class=\"nav-link-section \"> <li> <ul class=\"nav-link-list\"> <li> <a class=\"\" href=\"http://www.zillow.com/blog/\" title=\"Zillow Porchlight\"><span>Zillow Porchlight</span></a> </li> <li> <a class=\"\" href=\"http://engineering.zillow.com/\" title=\"Zillow engineering blog\"><span>Zillow engineering blog</span></a> </li> <li> <a class=\"\" href=\"http://www.zillow.com/research/\" title=\"Zillow research\"><span>Zillow research</span></a> </li> </ul> </li> </ul> </li> </ul> </section> </div></div></nav></header><div class=\"zsg-layout-width zsg-layout-top job-desc\"><div class=\"description-section\"><div class=\"desc-header zsg-content-component zsg-separator\"><a href=\"http://www.zillow.com/jobs\">Careers Home</a> | <a href=\"http://www.zillow.com/jobs/openings\">Career Opportunities</a></div><h2 class=\"zsg-content_collapsed\">Data Scientist</h2><div class=\"colored-text zsg-content-component\"><h5>Technology | New York, NY</h5></div><div class=\"zsg-content-component\"><ul class=\"zsg-button-group\"><li><a class=\"zsg-button_primary apply-button\" href=\"http://www.zillow.com/jobs/apply?j=oBpE3fwr&amp;jvs=IndeedSponsored&amp;jvk=Job\" rel=\"nofollow\">Apply</a></li><li><a class=\"zsg-button_primary email-button\" href=\"mailto:?Subject=Job Opening at Zillow: Data Scientist&amp;body=Check out this great job at Zillow!%0D%0AData Scientist%0D%0Ahttp://www.zillow.com/jobs/openings?j=oBpE3fwr&amp;jvs=IndeedSponsored&amp;jvk=Job\" rel=\"nofollow\" target=\"_top\">Email Listing to a Friend</a></li></ul></div><section class=\"zsg-content-section\"><p><p>The StreetEasy Economic Research team is looking for an outstanding Data Scientist to join us. You will be responsible for deriving fascinating insights on the New York housing market from terabytes of StreetEasy market and usage data.</p><p>This role will require a candidate who can apply a breadth of tools, data sources and analytical techniques to answer a wide range of high level questions and present the insights in a concise and effective manner. You'll work in an informal, collaborative atmosphere with a team of smart self-starters like yourself.\\xa0</p><p>\\xa0</p><p><strong><u>Responsibilities</u></strong></p><ul class=\"zsg-list_square\"><li>Apply quantitative techniques to uncover NYC housing market insights from StreetEasy, New York City and partner data sets.</li><li>Tell stories with economic and market data for use by NYC home buyers, sellers, renters and agents as well as major media outlets and policy makers.</li><li>Partner with PR and Marketing teams to craft and publish narratives around your findings.</li><li>Recommend and implement improvements to internal data management, analysis and automation processes.</li></ul><p><strong><u>\\xa0</u></strong></p><p><strong><u>Qualifications</u></strong></p><ul class=\"zsg-list_square\"><li>Demonstrated ability in both R (2+ experience) and SQL.</li><li>3+ years professional experience required</li><li>A MA/MS in statistics, mathematics, computer science, economics, or another quantitative field is preferred. BA/SA required.</li><li>Innate curiosity to find and explore new problems and questions.</li><li>Knowledge of NYC neighborhoods and NYC housing policy a plus (ie. affordability, rent control, rezoning, minimum wage, overcrowding, tax breaks etc.)</li><li>Able to develop data visualizations through Tableau or similar software preferred.</li><li>Detail-oriented, analytical, and accurate.</li><li>Strong verbal and written communications skills.</li><li>Excellent project management skills.</li></ul><br/><strong>*LI-POST</strong></p></section><div class=\"zsg-content-component\"><ul class=\"zsg-button-group\"><li><a class=\"zsg-button_primary apply-button\" href=\"http://www.zillow.com/jobs/apply?j=oBpE3fwr&amp;jvs=IndeedSponsored&amp;jvk=Job\" rel=\"nofollow\">Apply</a></li><li><a class=\"zsg-button_primary email-button\" href=\"mailto:?Subject=Job Opening at Zillow: Data Scientist&amp;body=Check out this great job at Zillow!%0D%0AData Scientist%0D%0Ahttp://www.zillow.com/jobs/openings?j=oBpE3fwr&amp;jvs=IndeedSponsored&amp;jvk=Job\" rel=\"nofollow\" target=\"_top\">Email Listing to a Friend</a></li></ul></div><section class=\"zsg-content-section\"><div class=\"back-link\"><a href=\"http://www.zillow.com/jobs\">&lt; Back to Careers Home</a></div></section></div>\\n<div class=\"openings-back-link\"><a href=\"http://www.zillow.com/jobs/openings/\">&lt; Back to Current Openings</a></div>\\n<p style=\"margin-bottom: 0;\">\\xa0</p>\\n</div><footer class=\"zsg-footer\" id=\"footer\"><div class=\"zsg-footer-nav zsg-separator zsg-separator_narrow\"><nav class=\"zsg-footer-row zsg-footer-linklist-container\"><ul class=\"zsg-list_inline zsg-footer-linklist zsg-fineprint-header\"><li><a class=\"za-track-event zsg-link_primary\" href=\"http://www.zillow.com/corp/About.htm\">About</a></li><li><a class=\"za-track-event\" href=\"http://www.zillow.com/zestimate/\">Zestimates</a></li><li><a class=\"za-track-event zsg-link_primary\" href=\"http://www.zillow.com/research/\">Research</a></li><li><a class=\"za-track-event zsg-link_primary\" href=\"http://www.zillow.com/jobs/\">Jobs</a></li><li><a class=\"za-track-event zsg-link_primary\" href=\"http://www.zillow.com/help/\">Help</a></li><li><a class=\"za-track-event zsg-link_primary\" href=\"http://www.zillow.com/advertise/\">Advertise</a></li><li><a class=\"za-track-event zsg-link_primary\" href=\"http://www.zillow.com/corp/Terms.htm\">Terms of use &amp; Privacy</a></li><li><a class=\"za-track-event zsg-link_primary\" href=\"http://www.zillow.com/corp/Privacy.htm#behavioralAdvertising\">Ad Choice</a></li><li><div class=\"za-track-event zsg-link_primary\" id=\"teconsent\"></div></li><li><a class=\"za-track-event zsg-link_primary\" href=\"http://www.zillow.com/blog/\">Blog</a></li><li><a class=\"za-track-event zsg-link_primary\" href=\"http://www.zillow.com/mobile/\">Mobile Apps</a></li></ul><span class=\"zsg-icon-expando-down zsg-footer-nav-arrow zsg-footer-nav-arrow-open\"></span><span class=\"zsg-icon-expando-up zsg-footer-nav-arrow zsg-footer-nav-arrow-close\"></span></nav></div><div class=\"zsg-footer-copyright zsg-footer-row\"><ul class=\"zsg-list_inline\"><li></li><li>\\xa9 2006-2016 Zillow</li><li><div class=\"zsg-footer-follow\"><span>Follow us</span><a class=\"za-track-event\" href=\"http://www.facebook.com/Zillow\" rel=\"nofollow\" target=\"_blank\"><span class=\"zsg-icon-facebook\"></span></a><a class=\"za-track-event\" href=\"http://twitter.com/zillow\" rel=\"nofollow\" target=\"_blank\"><span class=\"zsg-icon-twitter\"></span></a><a class=\"za-track-event\" href=\"http://plus.google.com/+Zillow\" rel=\"nofollow\" target=\"_blank\"><span class=\"zsg-icon-google-plus\"></span></a></div></li></ul></div></footer></div><div class=\"template hide\" id=\"login_src\"></div><div class=\"template hide\" id=\"register_src\"></div><div class=\"template hide\" id=\"forgotPassword_src\"></div><div class=\"zsg-hide\" id=\"googleAutoSignInNode\"></div>&amp;<div class=\"hide\" id=\"analytics\"><noscript><img alt=\"\" height=\"0\" src=\"http://b.scorecardresearch.com/b2?c1=2&amp;c2=6036206&amp;c3=&amp;c4=www.zillow.com/jobs/openings&amp;c5=&amp;c6=&amp;c15=&amp;cv=1.3&amp;cj=1\" style=\"display: none;\" width=\"0\"/></noscript></div>&amp;&amp;&amp;&amp;&amp;&amp;&amp;&amp;&amp;&amp;<div class=\"auth-nav-animation-block hide\"><div class=\"auth-nav-animation zsg-header-content\"><span><a class=\"zsg-icon-x-thick close\" tabindex=\"-1\" title=\"Close\"></a></span><a class=\"zsg-button_alt auth-button nav-item nav-primary-item nav-item-button tengage-reg-nav nav-text nav-animation show-lightbox auth-required login\" href=\"http://www.zillow.com/jobs/JobsOpenings,$PageWrapper.$links$LoginLink.sdirect?form:jobs/JobsOpenings=ZH4sIAAAAAAAAAFvzloG1PJ6BgYGNkcFZJSAxPTW8KLGgILVIT6U0UyUkv8AvsczIwNBELzkxLz8vMzkxxyczL7s4OLWoLDM5VS8rPzPPJbMoNbkkv6gSJMMgDNRbnFlckpoCMsyvNDcptaigPJRKpvPCTQ%2FOLyopKE9lZAjGZ25iSm5mHpDjVJqZkwKUJteeXEaGUHz2FBTlp2XmpJJhE%2FbwSqeZfeg%2By6ZRCGL1FwAIUh9MbgIAAA%3D%3D\" id=\"login_opener\" rel=\"nofollow\" title=\"Sign In\"></a><p class=\"animation-block-text\"><span></span><span><a class=\"nav-item nav-primary-item tengage-reg-nav nav-text nav-animation show-lightbox auth-required register\" href=\"http://www.zillow.com/jobs/JobsOpenings,$PageWrapper.$links$RegisterLink.sdirect?form:jobs/JobsOpenings=ZH4sIAAAAAAAAAFvzloG1PJ6BgYGNkcFZJSAxPTW8KLGgILVIT6U0UyUkv8AvsczIwNBELzkxLz8vMzkxxyczL7s4OLWoLDM5VS8rPzPPJbMoNbkkv6gSJMMgDNRbnFlckpoCMsyvNDcptaigPJRKpvPCTQ%2FOLyopKE9lZAjGZ25iSm5mHpDjVJqZkwKUJteeXEaGUHz2FBTlp2XmpJJhE%2FbwSqeZfeg%2By6ZRCGL1FwAIUh9MbgIAAA%3D%3D\" id=\"register_opener\" rel=\"nofollow\" title=\"Sign up\"></a></span></p></div></div>&amp;&amp;&gt;&amp;&amp;&gt;&amp;&amp;&gt;&amp;&amp;&amp;&amp;&amp;&amp;&amp;&amp;&gt;\n",
      "(Pdb) n\n",
      "> <ipython-input-129-4d003a18fd7c>(11)get_words()\n",
      "-> text = re.sub(\"[^a-z+#3-]\",\" \", text)\n",
      "(Pdb) text\n",
      "u\"   homepage       sign in  or   join        buy       homes for sale      homes for sale   foreclosures   for sale by owner   open houses       new construction   coming soon   recent home sales   all homes         resources      buyers guide   foreclosure center   real estate app          rent       rentals      apartments for rent   houses for rent   pet friendly rentals   all rental listings   all rental buildings         build your renter profile      boost your chances of landing the perfect rental by completing a profile.   start yours and stand out!         resources      rent affordability calculator   rent vs. buy calculator   renters guide   rentals app   rental advertising         rental manager      sign in to see your listings   list a rental (it's free)   how it works   resources          sell       selling tools      see your home's zestimate   neighborhood home values         post a home for sale      for sale by agent   for sale by owner   coming soon   make me move          mortgages       shop mortgages      mortgage lenders   mortgage rates   all mortgage rates         refinance      refinance rates   harp program         calculators      mortgage calculator   affordability calculator   refinance calculator         resources      lender directory   mortgage learning center   lender resource center          agent finder       looking for pros?      real estate agents   property managers       home improvement pros   other pros         i'm a pro      agent advertising   agent resource center   join the agent directory   access agent hub       real estate marketing guide   agent email scripts   listing flyer templates          advice       discussion topics      home buying   home selling       mortgage   rentals          home design       find design ideas      kitchens   bathrooms   bedrooms       dining rooms   living rooms   see all spaces         popular styles      contemporary   traditional   modern         popular features      wallpaper   chandelier   kitchen cabinets       patio furniture   bathroom vanities   area rugs          more        blogs      zillow porchlight   zillow engineering blog   zillow research        careers home | career opportunitiesdata scientisttechnology | new york, nyapplyemail listing to a friendthe streeteasy economic research team is looking for an outstanding data scientist to join us. you will be responsible for deriving fascinating insights on the new york housing market from terabytes of streeteasy market and usage data.this role will require a candidate who can apply a breadth of tools, data sources and analytical techniques to answer a wide range of high level questions and present the insights in a concise and effective manner. you'll work in an informal, collaborative atmosphere with a team of smart self-starters like yourself.\\xa0\\xa0responsibilitiesapply quantitative techniques to uncover nyc housing market insights from streeteasy, new york city and partner data sets.tell stories with economic and market data for use by nyc home buyers, sellers, renters and agents as well as major media outlets and policy makers.partner with pr and marketing teams to craft and publish narratives around your findings.recommend and implement improvements to internal data management, analysis and automation processes.\\xa0qualificationsdemonstrated ability in both r (2+ experience) and sql.3+ years professional experience requireda ma/ms in statistics, mathematics, computer science, economics, or another quantitative field is preferred. ba/sa required.innate curiosity to find and explore new problems and questions.knowledge of nyc neighborhoods and nyc housing policy a plus (ie. affordability, rent control, rezoning, minimum wage, overcrowding, tax breaks etc.)able to develop data visualizations through tableau or similar software preferred.detail-oriented, analytical, and accurate.strong verbal and written communications skills.excellent project management skills.*li-postapplyemail listing to a friend< back to careers home\\n< back to current openings\\n\\xa0\\naboutzestimatesresearchjobshelpadvertiseterms of use & privacyad choiceblogmobile apps\\xa9 2006-2016 zillowfollow us&&&&&&&&&&&&&>&&>&&>&&&&&&&&>\"\n",
      "(Pdb) n\n",
      "> <ipython-input-129-4d003a18fd7c>(14)get_words()\n",
      "-> lines = [line.strip().lower() for line in text.splitlines()]\n",
      "(Pdb) text\n",
      "u'   homepage       sign in  or   join        buy       homes for sale      homes for sale   foreclosures   for sale by owner   open houses       new construction   coming soon   recent home sales   all homes         resources      buyers guide   foreclosure center   real estate app          rent       rentals      apartments for rent   houses for rent   pet friendly rentals   all rental listings   all rental buildings         build your renter profile      boost your chances of landing the perfect rental by completing a profile    start yours and stand out          resources      rent affordability calculator   rent vs  buy calculator   renters guide   rentals app   rental advertising         rental manager      sign in to see your listings   list a rental  it s free    how it works   resources          sell       selling tools      see your home s zestimate   neighborhood home values         post a home for sale      for sale by agent   for sale by owner   coming soon   make me move          mortgages       shop mortgages      mortgage lenders   mortgage rates   all mortgage rates         refinance      refinance rates   harp program         calculators      mortgage calculator   affordability calculator   refinance calculator         resources      lender directory   mortgage learning center   lender resource center          agent finder       looking for pros       real estate agents   property managers       home improvement pros   other pros         i m a pro      agent advertising   agent resource center   join the agent directory   access agent hub       real estate marketing guide   agent email scripts   listing flyer templates          advice       discussion topics      home buying   home selling       mortgage   rentals          home design       find design ideas      kitchens   bathrooms   bedrooms       dining rooms   living rooms   see all spaces         popular styles      contemporary   traditional   modern         popular features      wallpaper   chandelier   kitchen cabinets       patio furniture   bathroom vanities   area rugs          more        blogs      zillow porchlight   zillow engineering blog   zillow research        careers home   career opportunitiesdata scientisttechnology   new york  nyapplyemail listing to a friendthe streeteasy economic research team is looking for an outstanding data scientist to join us  you will be responsible for deriving fascinating insights on the new york housing market from terabytes of streeteasy market and usage data this role will require a candidate who can apply a breadth of tools  data sources and analytical techniques to answer a wide range of high level questions and present the insights in a concise and effective manner  you ll work in an informal  collaborative atmosphere with a team of smart self-starters like yourself   responsibilitiesapply quantitative techniques to uncover nyc housing market insights from streeteasy  new york city and partner data sets tell stories with economic and market data for use by nyc home buyers  sellers  renters and agents as well as major media outlets and policy makers partner with pr and marketing teams to craft and publish narratives around your findings recommend and implement improvements to internal data management  analysis and automation processes  qualificationsdemonstrated ability in both r   + experience  and sql 3+ years professional experience requireda ma ms in statistics  mathematics  computer science  economics  or another quantitative field is preferred  ba sa required innate curiosity to find and explore new problems and questions knowledge of nyc neighborhoods and nyc housing policy a plus  ie  affordability  rent control  rezoning  minimum wage  overcrowding  tax breaks etc  able to develop data visualizations through tableau or similar software preferred detail-oriented  analytical  and accurate strong verbal and written communications skills excellent project management skills  li-postapplyemail listing to a friend  back to careers home   back to current openings   aboutzestimatesresearchjobshelpadvertiseterms of use   privacyad choiceblogmobile apps      -     zillowfollow us                             '\n",
      "(Pdb) n\n",
      "> <ipython-input-129-4d003a18fd7c>(14)get_words()\n",
      "-> lines = [line.strip().lower() for line in text.splitlines()]\n",
      "(Pdb) n\n",
      "> <ipython-input-129-4d003a18fd7c>(16)get_words()\n",
      "-> words = []\n",
      "(Pdb) ines\n",
      "*** NameError: name 'ines' is not defined\n",
      "(Pdb) lines\n",
      "[u'homepage       sign in  or   join        buy       homes for sale      homes for sale   foreclosures   for sale by owner   open houses       new construction   coming soon   recent home sales   all homes         resources      buyers guide   foreclosure center   real estate app          rent       rentals      apartments for rent   houses for rent   pet friendly rentals   all rental listings   all rental buildings         build your renter profile      boost your chances of landing the perfect rental by completing a profile    start yours and stand out          resources      rent affordability calculator   rent vs  buy calculator   renters guide   rentals app   rental advertising         rental manager      sign in to see your listings   list a rental  it s free    how it works   resources          sell       selling tools      see your home s zestimate   neighborhood home values         post a home for sale      for sale by agent   for sale by owner   coming soon   make me move          mortgages       shop mortgages      mortgage lenders   mortgage rates   all mortgage rates         refinance      refinance rates   harp program         calculators      mortgage calculator   affordability calculator   refinance calculator         resources      lender directory   mortgage learning center   lender resource center          agent finder       looking for pros       real estate agents   property managers       home improvement pros   other pros         i m a pro      agent advertising   agent resource center   join the agent directory   access agent hub       real estate marketing guide   agent email scripts   listing flyer templates          advice       discussion topics      home buying   home selling       mortgage   rentals          home design       find design ideas      kitchens   bathrooms   bedrooms       dining rooms   living rooms   see all spaces         popular styles      contemporary   traditional   modern         popular features      wallpaper   chandelier   kitchen cabinets       patio furniture   bathroom vanities   area rugs          more        blogs      zillow porchlight   zillow engineering blog   zillow research        careers home   career opportunitiesdata scientisttechnology   new york  nyapplyemail listing to a friendthe streeteasy economic research team is looking for an outstanding data scientist to join us  you will be responsible for deriving fascinating insights on the new york housing market from terabytes of streeteasy market and usage data this role will require a candidate who can apply a breadth of tools  data sources and analytical techniques to answer a wide range of high level questions and present the insights in a concise and effective manner  you ll work in an informal  collaborative atmosphere with a team of smart self-starters like yourself   responsibilitiesapply quantitative techniques to uncover nyc housing market insights from streeteasy  new york city and partner data sets tell stories with economic and market data for use by nyc home buyers  sellers  renters and agents as well as major media outlets and policy makers partner with pr and marketing teams to craft and publish narratives around your findings recommend and implement improvements to internal data management  analysis and automation processes  qualificationsdemonstrated ability in both r   + experience  and sql 3+ years professional experience requireda ma ms in statistics  mathematics  computer science  economics  or another quantitative field is preferred  ba sa required innate curiosity to find and explore new problems and questions knowledge of nyc neighborhoods and nyc housing policy a plus  ie  affordability  rent control  rezoning  minimum wage  overcrowding  tax breaks etc  able to develop data visualizations through tableau or similar software preferred detail-oriented  analytical  and accurate strong verbal and written communications skills excellent project management skills  li-postapplyemail listing to a friend  back to careers home   back to current openings   aboutzestimatesresearchjobshelpadvertiseterms of use   privacyad choiceblogmobile apps      -     zillowfollow us']\n",
      "(Pdb) n\n",
      "> <ipython-input-129-4d003a18fd7c>(17)get_words()\n",
      "-> for line in lines:\n",
      "(Pdb) \n",
      "> <ipython-input-129-4d003a18fd7c>(18)get_words()\n",
      "-> words += [each_word for each_word in line.split()]\n",
      "(Pdb) line.split()\n",
      "[u'homepage', u'sign', u'in', u'or', u'join', u'buy', u'homes', u'for', u'sale', u'homes', u'for', u'sale', u'foreclosures', u'for', u'sale', u'by', u'owner', u'open', u'houses', u'new', u'construction', u'coming', u'soon', u'recent', u'home', u'sales', u'all', u'homes', u'resources', u'buyers', u'guide', u'foreclosure', u'center', u'real', u'estate', u'app', u'rent', u'rentals', u'apartments', u'for', u'rent', u'houses', u'for', u'rent', u'pet', u'friendly', u'rentals', u'all', u'rental', u'listings', u'all', u'rental', u'buildings', u'build', u'your', u'renter', u'profile', u'boost', u'your', u'chances', u'of', u'landing', u'the', u'perfect', u'rental', u'by', u'completing', u'a', u'profile', u'start', u'yours', u'and', u'stand', u'out', u'resources', u'rent', u'affordability', u'calculator', u'rent', u'vs', u'buy', u'calculator', u'renters', u'guide', u'rentals', u'app', u'rental', u'advertising', u'rental', u'manager', u'sign', u'in', u'to', u'see', u'your', u'listings', u'list', u'a', u'rental', u'it', u's', u'free', u'how', u'it', u'works', u'resources', u'sell', u'selling', u'tools', u'see', u'your', u'home', u's', u'zestimate', u'neighborhood', u'home', u'values', u'post', u'a', u'home', u'for', u'sale', u'for', u'sale', u'by', u'agent', u'for', u'sale', u'by', u'owner', u'coming', u'soon', u'make', u'me', u'move', u'mortgages', u'shop', u'mortgages', u'mortgage', u'lenders', u'mortgage', u'rates', u'all', u'mortgage', u'rates', u'refinance', u'refinance', u'rates', u'harp', u'program', u'calculators', u'mortgage', u'calculator', u'affordability', u'calculator', u'refinance', u'calculator', u'resources', u'lender', u'directory', u'mortgage', u'learning', u'center', u'lender', u'resource', u'center', u'agent', u'finder', u'looking', u'for', u'pros', u'real', u'estate', u'agents', u'property', u'managers', u'home', u'improvement', u'pros', u'other', u'pros', u'i', u'm', u'a', u'pro', u'agent', u'advertising', u'agent', u'resource', u'center', u'join', u'the', u'agent', u'directory', u'access', u'agent', u'hub', u'real', u'estate', u'marketing', u'guide', u'agent', u'email', u'scripts', u'listing', u'flyer', u'templates', u'advice', u'discussion', u'topics', u'home', u'buying', u'home', u'selling', u'mortgage', u'rentals', u'home', u'design', u'find', u'design', u'ideas', u'kitchens', u'bathrooms', u'bedrooms', u'dining', u'rooms', u'living', u'rooms', u'see', u'all', u'spaces', u'popular', u'styles', u'contemporary', u'traditional', u'modern', u'popular', u'features', u'wallpaper', u'chandelier', u'kitchen', u'cabinets', u'patio', u'furniture', u'bathroom', u'vanities', u'area', u'rugs', u'more', u'blogs', u'zillow', u'porchlight', u'zillow', u'engineering', u'blog', u'zillow', u'research', u'careers', u'home', u'career', u'opportunitiesdata', u'scientisttechnology', u'new', u'york', u'nyapplyemail', u'listing', u'to', u'a', u'friendthe', u'streeteasy', u'economic', u'research', u'team', u'is', u'looking', u'for', u'an', u'outstanding', u'data', u'scientist', u'to', u'join', u'us', u'you', u'will', u'be', u'responsible', u'for', u'deriving', u'fascinating', u'insights', u'on', u'the', u'new', u'york', u'housing', u'market', u'from', u'terabytes', u'of', u'streeteasy', u'market', u'and', u'usage', u'data', u'this', u'role', u'will', u'require', u'a', u'candidate', u'who', u'can', u'apply', u'a', u'breadth', u'of', u'tools', u'data', u'sources', u'and', u'analytical', u'techniques', u'to', u'answer', u'a', u'wide', u'range', u'of', u'high', u'level', u'questions', u'and', u'present', u'the', u'insights', u'in', u'a', u'concise', u'and', u'effective', u'manner', u'you', u'll', u'work', u'in', u'an', u'informal', u'collaborative', u'atmosphere', u'with', u'a', u'team', u'of', u'smart', u'self-starters', u'like', u'yourself', u'responsibilitiesapply', u'quantitative', u'techniques', u'to', u'uncover', u'nyc', u'housing', u'market', u'insights', u'from', u'streeteasy', u'new', u'york', u'city', u'and', u'partner', u'data', u'sets', u'tell', u'stories', u'with', u'economic', u'and', u'market', u'data', u'for', u'use', u'by', u'nyc', u'home', u'buyers', u'sellers', u'renters', u'and', u'agents', u'as', u'well', u'as', u'major', u'media', u'outlets', u'and', u'policy', u'makers', u'partner', u'with', u'pr', u'and', u'marketing', u'teams', u'to', u'craft', u'and', u'publish', u'narratives', u'around', u'your', u'findings', u'recommend', u'and', u'implement', u'improvements', u'to', u'internal', u'data', u'management', u'analysis', u'and', u'automation', u'processes', u'qualificationsdemonstrated', u'ability', u'in', u'both', u'r', u'+', u'experience', u'and', u'sql', u'3+', u'years', u'professional', u'experience', u'requireda', u'ma', u'ms', u'in', u'statistics', u'mathematics', u'computer', u'science', u'economics', u'or', u'another', u'quantitative', u'field', u'is', u'preferred', u'ba', u'sa', u'required', u'innate', u'curiosity', u'to', u'find', u'and', u'explore', u'new', u'problems', u'and', u'questions', u'knowledge', u'of', u'nyc', u'neighborhoods', u'and', u'nyc', u'housing', u'policy', u'a', u'plus', u'ie', u'affordability', u'rent', u'control', u'rezoning', u'minimum', u'wage', u'overcrowding', u'tax', u'breaks', u'etc', u'able', u'to', u'develop', u'data', u'visualizations', u'through', u'tableau', u'or', u'similar', u'software', u'preferred', u'detail-oriented', u'analytical', u'and', u'accurate', u'strong', u'verbal', u'and', u'written', u'communications', u'skills', u'excellent', u'project', u'management', u'skills', u'li-postapplyemail', u'listing', u'to', u'a', u'friend', u'back', u'to', u'careers', u'home', u'back', u'to', u'current', u'openings', u'aboutzestimatesresearchjobshelpadvertiseterms', u'of', u'use', u'privacyad', u'choiceblogmobile', u'apps', u'-', u'zillowfollow', u'us']\n",
      "(Pdb) n\n",
      "> <ipython-input-129-4d003a18fd7c>(18)get_words()\n",
      "-> words += [each_word for each_word in line.split()]\n",
      "(Pdb) \n",
      "> <ipython-input-129-4d003a18fd7c>(18)get_words()\n",
      "-> words += [each_word for each_word in line.split()]\n",
      "(Pdb) \n",
      "> <ipython-input-129-4d003a18fd7c>(18)get_words()\n",
      "-> words += [each_word for each_word in line.split()]\n",
      "(Pdb) \n",
      "> <ipython-input-129-4d003a18fd7c>(18)get_words()\n",
      "-> words += [each_word for each_word in line.split()]\n",
      "(Pdb) \n",
      "> <ipython-input-129-4d003a18fd7c>(18)get_words()\n",
      "-> words += [each_word for each_word in line.split()]\n",
      "(Pdb) \n",
      "> <ipython-input-129-4d003a18fd7c>(18)get_words()\n",
      "-> words += [each_word for each_word in line.split()]\n",
      "(Pdb) \n",
      "> <ipython-input-129-4d003a18fd7c>(18)get_words()\n",
      "-> words += [each_word for each_word in line.split()]\n",
      "(Pdb) c\n"
     ]
    }
   ],
   "source": [
    "get_words('http://www.indeed.com/pagead/clk?mo=r&ad=-6NYlbfkN0CZTNjLMuBQEc4UwMDLf68nYWD4vZp_o6pW13OpR78fsck_JPZ5UPq4nqaHJRcihfBA_7mFak7ZrimeUjUCXdWLBNz56LMzqer5tYVyHgL8XQ13SGMrbpydGGZUmxZGe-iMZGL6WRTFmhvFFuu7LNw0nUgntjrDoGMg-9NVcZ0qxohDaImYRoHopyt-xSUod3-Z631m7qtJnwa91LRg57bTR-AYv35CB2In2Y4GbOABvGWzry4yqBhwJqQF6U03AwYdaIDeOIwQ63zEZG0DrXzLBtxxIkW7flo88afj78O9FiksJpVcD2VIvNOHuAQzThGRJsACxcjLo5R-ycj_FJ8UQVKhWTRSFRXH8Fsjh1wq45QDF33oCBznFWyhNizBzGhnpTGSoZpQ4kEV-VuCehP40M2vgABhFEeBTuSZqnWs5WFwTOLT_RzUQ_1wreWim8mWUW5WnrZwC79Nn4XtSblNESjWvq2FjxWqUkE5zuZ4oC_6GNOVKrbqMjUno2aH-Pw=&p=1&sk=&fvj=0')"
   ]
  },
  {
   "cell_type": "code",
   "execution_count": 84,
   "metadata": {
    "collapsed": false
   },
   "outputs": [],
   "source": [
    "a = set([1,4,2,6])\n",
    "b = set([3,5,4,2,6]"
   ]
  },
  {
   "cell_type": "code",
   "execution_count": 92,
   "metadata": {
    "collapsed": false
   },
   "outputs": [
    {
     "data": {
      "text/plain": [
       "{2, 3, 4, 5, 6}"
      ]
     },
     "execution_count": 92,
     "metadata": {},
     "output_type": "execute_result"
    }
   ],
   "source": [
    "a and b"
   ]
  },
  {
   "cell_type": "code",
   "execution_count": 13,
   "metadata": {
    "collapsed": false,
    "scrolled": false
   },
   "outputs": [],
   "source": [
    "job_post_href = 'https://careers.bloomberg.com/job/detail/54015?utm_source=Indeed&utm_campaign=Bloomberg_Indeed&sponsored=ppc&utm_campaign=SalesUS'\n",
    "feedparser.parse(job_post_href)\n",
    "\n",
    "post_soup = BeautifulSoup(feedparser.parse(job_post_href)['feed']['summary'], 'html.parser')\n"
   ]
  }
 ],
 "metadata": {
  "kernelspec": {
   "display_name": "Python 2",
   "language": "python",
   "name": "python2"
  },
  "language_info": {
   "codemirror_mode": {
    "name": "ipython",
    "version": 2
   },
   "file_extension": ".py",
   "mimetype": "text/x-python",
   "name": "python",
   "nbconvert_exporter": "python",
   "pygments_lexer": "ipython2",
   "version": "2.7.9"
  }
 },
 "nbformat": 4,
 "nbformat_minor": 0
}
