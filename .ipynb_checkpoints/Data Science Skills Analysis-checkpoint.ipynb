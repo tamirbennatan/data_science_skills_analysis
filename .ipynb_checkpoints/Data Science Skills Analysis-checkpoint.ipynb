{
 "cells": [
  {
   "cell_type": "code",
   "execution_count": 103,
   "metadata": {
    "collapsed": false
   },
   "outputs": [
    {
     "ename": "ImportError",
     "evalue": "No module named PIL",
     "output_type": "error",
     "traceback": [
      "\u001b[0;31m---------------------------------------------------------------------------\u001b[0m",
      "\u001b[0;31mImportError\u001b[0m                               Traceback (most recent call last)",
      "\u001b[0;32m<ipython-input-103-00e0686708af>\u001b[0m in \u001b[0;36m<module>\u001b[0;34m()\u001b[0m\n\u001b[1;32m     13\u001b[0m \u001b[0mget_ipython\u001b[0m\u001b[0;34m(\u001b[0m\u001b[0;34m)\u001b[0m\u001b[0;34m.\u001b[0m\u001b[0mmagic\u001b[0m\u001b[0;34m(\u001b[0m\u001b[0;34mu'matplotlib inline'\u001b[0m\u001b[0;34m)\u001b[0m\u001b[0;34m\u001b[0m\u001b[0m\n\u001b[1;32m     14\u001b[0m \u001b[0;34m\u001b[0m\u001b[0m\n\u001b[0;32m---> 15\u001b[0;31m \u001b[0;32mimport\u001b[0m \u001b[0mwordcloud\u001b[0m\u001b[0;34m\u001b[0m\u001b[0m\n\u001b[0m",
      "\u001b[0;32m/Library/Frameworks/Python.framework/Versions/2.7/lib/python2.7/site-packages/wordcloud/__init__.py\u001b[0m in \u001b[0;36m<module>\u001b[0;34m()\u001b[0m\n\u001b[0;32m----> 1\u001b[0;31m \u001b[0;32mfrom\u001b[0m \u001b[0;34m.\u001b[0m\u001b[0mwordcloud\u001b[0m \u001b[0;32mimport\u001b[0m \u001b[0mWordCloud\u001b[0m\u001b[0;34m,\u001b[0m \u001b[0mSTOPWORDS\u001b[0m\u001b[0;34m,\u001b[0m \u001b[0mrandom_color_func\u001b[0m\u001b[0;34m,\u001b[0m \u001b[0mget_single_color_func\u001b[0m\u001b[0;34m\u001b[0m\u001b[0m\n\u001b[0m\u001b[1;32m      2\u001b[0m \u001b[0;32mfrom\u001b[0m \u001b[0;34m.\u001b[0m\u001b[0mcolor_from_image\u001b[0m \u001b[0;32mimport\u001b[0m \u001b[0mImageColorGenerator\u001b[0m\u001b[0;34m\u001b[0m\u001b[0m\n\u001b[1;32m      3\u001b[0m \u001b[0;34m\u001b[0m\u001b[0m\n\u001b[1;32m      4\u001b[0m \u001b[0m__all__\u001b[0m \u001b[0;34m=\u001b[0m \u001b[0;34m[\u001b[0m\u001b[0;34m'WordCloud'\u001b[0m\u001b[0;34m,\u001b[0m \u001b[0;34m'STOPWORDS'\u001b[0m\u001b[0;34m,\u001b[0m \u001b[0;34m'random_color_func'\u001b[0m\u001b[0;34m,\u001b[0m \u001b[0;34m'get_single_color_func'\u001b[0m\u001b[0;34m,\u001b[0m \u001b[0;34m'ImageColorGenerator'\u001b[0m\u001b[0;34m]\u001b[0m\u001b[0;34m\u001b[0m\u001b[0m\n",
      "\u001b[0;32m/Library/Frameworks/Python.framework/Versions/2.7/lib/python2.7/site-packages/wordcloud/wordcloud.py\u001b[0m in \u001b[0;36m<module>\u001b[0;34m()\u001b[0m\n\u001b[1;32m     15\u001b[0m \u001b[0;32mfrom\u001b[0m \u001b[0moperator\u001b[0m \u001b[0;32mimport\u001b[0m \u001b[0mitemgetter\u001b[0m\u001b[0;34m\u001b[0m\u001b[0m\n\u001b[1;32m     16\u001b[0m \u001b[0;34m\u001b[0m\u001b[0m\n\u001b[0;32m---> 17\u001b[0;31m \u001b[0;32mfrom\u001b[0m \u001b[0mPIL\u001b[0m \u001b[0;32mimport\u001b[0m \u001b[0mImage\u001b[0m\u001b[0;34m\u001b[0m\u001b[0m\n\u001b[0m\u001b[1;32m     18\u001b[0m \u001b[0;32mfrom\u001b[0m \u001b[0mPIL\u001b[0m \u001b[0;32mimport\u001b[0m \u001b[0mImageColor\u001b[0m\u001b[0;34m\u001b[0m\u001b[0m\n\u001b[1;32m     19\u001b[0m \u001b[0;32mfrom\u001b[0m \u001b[0mPIL\u001b[0m \u001b[0;32mimport\u001b[0m \u001b[0mImageDraw\u001b[0m\u001b[0;34m\u001b[0m\u001b[0m\n",
      "\u001b[0;31mImportError\u001b[0m: No module named PIL"
     ]
    }
   ],
   "source": [
    "from bs4 import BeautifulSoup\n",
    "from urllib2 import urlopen\n",
    "import feedparser\n",
    "from collections import Counter\n",
    "import nltk\n",
    "import re\n",
    "import pdb\n",
    "\n",
    "import pandas as pd\n",
    "import numpy as np\n",
    "import seaborn as sns\n",
    "import matplotlib.pyplot as plt\n",
    "%matplotlib inline\n",
    "\n",
    "import wordcloud"
   ]
  },
  {
   "cell_type": "code",
   "execution_count": 2,
   "metadata": {
    "collapsed": false
   },
   "outputs": [],
   "source": [
    "#method accepts a BeautifulSoup parsed HTML object and returns a list of <a> tags of job posts\n",
    "def get_job_posts(soup_object):\n",
    "    \n",
    "    job_posts = []\n",
    "    a_s = soup_object.find_all('a')\n",
    "    for a in a_s:\n",
    "        try:\n",
    "            if u'jobtitle' in a['class']:\n",
    "                job_posts.append(a)\n",
    "        except:\n",
    "            pass\n",
    "    \n",
    "    return job_posts"
   ]
  },
  {
   "cell_type": "code",
   "execution_count": 16,
   "metadata": {
    "collapsed": true
   },
   "outputs": [],
   "source": [
    "def replace_spaces(text):\n",
    "    \n",
    "    replace_list = ['machine learning', 'neural network', 'decision tree', 'graph database'\n",
    "               'supervised learning', 'unsupervised learning', 'reinforcement learning', \n",
    "               'logistic regression', 'linear regression', 'naive bayes', 'random forest', \n",
    "               'deep learning', 'support_vector_machines', 'advanced degree', 'computer science'\n",
    "               'ph d', 'm sc', 'b sc', 'b a' 'feature selection', 'natural language', 'sql server'\n",
    "                'operations research', 'voted best place to work', 'cloud computing', 'century link']\n",
    "    \n",
    "    for word in replace_list:\n",
    "        text = text.replace(word, word.replace(' ', '_'))\n",
    "        \n",
    "    return text"
   ]
  },
  {
   "cell_type": "code",
   "execution_count": 20,
   "metadata": {
    "collapsed": true
   },
   "outputs": [],
   "source": [
    "#method accepts a link to a job post and returns a list of \n",
    "def get_words(job_post_href):\n",
    "    \n",
    "    #only keep the content\n",
    "    try:\n",
    "        post_soup = BeautifulSoup(feedparser.parse(job_post_href)['feed']['summary'], 'html.parser')\n",
    "    except:\n",
    "        return []\n",
    "    \n",
    "    text = post_soup.get_text().lower()\n",
    "    \n",
    "    # keep only letters, but keep '+' for 'c++', '#' for 'c#','3' for 'd3,\n",
    "    # '2' for 'db2', and  '-' for 'scikit-learn'\n",
    "    text = re.sub(\"[^a-z+#32-]\",\" \", text)\n",
    "        \n",
    "    #replace spaces in between important phrases with underscores so they don't get seperated as different words\n",
    "    text = replace_spaces(text)\n",
    "    \n",
    "    \n",
    "    \n",
    "    #break into lines to get rid of the annoying '\\n' characters. Also project to lowercase.\n",
    "    lines = [line.strip().lower() for line in text.splitlines()]\n",
    "\n",
    "    words = []\n",
    "    for line in lines:\n",
    "        words += [each_word for each_word in line.split()]\n",
    "        \n",
    "    #Lighten the load by getting rid of basic stopwords, like \"the\", \"or\" etc    \n",
    "    words = set(words) - set(nltk.corpus.stopwords.words(\"english\")) \n",
    "    \n",
    "    return words\n",
    "    "
   ]
  },
  {
   "cell_type": "code",
   "execution_count": 18,
   "metadata": {
    "collapsed": true
   },
   "outputs": [],
   "source": [
    "#method accepts a list of words in a job post, and creates sets according to pre-determined sets\n",
    "def words_by_category(job_posts):\n",
    "    \n",
    "    buzz_words = set(['big_data', 'terabytes', 'petabytes', 'voted_best_place_to_work'])\n",
    "    \n",
    "    languages = set(['r', 'python', 'java', 'scala', 'c', 'c++', 'c#', 'c--', \n",
    "                               'f', 'f#', 'groovy', 'julia', 'jscript', \n",
    "                               'matlab', 'perl', 'javascript', 'php', 'swift', \n",
    "                               'coffee', 'sql','psql', 'tsql',  'mathematica', 'wolfram', 'pascal'])#want to include 'go!' once find out how to allow '!'\n",
    "    \n",
    "    frameworks = set(['angular',  'angularjs', 'typescript' ,'backbone', 'underscore' ,\n",
    "                      'asp', 'node', 'django', 'flask' ])\n",
    "    \n",
    "    hadoop_technologies = set(['hadoop', 'pig', 'mapreduce', 'spark', 'hive', 'flume', \n",
    "                              'shark', 'zookeeper', 'mahout' ])\n",
    "\n",
    "    #operating systems and tools\n",
    "    operating_system_tools = set(['unix', 'osx', 'bash', 'batch' , 'curl', 'linux', 'windows', 'git' ])\n",
    "    \n",
    "    cloud_computing = set(['cloud_computing', 'aws', 'azure', 'cloudera', 'chef', 'joyent', 'rackspace', \n",
    "                           'century_link' ])\n",
    "        \n",
    "    machine_learning_algorithms = set(['decision_trees', 'clustering', 'regression', 'anova', \n",
    "                                       'k-means', 'neural_networks', 'supervised learning', 'unsupervised_learning',\n",
    "                                       'reinforcement_learning', 'logistic_regression', 'linear_regression', 'naive_bayes', 'random_forest', \n",
    "                                       'deep_learning', 'pca', 'shrinkage', 'regression', 'support_vector_machines', 'svm', \n",
    "                                      'boosted', 'feature_selection', 'natural_language', 'nlp', 'cart', ])\n",
    "    \n",
    "    analysis_tools = set(['excel', 'sas', 'spss', 'sas', 'tableau', 'visual_basic' ])\n",
    "    \n",
    "    relational_databases = set(['redshift', 'postgressql', 'mysql', 'oracle', 'db2', 'h2', \n",
    "                               'sqlbase', 'libreoffice', 'netezza', 'azure', 'firebird', 'sql_server'])\n",
    "    \n",
    "    nosql_technologies = set(['nosql', 'hbase', 'cloudera', 'cassandra', 'scylla', 'mongodb', 'sonarw', 'jsonar', \n",
    "                             'elassandra', 'couchdb', 'rethinkdb', 'dynamodb', 'arangodb'])\n",
    "    \n",
    "    graph_databases = set(['graph_databases', 'graph_database', 'graph_databases', 'neo4j', 'arangodb', 'orientdb', 'graphbase', 'trinity'])\n",
    "    \n",
    "    academic_degrees = set(['bachelor', 'master','doctor', 'doctorate', 'ph_d', 'phd', \n",
    "                            'm_sc', 'b_a', 'b_sc', 'advanced_degree', 'mba'])\n",
    "    \n",
    "    academic_disciplines = set(['mathematics', 'statistics', 'computer_science', 'business', 'stem', \n",
    "                               'operations_research'])\n",
    "    \n",
    "    \n",
    "    #for each job post see which skills appear. Leave as python.set data strucuture for effecient set operations later\n",
    "    for post in job_posts:\n",
    "        post['buzz_words'] = set(post['words']) & buzz_words\n",
    "        post['languages'] = set(post['words']) & languages\n",
    "        post['frameworks'] = set(post['words']) & frameworks\n",
    "        post['hadoop_technologies'] = set(post['words']) & hadoop_technologies\n",
    "        post['operating_system_tools'] = set(post['words']) & operating_system_tools\n",
    "        post['machine_learning_algorithms'] = set(post['words']) & machine_learning_algorithms\n",
    "        post['analysis_tools'] = set(post['words']) & analysis_tools\n",
    "        post['relational_databases'] = set(post['words']) & relational_databases\n",
    "        post['nosql_technologies'] = set(post['words']) & nosql_technologies\n",
    "        post['graph_databases'] = set(post['words']) & graph_databases\n",
    "        post['academic_degrees'] = set(post['words']) & academic_degrees\n",
    "        post['academic_disciplines'] = set(post['words']) & academic_disciplines\n",
    "        post['academic_degrees'] = set(post['words']) & academic_degrees\n",
    "        \n",
    "        post['all_skills'] = buzz_words.union(languages).union(frameworks).union(\n",
    "            hadoop_technologies).union(operating_system_tools).union(machine_learning_algorithms).union(\n",
    "            analysis_tools).union(relational_databases).union(nosql_technologies).union(graph_databases).union(\n",
    "            academic_degrees).union(academic_disciplines) & set(post['words'])\n",
    "        \n",
    "        "
   ]
  },
  {
   "cell_type": "code",
   "execution_count": 125,
   "metadata": {
    "collapsed": false
   },
   "outputs": [],
   "source": [
    "def crawl_indeed(query, city = \"\", experience_level = \"\", num_pages = 10):\n",
    "    \n",
    "    #clean parameters so that they match Indeed's protocol\n",
    "    \n",
    "    #spaces parameters seperated by '+'\n",
    "    query = query.replace(' ', '+')\n",
    "    city = city.replace(' ' , '+')\n",
    "    \n",
    "    #make sure experience_level is one of the four valid options\n",
    "    if experience_level not in ['', 'entry_level', 'mid_level', 'senior_level']:\n",
    "        experience_level = ''\n",
    "        print \"Experience level parameter not valid. Showing all experience levels\"\n",
    "    \n",
    "    #build data in JSON-like format, given the heirarchial nature of the data\n",
    "    data = list()\n",
    "    \n",
    "    #Indeed shows job posts 10 at a time, so each page starts with post 0, 10, 20...\n",
    "    #Loop through the posts using the num_pages parameter\n",
    "    \n",
    "    page_start_numbers = np.arange(num_pages)*10\n",
    "    \n",
    "    for start_number in page_start_numbers:\n",
    "        \n",
    "        pdb.set_trace()\n",
    "        \n",
    "        url = \"http://www.indeed.com/jobs?q={0}&l={1}&explvl={2}&start={3}\".format(query, city, experience_level, start_number)\n",
    "    \n",
    "        #isolate html body and get rid of extraneous HTML objects using feedparser, and create a BeautifulSoup obect\n",
    "        fp = feedparser.parse(url)\n",
    "        try:\n",
    "            page_soup = BeautifulSoup(fp['feed']['summary'])\n",
    "        except:\n",
    "            next\n",
    "    \n",
    "        #get a list of all the <a class='jobtitle'></a> elemdents, which are job posts\n",
    "        job_posts = get_job_posts(page_soup)\n",
    "\n",
    "        for post in job_posts:\n",
    "            \n",
    "            #each job post gets a sub-dictionary\n",
    "            post_data = dict()\n",
    "            \n",
    "            #attributes which are constant amongst all results for each execution\n",
    "            post_data['query'] = query\n",
    "            post_data['city'] = city\n",
    "            \n",
    "            #job title of that sepcific post\n",
    "            post_data['title'] = post['title']\n",
    "            \n",
    "            \n",
    "            #for each job post, extract the link to the post itself. Store in data dictionary for later\n",
    "            post_href = post['href']\n",
    "            post_data['href'] = post_href\n",
    "            \n",
    "            #extract all the (cleaned up) words fromt that link\n",
    "            post_words = get_words(post_href)\n",
    "                        \n",
    "            post_data['words'] =post_words\n",
    "            data.append(post_data)\n",
    "            \n",
    "    words_by_category(data)\n",
    "    return data"
   ]
  },
  {
   "cell_type": "code",
   "execution_count": 121,
   "metadata": {
    "collapsed": false,
    "scrolled": false
   },
   "outputs": [],
   "source": [
    "data_scientist_nyc = pd.DataFrame(crawl_indeed('data scientist', 'new york', num_pages = 50))\n",
    "# data_scientist_sanfran = pd.DataFrame(crawl_indeed('data scientist', 'san fransisco', num_pages = 50))\n",
    "# data_scientist_chicago = pd.DataFrame(crawl_indeed('data scientist', 'san fransisco', num_pages = 50))"
   ]
  },
  {
   "cell_type": "code",
   "execution_count": 25,
   "metadata": {
    "collapsed": true
   },
   "outputs": [],
   "source": [
    "data_scientist_all = pd.DataFrame(crawl_indeed('data scientist', num_pages = 5))\n",
    "data_analyst_all = pd.DataFrame(crawl_indeed('data analyst', num_pages = 15))\n",
    "data_engineer_all = pd.DataFrame(crawl_indeed('data engineer', num_pages = 15))\n",
    "machine_learning_engineer_all = pd.DataFrame(crawl_indeed('machine learning engineer', num_pages = 15))"
   ]
  },
  {
   "cell_type": "code",
   "execution_count": 124,
   "metadata": {
    "collapsed": false,
    "scrolled": false
   },
   "outputs": [
    {
     "data": {
      "text/plain": [
       "title\n",
       "Data Scientist                                    50\n",
       "Data Scientist/Analyst – Insights & Consulting    50\n",
       "Machine Learning Quantitative Analyst             50\n",
       "Principal Scientist, Analytical Services          50\n",
       "Specialist, Data Analytics                        50\n",
       "dtype: int64"
      ]
     },
     "execution_count": 124,
     "metadata": {},
     "output_type": "execute_result"
    }
   ],
   "source": [
    "data_scientist_nyc.groupby('title').size()"
   ]
  },
  {
   "cell_type": "code",
   "execution_count": 105,
   "metadata": {
    "collapsed": false
   },
   "outputs": [
    {
     "data": {
      "text/plain": [
       "(250, 18)"
      ]
     },
     "execution_count": 105,
     "metadata": {},
     "output_type": "execute_result"
    }
   ],
   "source": [
    "data_scientist_nyc.shape"
   ]
  },
  {
   "cell_type": "code",
   "execution_count": 96,
   "metadata": {
    "collapsed": false
   },
   "outputs": [],
   "source": [
    "def get_skill_frequency(df, skill_category = 'all_skills'): \n",
    "    \n",
    "    counter = Counter()\n",
    "    for index, job_post in df.iterrows():\n",
    "        for skill in job_post[skill_category]:\n",
    "            counter[skill]+=1\n",
    "    \n",
    "    #convert values to a freqeuncy of total posts that have that skill\n",
    "    number_of_posts = float(df.shape[0])\n",
    "    \n",
    "    for key in counter.keys():\n",
    "        counter[key] = counter[key]/number_of_posts\n",
    "    \n",
    "    df = pd.DataFrame(data = counter, index = [0]).T\n",
    "\n",
    "    return df\n",
    "        \n",
    "    "
   ]
  },
  {
   "cell_type": "code",
   "execution_count": null,
   "metadata": {
    "collapsed": true
   },
   "outputs": [],
   "source": [
    "def create_word_cloud(df, all_words = False, skill_category = 'all_skills'):\n",
    "    \n",
    "    text = ''\n",
    "    # If want to to make cloud with all the words, render with text as is. \n",
    "    #if want to make cloud with a skill category, take the intersection with that skill's corresponding set.\n",
    "    if(all_words):\n",
    "        for index, \n",
    "    \n",
    "    \n",
    "    \n",
    "    wordcloud = WordCloud(max_font_size=40, relative_scaling=.5).generate(text)\n",
    "    plt.figure()\n",
    "    plt.imshow(wordcloud)\n",
    "    plt.axis(\"off\")\n",
    "    plt.show()"
   ]
  },
  {
   "cell_type": "code",
   "execution_count": 122,
   "metadata": {
    "collapsed": false,
    "scrolled": false
   },
   "outputs": [],
   "source": [
    "counter = get_skill_frequency(data_scientist_nyc)"
   ]
  },
  {
   "cell_type": "code",
   "execution_count": 110,
   "metadata": {
    "collapsed": false
   },
   "outputs": [
    {
     "data": {
      "text/plain": [
       "<matplotlib.axes._subplots.AxesSubplot at 0x10f210750>"
      ]
     },
     "execution_count": 110,
     "metadata": {},
     "output_type": "execute_result"
    },
    {
     "data": {
      "image/png": "[encoded data removed]",
      "text/plain": [
       "<matplotlib.figure.Figure at 0x110fe9310>"
      ]
     },
     "metadata": {},
     "output_type": "display_data"
    }
   ],
   "source": [
    "counter.plot( kind = 'bar', legend = None, \n",
    "                              title = 'Percentage of Data Scientist Job Ads with a Key Skil')"
   ]
  },
  {
   "cell_type": "code",
   "execution_count": 114,
   "metadata": {
    "collapsed": false
   },
   "outputs": [
    {
     "name": "stdout",
     "output_type": "stream",
     "text": [
      "                    0\n",
      "advanced_degree   0.2\n",
      "bachelor          0.2\n",
      "business          0.4\n",
      "cart              0.2\n",
      "excel             0.2\n",
      "mathematics       0.4\n",
      "matlab            0.2\n",
      "natural_language  0.2\n",
      "phd               0.2\n",
      "python            0.4\n",
      "r                 0.6\n",
      "scala             0.2\n",
      "spark             0.2\n",
      "sql               0.2\n",
      "statistics        0.4\n",
      "tableau           0.4\n",
      "terabytes         0.2\n"
     ]
    }
   ],
   "source": [
    "print counter"
   ]
  },
  {
   "cell_type": "code",
   "execution_count": 117,
   "metadata": {
    "collapsed": true
   },
   "outputs": [],
   "source": [
    "def debug(query, city = \"\", experience_level = \"\", num_pages = 10):\n",
    "    \n",
    "    #clean parameters so that they match Indeed's protocol\n",
    "    \n",
    "    #spaces parameters seperated by '+'\n",
    "    query = query.replace(' ', '+')\n",
    "    city = city.replace(' ' , '+')\n",
    "    \n",
    "    #make sure experience_level is one of the four valid options\n",
    "    if experience_level not in ['', 'entry_level', 'mid_level', 'senior_level']:\n",
    "        experience_level = ''\n",
    "        print \"Experience level parameter not valid. Showing all experience levels\"\n",
    "    \n",
    "    #build data in JSON-like format, given the heirarchial nature of the data\n",
    "    data = list()\n",
    "    \n",
    "    #Indeed shows job posts 10 at a time, so each page starts with post 0, 10, 20...\n",
    "    #Loop through the posts using the num_pages parameter\n",
    "    \n",
    "    page_start_numbers = np.arange(num_pages)*10\n",
    "    \n",
    "    for start_number in page_start_numbers:\n",
    "        \n",
    "        url = \"http://www.indeed.com/jobs?q={0}&l={1}&explvl={2}&start={3}\".format(query, city, experience_level, start_number)\n",
    "        print url"
   ]
  }
 ],
 "metadata": {
  "kernelspec": {
   "display_name": "Python 2",
   "language": "python",
   "name": "python2"
  },
  "language_info": {
   "codemirror_mode": {
    "name": "ipython",
    "version": 2
   },
   "file_extension": ".py",
   "mimetype": "text/x-python",
   "name": "python",
   "nbconvert_exporter": "python",
   "pygments_lexer": "ipython2",
   "version": "2.7.9"
  }
 },
 "nbformat": 4,
 "nbformat_minor": 0
}
