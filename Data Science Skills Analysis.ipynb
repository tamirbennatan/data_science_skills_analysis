{
 "cells": [
  {
   "cell_type": "code",
   "execution_count": 100,
   "metadata": {
    "collapsed": true
   },
   "outputs": [],
   "source": [
    "from bs4 import BeautifulSoup\n",
    "from urllib2 import urlopen\n",
    "import feedparser\n",
    "\n",
    "import pdb"
   ]
  },
  {
   "cell_type": "code",
   "execution_count": 39,
   "metadata": {
    "collapsed": false
   },
   "outputs": [],
   "source": [
    "FEED_URL='http://www.indeed.com/jobs?q=data+scientist&l=New+York%2C+NY' \n",
    "fp = feedparser.parse(FEED_URL)\n"
   ]
  },
  {
   "cell_type": "code",
   "execution_count": 109,
   "metadata": {
    "collapsed": true
   },
   "outputs": [],
   "source": [
    "soup = BeautifulSoup(fp['feed']['summary'])"
   ]
  },
  {
   "cell_type": "code",
   "execution_count": 121,
   "metadata": {
    "collapsed": false
   },
   "outputs": [],
   "source": [
    "a_tags = soup.find_all('a')"
   ]
  },
  {
   "cell_type": "code",
   "execution_count": 127,
   "metadata": {
    "collapsed": false
   },
   "outputs": [
    {
     "data": {
      "text/plain": [
       "<a href=\"http://www.indeed.com/jobs?q=data+scientist&amp;l=New+York,+NY&amp;rbc=Mount+Sinai+Health+System&amp;jcid=c007936ceb766fe5\" rel=\"nofollow\" title=\"Mount Sinai Health System (96)\">Mount Sinai Health System</a>"
      ]
     },
     "execution_count": 127,
     "metadata": {},
     "output_type": "execute_result"
    }
   ],
   "source": [
    "a_tags[39]"
   ]
  },
  {
   "cell_type": "code",
   "execution_count": 133,
   "metadata": {
    "collapsed": false
   },
   "outputs": [],
   "source": [
    "def keep_job_posts(soup_object):\n",
    "    \n",
    "    job_posts = []\n",
    "    a_s = soup_object.find_all('a')\n",
    "    for a in a_s:\n",
    "        try:\n",
    "            if u'jobtitle' in a['class']:\n",
    "                job_posts.append(a)\n",
    "        except:\n",
    "            pass\n",
    "    \n",
    "    return job_posts"
   ]
  },
  {
   "cell_type": "code",
   "execution_count": 134,
   "metadata": {
    "collapsed": false
   },
   "outputs": [
    {
     "data": {
      "text/plain": [
       "[<a class=\"jobtitle turnstileLink\" href=\"http://www.indeed.com/pagead/clk?mo=r&amp;ad=-6NYlbfkN0Ab67y_gTDH9tSaT0HLOcX4Q3W4UsL2WfVRyJV-qqww-X_15EE3JQdfe7kGNK4zye8FnpaBT8wUL6g6CZzJ0dC-WFILbZA2tNy-HM-hTGFOV2kbifwpP0scso0Jj0-flvHilLe1rVwTTNHzbPLHMVw5kQCoHjWe_a6BavcB8XovWHvHN2XybZJLKppOoa4qZ8o32GscsmAubNEayVOEi1Ftn9HqktetkQQ6flRgN7SL2VQ_kkQ0Cqlgc0ZJedvsbmjgNWGrDK9j2CdGyFrqNh45RQU3RlPDEy3xPetv6HYVboH8v4K3wKn9bP59SxvGFJG-KCIMjzHx28bhbQsZWFyUEWmxoX6Na6EZWNXfwQoa0zYU0qe7eh-_dsc7c8u4BznraYvAy41yWn82pEHXWHJtNlN0kAl3wmf777CqnNbeekzEODxwMln40Y061ideGYwPfVf_AZxBRb4iiqwoykW-5dSehRdPMQ2mLnECfq2ik15vlE9GmdP6Ljlk3H_GRItloUedsh3lgVu5RmfsvsQolwx5EWwzwWoymV7RNrBJ1A6Sqx9PBi8baDjFCgH1PoKUHUrgkf2mTkWHdz_OP9VBCwI7xzGNmxZdJR0cVD9MluAQHI7DEXZ5aneDa0CyzFBGIach-KDslSRfK5A07xfcGemMPr9YezZxtiidZ4NX2uEq6Zcw21Np&amp;p=1&amp;sk=&amp;fvj=0\" id=\"sja1\" rel=\"nofollow\" target=\"_blank\" title=\"Machine Learning Quantitative Analyst\">Machine Learning Quantitative Analyst</a>,\n",
       " <a class=\"jobtitle turnstileLink\" href=\"http://www.indeed.com/pagead/clk?mo=r&amp;ad=-6NYlbfkN0CZTNjLMuBQEc4UwMDLf68nYWD4vZp_o6pW13OpR78fsck_JPZ5UPq4nqaHJRcihfBA_7mFak7ZrimeUjUCXdWLBNz56LMzqer5tYVyHgL8XQ13SGMrbpydGGZUmxZGe-iMZGL6WRTFmtOY1BycCKZ9dBWs6-q_fMHaO83wD6K3r8ZxGvSRdxJaniDAdP6keUsIdKzKS3bDoCgChPCMI63ujSaK7kPTLdHL0tcjPf8hOFuVK-RsFlZtrsnlzLqFl05xpovymVyYFsp_YJQOvHt61ACXF0ZrKf65dpp0yhGtQxw_iix95W4pp17bx8sHOfbfhh28azTsR0AJZbOZp1IFIiE-xb1pgghl9DJsRd9eL1KKRSwIu_LE4rdoFA84mNhWADzMU54bia5wNFyietoNVDrKEXR_enD6CvchOvgb1zRGVT2FbilNYEqFjLPFCFXsr6NYetnIfn7t2n5b1ifBow0dx5Owi9EmvUKag_v6P9DiCBIZJUP_kVRv68JrB1o16dD9FIyyqg==&amp;p=2&amp;sk=&amp;fvj=0\" id=\"sja2\" rel=\"nofollow\" target=\"_blank\" title=\"Data Scientist\"><b>Data</b> <b>Scientist</b></a>,\n",
       " <a class=\"jobtitle turnstileLink\" href=\"http://www.indeed.com/pagead/clk?mo=r&amp;ad=-6NYlbfkN0Cwm5KZZ5y49iWLreNyrtRV0TW_7am6YbPPnTZfz_EzNrgb_jojiexTvmsNy2xq11uuUKywsYJGmxcILCvgSWJeMECBSliczKXeFb-hRBQYq5C6DwlEnn4ng3rHDXfJFzVxNbleDbVBwjMMdnlotUL-JCQ1Ev7GK8w7h6AMjg5yEL3axZ93Ff_o5sXw4MkSTMfWSlxMnJm8I6sThzlvbIuSRRad9-MGzYY2aMz9TTkePY6-7mO6MHIoAEOSahrt38UIHGFlH707Eee87utdMoxBWjlw2FlSPG2CnQU8eZCx5J3aX6zAKHpaaEQxUuSinfo3MgnAfjRrD12stjvhTJsRNZgr07BQX6JejtKJWyrzYaUNBt1yrL63hzf7cB2XYLshsSI2rNVZM_-rbwoHvVFrn_DbX6Pxl3EXxgwl1feHHLVRSbOgNe_rYvyonQJECdvMHFZq_pyX6Dxe2ins2GaJe70jvTxWkU4=&amp;p=3&amp;sk=&amp;fvj=0\" id=\"sja3\" rel=\"nofollow\" target=\"_blank\" title=\"Principal Scientist, Analytical Services\">Principal <b>Scientist</b>, Analytical Services</a>,\n",
       " <a class=\"jobtitle turnstileLink\" href=\"http://www.indeed.com/pagead/clk?mo=r&amp;ad=-6NYlbfkN0BGR8NqIBiOdcV7aE2yi2pN3GiH68C7-IyWvvKjE3lclkmyOlBeSVNtkKKfgcD9D7mJcccH8jU1j0QE1_fSVFv8hFFTBtUqfyBiKoF8YDkj-KXEhf5zVhqj-71jAZtGcq504IAKupQzX4wLmxCTZtuHf7dLmqWGXtTBscNp13bLEmnivyJDFegoa_AloZsv6aJZf7idOeDl1pTvFnDDsWsisfCTXCQfWGRJAIwMucL941-6b8mKxCTXQYRJz03EY7AejU6O5I45TDjyMefxbpwNoQhpR5Tv2t7MSQY92DO9M0gmWiJunGtcjrkxkq-KJ6R37NnD-6-gUaWeNZrBW7l9oGJy3ieJ82TOyET00SUSy1SE5TBv88C56fKAdJBLCECxXTAv3RFUG4hE_muFt2MjJWXhxz9fNwuAij7da37Mt8OufTquZSrsYG4XN8UaPVI=&amp;p=4&amp;sk=&amp;fvj=0\" id=\"sja4\" rel=\"nofollow\" target=\"_blank\" title=\"Specialist, Data Analytics\">Specialist, <b>Data</b> Analytics</a>,\n",
       " <a class=\"jobtitle turnstileLink\" href=\"http://www.indeed.com/pagead/clk?mo=r&amp;ad=-6NYlbfkN0D6N_YvCEOtyrASauy5EjKuXlD4b0DhlGZ_7VkOh0nBFryM3kpdD7wuo0Gsm3u3dNPBJHVg0lMrcUDImtzgH8EZZu7dT2J1qH9FSDXxDVbUtOj-owV7i8ReOiMeNgykG_e4udq4C7nUgmjF9fyU-MPdOkGdiXzHn6kSIi8TXeT5D8IrC0qR8K7uAZ8QZ-l_EXV_C_AFGOQL9jW2MNOJjcX9ib60bO9xOtGAwa1m3UQ8ZUNAAaZPdiAbTjOusuBL1DWClUTJbnry8uljPjx5bdGDgzrZv8_VjzLo9IopKCybBSrfl7N18wCMguoHzTlgA8NUxjLYNs6Q36vVsNSz2wSgsSOk8JFJBpoyZ4jMEdNAemEJhDiUP_vjWJ_XdGQgLhxoqtT91yQSWnGqSOUVfqkaLs8t9lFOZN1rt-ympE9c987tGDw_E6rJy7hZEiWfZZvWVmsFfXjhwBW6hU6-nsXlA19jFYI6Pvy_KAo3FR7m1sw73k3YBrf3NavGh1MQnAOLTKUrcbOq4A==&amp;p=5&amp;sk=&amp;fvj=0\" id=\"sja5\" rel=\"nofollow\" target=\"_blank\" title=\"Data Scientist / Machine Learning Scientist\"><b>Data</b> <b>Scientist</b> / Machine Learning <b>Scientist</b></a>]"
      ]
     },
     "execution_count": 134,
     "metadata": {},
     "output_type": "execute_result"
    }
   ],
   "source": [
    "keep_job_posts(soup)"
   ]
  }
 ],
 "metadata": {
  "kernelspec": {
   "display_name": "Python 2",
   "language": "python",
   "name": "python2"
  },
  "language_info": {
   "codemirror_mode": {
    "name": "ipython",
    "version": 2
   },
   "file_extension": ".py",
   "mimetype": "text/x-python",
   "name": "python",
   "nbconvert_exporter": "python",
   "pygments_lexer": "ipython2",
   "version": "2.7.9"
  }
 },
 "nbformat": 4,
 "nbformat_minor": 0
}
