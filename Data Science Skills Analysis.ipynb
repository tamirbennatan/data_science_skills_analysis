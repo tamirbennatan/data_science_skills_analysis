{
 "cells": [
  {
   "cell_type": "code",
   "execution_count": 208,
   "metadata": {
    "collapsed": false
   },
   "outputs": [],
   "source": [
    "from bs4 import BeautifulSoup\n",
    "from urllib2 import urlopen\n",
    "import feedparser\n",
    "from collections import Counter\n",
    "import nltk\n",
    "import re\n",
    "import pdb\n",
    "\n",
    "import pandas as pd\n",
    "import numpy as np\n",
    "import seaborn as sns\n",
    "import matplotlib.pyplot as plt\n",
    "%matplotlib inline\n",
    "\n",
    "import requests\n",
    "from textblob import TextBlob\n",
    "\n",
    "from sklearn.metrics.pairwise import pairwise_distances\n",
    "import itertools\n",
    "import random"
   ]
  },
  {
   "cell_type": "code",
   "execution_count": 2,
   "metadata": {
    "collapsed": false
   },
   "outputs": [],
   "source": [
    "#method accepts a BeautifulSoup parsed HTML object and returns a list of <a> tags of job posts\n",
    "def get_job_posts(soup_object):\n",
    "    \n",
    "    job_posts = []\n",
    "    a_s = soup_object.find_all('a')\n",
    "    \n",
    "    for a in a_s:\n",
    "        try:\n",
    "            if u'jobtitle' in a['class']:\n",
    "                job_posts.append(a)\n",
    "        except:\n",
    "            next\n",
    "    \n",
    "    return job_posts"
   ]
  },
  {
   "cell_type": "code",
   "execution_count": 3,
   "metadata": {
    "collapsed": true
   },
   "outputs": [],
   "source": [
    "def replace_spaces(text):\n",
    "    \n",
    "    replace_list = ['machine learning', 'neural network', 'decision tree', 'graph database'\n",
    "               'supervised learning', 'unsupervised learning', 'reinforcement learning', \n",
    "               'logistic regression', 'linear regression', 'naive bayes', 'random forest', \n",
    "               'deep learning', 'support_vector_machines', 'advanced degree', 'computer science'\n",
    "               'ph d', 'm sc', 'b sc', 'b a' 'feature selection', 'natural language', 'sql server'\n",
    "                'operations research', 'voted best place to work', 'cloud computing', 'century link']\n",
    "    \n",
    "    for word in replace_list:\n",
    "        text = text.replace(word, word.replace(' ', '_'))\n",
    "        \n",
    "    return text"
   ]
  },
  {
   "cell_type": "code",
   "execution_count": 45,
   "metadata": {
    "collapsed": true
   },
   "outputs": [],
   "source": [
    "#method accepts a link to a job post and returns a list of \n",
    "def get_words(job_post_href):\n",
    "    \n",
    "    try:\n",
    "        response = requests.request('GET', job_post_href)\n",
    "        html = response.content\n",
    "        post_soup = BeautifulSoup(html, \"html.parser\")\n",
    "    except:\n",
    "        print 'didnt work with url %s'%job_post_href, '\\n'*3 \n",
    "        return []\n",
    "    \n",
    "\n",
    "    \n",
    "    text = post_soup.get_text().lower()\n",
    "    \n",
    "    # keep only letters, but keep '+' for 'c++', '#' for 'c#','3' for 'd3,\n",
    "    # '2' for 'db2', and  '-' for 'scikit-learn'\n",
    "    text = re.sub(\"[^a-z+#32-]\",\" \", text)\n",
    "        \n",
    "    #replace spaces in between important phrases with underscores so they don't get seperated as different words\n",
    "    text = replace_spaces(text)\n",
    "    \n",
    "    \n",
    "    \n",
    "    #break into lines to get rid of the annoying '\\n' characters. Also project to lowercase.\n",
    "    lines = [line.strip().lower() for line in text.splitlines()]\n",
    "\n",
    "    words = []\n",
    "    for line in lines:\n",
    "        words += [each_word for each_word in line.split()]\n",
    "        \n",
    "    #Lighten the load by getting rid of basic stopwords, like \"the\", \"or\" etc    \n",
    "    words = set(words) - set(nltk.corpus.stopwords.words(\"english\")) \n",
    "    \n",
    "    return text, words\n",
    "    "
   ]
  },
  {
   "cell_type": "code",
   "execution_count": 44,
   "metadata": {
    "collapsed": true
   },
   "outputs": [],
   "source": [
    "#method accepts a list of words in a job post, and creates sets according to pre-determined sets\n",
    "def words_by_category(job_posts):\n",
    "        \n",
    "    languages = set(['r', 'python', 'java', 'scala', 'c', 'c++', 'c#', 'c--', \n",
    "                            'f#', 'groovy', 'julia', 'jscript', \n",
    "                            'matlab', 'perl', 'javascript', 'php', 'swift', 'coffeescript'\n",
    "                            'coffee', 'sql','psql', 'tsql',  'mathematica', 'wolfram', 'pascal'])#want to include 'go!' once find out how to allow '!'\n",
    "    \n",
    "    frameworks = set(['angular',  'angularjs', 'typescript' ,'backbone', 'underscore' ,\n",
    "                      'asp', 'node', 'django', 'flask' ])\n",
    "    \n",
    "    hadoop_technologies = set(['hadoop', 'pig', 'mapreduce', 'spark', 'hive', 'flume', \n",
    "                              'shark', 'zookeeper', 'mahout' ])\n",
    "\n",
    "    #operating systems and tools\n",
    "    operating_system_tools = set(['unix', 'osx', 'bash', 'batch' , 'curl', 'linux', 'windows', 'git' ])\n",
    "    \n",
    "    cloud_computing = set(['cloud_computing', 'aws', 'azure', 'cloudera', 'chef', 'joyent', 'rackspace', \n",
    "                           'century_link' ])\n",
    "        \n",
    "    machine_learning_algorithms = set(['decision_trees', 'clustering', 'regression', 'anova', \n",
    "                                       'k-means', 'neural_networks', 'supervised learning', 'unsupervised_learning',\n",
    "                                       'reinforcement_learning', 'logistic_regression', 'linear_regression', 'naive_bayes', 'random_forest', \n",
    "                                       'deep_learning', 'pca', 'shrinkage', 'regression', 'support_vector_machines', 'svm', \n",
    "                                      'boosted', 'feature_selection', 'natural_language', 'nlp', 'cart', ])\n",
    "    \n",
    "    analysis_tools = set(['excel', 'spss', 'sas', 'tableau', 'visual_basic', 'd3' ])\n",
    "    \n",
    "    relational_databases = set(['redshift', 'postgressql', 'mysql', 'oracle', 'db2', 'h2', \n",
    "                               'sqlbase', 'libreoffice', 'netezza', 'azure', 'firebird', 'sql_server'])\n",
    "    \n",
    "    nosql_technologies = set(['nosql', 'hbase', 'cloudera', 'cassandra', 'scylla', 'mongodb', 'sonarw', 'jsonar', \n",
    "                             'elassandra', 'couchdb', 'rethinkdb', 'dynamodb', 'arangodb'])\n",
    "    \n",
    "    graph_databases = set(['graph_databases', 'graph_database', 'graph_databases', 'neo4j', 'arangodb', 'orientdb', 'graphbase', 'trinity'])\n",
    "    \n",
    "    academic_degrees = set(['bachelor', 'master','doctor', 'doctorate','mscphd' 'ph_d', 'phd', \n",
    "                            'm_sc', 'b_a', 'b_sc', 'advanced_degree', 'mba'])\n",
    "    \n",
    "    academic_disciplines = set(['mathematics', 'statistics','statistical', 'computer_science', 'business', 'stem', \n",
    "                               'operations_research', 'economics'])\n",
    "    \n",
    "    \n",
    "    #for each job post see which skills appear. Leave as python.set data strucuture for effecient set operations later\n",
    "    for post in job_posts:\n",
    "        post['languages'] = set(post['words']) & languages\n",
    "        post['frameworks'] = set(post['words']) & frameworks\n",
    "        post['hadoop_technologies'] = set(post['words']) & hadoop_technologies\n",
    "        post['operating_system_tools'] = set(post['words']) & operating_system_tools\n",
    "        post['machine_learning_algorithms'] = set(post['words']) & machine_learning_algorithms\n",
    "        post['analysis_tools'] = set(post['words']) & analysis_tools\n",
    "        post['relational_databases'] = set(post['words']) & relational_databases\n",
    "        post['nosql_technologies'] = set(post['words']) & nosql_technologies\n",
    "        post['graph_databases'] = set(post['words']) & graph_databases\n",
    "        post['academic_degrees'] = set(post['words']) & academic_degrees\n",
    "        post['academic_disciplines'] = set(post['words']) & academic_disciplines\n",
    "        post['academic_degrees'] = set(post['words']) & academic_degrees\n",
    "        \n",
    "        post['all_skills'] = languages.union(frameworks).union(\n",
    "            hadoop_technologies).union(operating_system_tools).union(machine_learning_algorithms).union(\n",
    "            analysis_tools).union(relational_databases).union(nosql_technologies).union(graph_databases).union(\n",
    "            academic_degrees).union(academic_disciplines) & set(post['words'])\n",
    "        \n",
    "        "
   ]
  },
  {
   "cell_type": "code",
   "execution_count": 6,
   "metadata": {
    "collapsed": false
   },
   "outputs": [],
   "source": [
    "def crawl_indeed(query, city = \"\", experience_level = \"\", num_pages = 10):\n",
    "    \n",
    "    #clean parameters so that they match Indeed's protocol\n",
    "    \n",
    "    #spaces parameters seperated by '+'\n",
    "    query = query.replace(' ', '+')\n",
    "    city = city.replace(' ' , '+')\n",
    "    \n",
    "    #make sure experience_level is one of the four valid options\n",
    "    if experience_level not in ['', 'entry_level', 'mid_level', 'senior_level']:\n",
    "        experience_level = ''\n",
    "        print \"Experience level parameter not valid. Showing all experience levels\"\n",
    "    \n",
    "    #build data in JSON-like format, given the heirarchial nature of the data\n",
    "    data = list()\n",
    "    \n",
    "    #Indeed shows job posts 10 at a time, so each page starts with post 0, 10, 20...\n",
    "    #Loop through the posts using the num_pages parameter\n",
    "    \n",
    "    page_start_numbers = np.arange(num_pages)*10\n",
    "    \n",
    "    for start_number in page_start_numbers:\n",
    "        \n",
    "        \n",
    "        url = \"http://www.indeed.com/jobs?q={0}&l={1}&explvl={2}&start={3}\".format(\n",
    "                query, city, experience_level, start_number)\n",
    "            \n",
    "        try:\n",
    "            html = urlopen(url).read()\n",
    "            page_soup = BeautifulSoup(html, \"html.parser\")\n",
    "        except:\n",
    "            next\n",
    "    \n",
    "        #get a list of all the <a class='jobtitle'></a> elemdents, which are job posts\n",
    "        job_posts = get_job_posts(page_soup)\n",
    "\n",
    "        for post in job_posts:\n",
    "            \n",
    "            #each job post gets a sub-dictionary\n",
    "            post_data = dict()\n",
    "            \n",
    "            #attributes which are constant amongst all results for each execution\n",
    "            post_data['query'] = query\n",
    "            post_data['city'] = city\n",
    "            \n",
    "            #job title of that sepcific post\n",
    "            post_data['title'] = post['title']\n",
    "            \n",
    "            \n",
    "            #for each job post, extract the link to the post itself. Store in data dictionary for later\n",
    "            post_href = 'http://www.indeed.com'+post['href']\n",
    "            post_data['href'] = post_href\n",
    "            \n",
    "            #extract all the (cleaned up) words fromt that link\n",
    "            full_text, post_words = get_words(post_href)\n",
    "                        \n",
    "            post_data['words'] =post_words\n",
    "            data.append(post_data)\n",
    "            \n",
    "    words_by_category(data)\n",
    "    return pd.DataFrame(data)"
   ]
  },
  {
   "cell_type": "code",
   "execution_count": 8,
   "metadata": {
    "collapsed": false
   },
   "outputs": [
    {
     "name": "stdout",
     "output_type": "stream",
     "text": [
      "didnt work with url http://www.indeed.com/pagead/clk?mo=r&ad=-6NYlbfkN0AzE-GWYPxFZGI_92kcJvjHcwHh-UmCJSBCnWA3WKOu8yJ91v6VRoc40o0YF8jyebZHV8cNWxd7xzShgQBcHL8VMx0mXz8P68tT2fWxug52QAGysWqi_lLn19umDRnkApetf-7BNLBzMi_FLyO7c6EHJifTBOBMlDHTf2UReu0XrDP-fvf-bTl_ECqxA_GkO1P9K1ybT4Mr1gMi4MwL1RI-3VIQ-CP64ufz9uixMgEj8MuoGfCH3B1J_JEaWttGsJgkZscPGqOaDBzmOnL0f-8ubhQauLZhSxLk-y4QIe-CTSsB7BFPSxmzbX-Wisb8aexA3Y1ABVLFKQyalO94mjgU4FjFGvIDiQFAvSupOCRCIP5exuQ1ynXDhz9O3g1ALD5iJGvpJccKz1LUghd7AnsymkDuQfojmtaIprqtgFTwNFigBD8KO72cNYe0CLhaw2FqRAoT6ch8Zs28A78ScPAIR1hLtXza47EzKRRhevJpqQ==&p=2&sk=&fvj=0 \n",
      "\n",
      "\n",
      "\n",
      "didnt work with url http://www.indeed.com/pagead/clk?mo=r&ad=-6NYlbfkN0AzE-GWYPxFZGI_92kcJvjHcwHh-UmCJSBCnWA3WKOu8yJ91v6VRoc40o0YF8jyebZHV8cNWxd7xzShgQBcHL8VMx0mXz8P68tT2fWxug52QAGysWqi_lLn19umDRnkApetf-7BNLBzMo3a9p6Lv8Jpv_DRwAs0lVA_IRB4naWhBpK-rReZ2s1MClZiDQ5f3Tb7WkR_AXRPf-IZw_Y7_obe9LamhtbiJ7K0i5MYSFT8kIv0XhE46xRRnvzN-CJh_Iq1qHERjr2PVgFqHlDzMXIOSeiDvJuxyroBZBJUbI3WNobN6YxH8t1ushCi4C8FjT79z_UEGk1_ezZ0AoW5DuwzG3kA708KEzmxZxhhiBzfvRzp5sD6pJF9DmfKLzQbeeiYf97zS9DaeNkp3yxLKZJdYHBu1ghgn2RAOSadx3ppZBPkiGR352B-rRTn5U_ZHpNKqgYxqFO4FFissd8bIXZtJYIxqOyya8XefnmWq6bd5g==&p=5&sk=&fvj=0 \n",
      "\n",
      "\n",
      "\n",
      "didnt work with url http://www.indeed.com/pagead/clk?mo=r&ad=-6NYlbfkN0AzE-GWYPxFZGI_92kcJvjHcwHh-UmCJSBCnWA3WKOu8yJ91v6VRoc40o0YF8jyebZHV8cNWxd7xzShgQBcHL8VMx0mXz8P68tT2fWxug52QAGysWqi_lLn19umDRnkApetf-7BNLBzMo_k0ELHuTcm--RiFghRiEGibq4xQLp-nzJeY9iGETcKAHNoEMLHPLzUH8cMUi4c2FoqA16623ic7d2quehie-nKR74TdF8pkegLmlGEBQbmmR3gfPhFdGMSVDzLcSWoJpa_uryioGcCwHipSM-7kjzPjkF7wZUhZxZDUtdliz3nyQMljNgTnzzLzCSIL1F1a70mjM80_c9NYDMzGtCwe1A2YJ4eEvaEIKPiPPDq_BRLBXwMRdUR6zplk9_92oZr2uawGIyuAQenDJrAW9WwHMt2Jv34LUjo0o-vT77dK0UhwCP79p7kEcws-UOxS8gn3d3PpNtZYDthVZpV02-DpXms2Rzg5C10E6jxinjOK1J0ObFelkBoEkk=&p=4&sk=&fvj=0 \n",
      "\n",
      "\n",
      "\n"
     ]
    }
   ],
   "source": [
    "data_scientist_all = crawl_indeed('data scientist', num_pages = 40)\n",
    "data_analyst_all = crawl_indeed('data analyst', num_pages = 40)\n",
    "data_engineer_all = crawl_indeed('data engineer', num_pages = 40)\n",
    "machine_learning_engineer_all = crawl_indeed('machine learning engineer', num_pages = 40 )"
   ]
  },
  {
   "cell_type": "code",
   "execution_count": 43,
   "metadata": {
    "collapsed": false
   },
   "outputs": [
    {
     "name": "stdout",
     "output_type": "stream",
     "text": [
      "didnt work with url http://www.indeed.com/pagead/clk?mo=r&ad=-6NYlbfkN0DUnwefsF7K5sI9KMOiuTab93Tl5aV87o5poBYEvjEbgE7oyuYH0UeAH0p2dm5KvWLlt1sZcevRoqCkONMldkncq2MYsgccBuDvJ-Cyd21C-zguN1sqx6Juikm5mXNubsvwSJQbC9m85r5URj9HT__6sgtbGMdLmVgIdDyl82bKqcguaxCxvNhSdhNwLZ3DRrM7c_2tV82e_l0Bou1k1O3zTb0_sVnbn6pgAUKDE51GBWlmyPZi20G2KiyVZrd--JPktv4Iniyffd_i5dW-yQkmrAVnFczcQI6a3TX6BVANfsaRhCd239l8BRiV6ZthRQqbZzjaD-1mkCG-Uo9ek5pJNBdHvnHoOY9bgKbEMwfkfdhMx2w2w5GuQcrOyXKmhCw1Cm1_7gQPeeqNJ0y3gDCIGQLEQuoecp4r9vtCJ1lOHmTCSpFxNk0Jr9Bk7Wmy9qrt9Mx3UYKNfHdB4cBT-NNuAoWjt3osB1B_B3iKRjdsZgUDtJHCZqu19zSivXQogK0OutmccjEiKOqKIaYtLwSZOMyOrHPtPx5siYJrfawnmMtGcg_O3-sXxjB0sUniLEkiguhKTf6fvfWVRRDWqfg1XfUOyOp4NDNegtZ06LC1Hs1F3jkfSmaijbuZQeK7qOr6KYqhz8tVtX6YeXQ3AjZV8HfvTcjzV1v8A2MTgvNg-vJTU9WtziEr645htayx3Yk7_v9BTYmjC7u1gORRiYKP_ckF_Py1Rq4_DIZKRUYDEB4T5ghQt3Y6bd_liOTd1dSL8F5ep3vUlNaPwWx5d6c2e8feQLilWwkdU5-bD18yn3krLctIU28b1cH_5NAasRpRsDBZodJf_Y-fl0b9Xmkb&p=4&sk=&fvj=0 \n",
      "\n",
      "\n",
      "\n",
      "didnt work with url http://www.indeed.com/pagead/clk?mo=r&ad=-6NYlbfkN0AeXqKq830ewHpnd7xReZSBEdol3cmuR_H6JP666wHkOsEBbjTjIjBFgCCXLpLmXauvw7gov44MMgGmGfcdWPeqFEtimEp0E084kGs5I1xtpbYOTedftsklxVpywkXwoCqRI3twMIGXwJwhTcB8gPx0TkAMFh5vNGjcYgl9S6gEdePxuKt2zlul3eGYOznAC-4gfY-tr3UxTWNclyxe0GG90ysu6wGFf6TvxdFfU6lwUY5GZP2Jye6eP70OxGdZPaq9TUmPMV2xruUm-QzEBcwRLR0u_ULhq2f_J15QJmlSQVfm_VRvJaH60eiX8rHklKbn4AyWmh1B-iRtAkQ_b0fHbfx9AwVWVfcoNSjsCMmMlXEjC7ZWipMGejMaJgar02srSqr4q_qm7jqWjf5wESVz4Zan4jq_e3tYCmAkh7fzG_UHQXLV79iyr-e40spoP5WFeKq3nlrGVP2G-bEqeOf7TOoEqsMIBIX3OJAwTDV7FaW5ySLyYhobyKf-G_znl32b7bJ1VrM0k5CL5VzDdtZKBrPJl5aUYQ4IvZvbBrP2jpbq4tRYDMiDKoJvUvhVeeukU_2mHxmfwuZikWrG5uPmykV0IkevOBdF7lpbcnLFafH_Gp6hOIOLhhJhrfiaBf6h6vwl2d42B0A5MqkJoHkoSPivngKcReRlo1CpZdgp5ZzwtDfdZ0nDtIb1_kUPyZTG-0ZA9eXeYfaeZMgscICtXV2x4LRLdRSWZxRDZexLeNNsMU282MmXrfb_-ywg61f5wWXt0JBZU9WLB4Fm_e4_GXALgNB4gvE=&p=1&sk=&fvj=0 \n",
      "\n",
      "\n",
      "\n"
     ]
    }
   ],
   "source": [
    "\n",
    "data_scientist_nyc = crawl_indeed('data scientist', city = 'new york', num_pages = 30)\n",
    "data_scientist_sanfran = crawl_indeed('data scientist', city = 'san fransisco', num_pages = 30)\n",
    "data_scientist_boston = crawl_indeed('data scientist', city = 'boston', num_pages = 30)\n",
    "data_scientist_chicago = crawl_indeed('data scientist', city = 'chicago', num_pages = 30)\n"
   ]
  },
  {
   "cell_type": "code",
   "execution_count": null,
   "metadata": {
    "collapsed": true
   },
   "outputs": [],
   "source": [
    "data_scientist_nyc = crawl_indeed('data scientist', city = 'new york', num_pages = 30)\n"
   ]
  },
  {
   "cell_type": "code",
   "execution_count": 12,
   "metadata": {
    "collapsed": false,
    "scrolled": false
   },
   "outputs": [
    {
     "data": {
      "text/html": [
       "<div>\n",
       "<table border=\"1\" class=\"dataframe\">\n",
       "  <thead>\n",
       "    <tr style=\"text-align: right;\">\n",
       "      <th></th>\n",
       "      <th>academic_degrees</th>\n",
       "      <th>academic_disciplines</th>\n",
       "      <th>all_skills</th>\n",
       "      <th>analysis_tools</th>\n",
       "      <th>city</th>\n",
       "      <th>frameworks</th>\n",
       "      <th>graph_databases</th>\n",
       "      <th>hadoop_technologies</th>\n",
       "      <th>href</th>\n",
       "      <th>languages</th>\n",
       "      <th>machine_learning_algorithms</th>\n",
       "      <th>nosql_technologies</th>\n",
       "      <th>operating_system_tools</th>\n",
       "      <th>query</th>\n",
       "      <th>relational_databases</th>\n",
       "      <th>title</th>\n",
       "      <th>words</th>\n",
       "    </tr>\n",
       "  </thead>\n",
       "  <tbody>\n",
       "    <tr>\n",
       "      <th>0</th>\n",
       "      <td>{}</td>\n",
       "      <td>{business}</td>\n",
       "      <td>{r, cart, business}</td>\n",
       "      <td>{}</td>\n",
       "      <td></td>\n",
       "      <td>{}</td>\n",
       "      <td>{}</td>\n",
       "      <td>{}</td>\n",
       "      <td>http://www.indeed.com/pagead/clk?mo=r&amp;ad=-6NYl...</td>\n",
       "      <td>{r}</td>\n",
       "      <td>{cart}</td>\n",
       "      <td>{}</td>\n",
       "      <td>{}</td>\n",
       "      <td>data+scientist</td>\n",
       "      <td>{}</td>\n",
       "      <td>Director, Competitive Intelligence</td>\n",
       "      <td>{limited, applyemailsubjectapplication, 3cli, ...</td>\n",
       "    </tr>\n",
       "    <tr>\n",
       "      <th>1</th>\n",
       "      <td>{}</td>\n",
       "      <td>{}</td>\n",
       "      <td>{}</td>\n",
       "      <td>{}</td>\n",
       "      <td></td>\n",
       "      <td>{}</td>\n",
       "      <td>{}</td>\n",
       "      <td>{}</td>\n",
       "      <td>http://www.indeed.com/pagead/clk?mo=r&amp;ad=-6NYl...</td>\n",
       "      <td>{}</td>\n",
       "      <td>{}</td>\n",
       "      <td>{}</td>\n",
       "      <td>{}</td>\n",
       "      <td>data+scientist</td>\n",
       "      <td>{}</td>\n",
       "      <td>Data Scientist</td>\n",
       "      <td>[]</td>\n",
       "    </tr>\n",
       "    <tr>\n",
       "      <th>2</th>\n",
       "      <td>{}</td>\n",
       "      <td>{statistics}</td>\n",
       "      <td>{statistics, java, scala, python, hadoop, juli...</td>\n",
       "      <td>{}</td>\n",
       "      <td></td>\n",
       "      <td>{}</td>\n",
       "      <td>{}</td>\n",
       "      <td>{hadoop, pig}</td>\n",
       "      <td>http://www.indeed.com/pagead/clk?mo=r&amp;ad=-6NYl...</td>\n",
       "      <td>{java, scala, python, julia, r, sql}</td>\n",
       "      <td>{}</td>\n",
       "      <td>{}</td>\n",
       "      <td>{}</td>\n",
       "      <td>data+scientist</td>\n",
       "      <td>{}</td>\n",
       "      <td>Data Scientist</td>\n",
       "      <td>{operations, savebuttonoutsidecontentblock, he...</td>\n",
       "    </tr>\n",
       "    <tr>\n",
       "      <th>3</th>\n",
       "      <td>{}</td>\n",
       "      <td>{business}</td>\n",
       "      <td>{business, sql, python, decision_trees, javasc...</td>\n",
       "      <td>{}</td>\n",
       "      <td></td>\n",
       "      <td>{angular}</td>\n",
       "      <td>{}</td>\n",
       "      <td>{spark}</td>\n",
       "      <td>http://www.indeed.com/pagead/clk?mo=r&amp;ad=-6NYl...</td>\n",
       "      <td>{python, r, javascript, sql, perl}</td>\n",
       "      <td>{reinforcement_learning, decision_trees, regre...</td>\n",
       "      <td>{}</td>\n",
       "      <td>{linux}</td>\n",
       "      <td>data+scientist</td>\n",
       "      <td>{}</td>\n",
       "      <td>Data Scientist</td>\n",
       "      <td>{code, sales, setcustomvar, global, results, c...</td>\n",
       "    </tr>\n",
       "    <tr>\n",
       "      <th>4</th>\n",
       "      <td>{master}</td>\n",
       "      <td>{mathematics, statistics, business}</td>\n",
       "      <td>{statistics, business, python, excel, cart, r,...</td>\n",
       "      <td>{excel}</td>\n",
       "      <td></td>\n",
       "      <td>{}</td>\n",
       "      <td>{}</td>\n",
       "      <td>{}</td>\n",
       "      <td>http://www.indeed.com/pagead/clk?mo=r&amp;ad=-6NYl...</td>\n",
       "      <td>{python, r}</td>\n",
       "      <td>{neural_networks, cart}</td>\n",
       "      <td>{}</td>\n",
       "      <td>{}</td>\n",
       "      <td>data+scientist</td>\n",
       "      <td>{}</td>\n",
       "      <td>Data Scientist – Predictive Analytics</td>\n",
       "      <td>{applyemailsubjectapplication, code, ftltab, m...</td>\n",
       "    </tr>\n",
       "    <tr>\n",
       "      <th>5</th>\n",
       "      <td>{bachelor}</td>\n",
       "      <td>{business}</td>\n",
       "      <td>{c, business, javascript, excel, bachelor, r, ...</td>\n",
       "      <td>{excel}</td>\n",
       "      <td></td>\n",
       "      <td>{}</td>\n",
       "      <td>{}</td>\n",
       "      <td>{}</td>\n",
       "      <td>http://www.indeed.com/pagead/clk?mo=r&amp;ad=-6NYl...</td>\n",
       "      <td>{c, javascript, r, sql}</td>\n",
       "      <td>{}</td>\n",
       "      <td>{}</td>\n",
       "      <td>{}</td>\n",
       "      <td>data+scientist</td>\n",
       "      <td>{}</td>\n",
       "      <td>Data Specialist</td>\n",
       "      <td>{ptk, sg-btn-block, skip, cwoa, focus, #2e, sn...</td>\n",
       "    </tr>\n",
       "    <tr>\n",
       "      <th>6</th>\n",
       "      <td>{phd}</td>\n",
       "      <td>{}</td>\n",
       "      <td>{r, angular, javascript, phd}</td>\n",
       "      <td>{}</td>\n",
       "      <td></td>\n",
       "      <td>{angular}</td>\n",
       "      <td>{}</td>\n",
       "      <td>{}</td>\n",
       "      <td>http://www.indeed.com/pagead/clk?mo=r&amp;ad=-6NYl...</td>\n",
       "      <td>{r, javascript}</td>\n",
       "      <td>{}</td>\n",
       "      <td>{}</td>\n",
       "      <td>{}</td>\n",
       "      <td>data+scientist</td>\n",
       "      <td>{}</td>\n",
       "      <td>Principal Scientist, Analytical Services</td>\n",
       "      <td>{chain, dissolution, results, existing, catch,...</td>\n",
       "    </tr>\n",
       "    <tr>\n",
       "      <th>7</th>\n",
       "      <td>{advanced_degree}</td>\n",
       "      <td>{mathematics, statistics, business}</td>\n",
       "      <td>{clustering, statistics, business, nosql, adva...</td>\n",
       "      <td>{sas, tableau, spss}</td>\n",
       "      <td></td>\n",
       "      <td>{angular}</td>\n",
       "      <td>{}</td>\n",
       "      <td>{hadoop}</td>\n",
       "      <td>http://www.indeed.com/pagead/clk?mo=r&amp;ad=-6NYl...</td>\n",
       "      <td>{r, javascript, sql}</td>\n",
       "      <td>{clustering, regression}</td>\n",
       "      <td>{nosql}</td>\n",
       "      <td>{}</td>\n",
       "      <td>data+scientist</td>\n",
       "      <td>{h2}</td>\n",
       "      <td>Marketing Data Scientist</td>\n",
       "      <td>{educationbachelor, catch, ga, jv-job-list, au...</td>\n",
       "    </tr>\n",
       "    <tr>\n",
       "      <th>8</th>\n",
       "      <td>{phd}</td>\n",
       "      <td>{mathematics, statistics}</td>\n",
       "      <td>{natural_language, c, statistics, tableau, jav...</td>\n",
       "      <td>{tableau}</td>\n",
       "      <td></td>\n",
       "      <td>{}</td>\n",
       "      <td>{}</td>\n",
       "      <td>{hadoop}</td>\n",
       "      <td>http://www.indeed.com/pagead/clk?mo=r&amp;ad=-6NYl...</td>\n",
       "      <td>{c, javascript, r, sql}</td>\n",
       "      <td>{natural_language}</td>\n",
       "      <td>{}</td>\n",
       "      <td>{}</td>\n",
       "      <td>data+scientist</td>\n",
       "      <td>{}</td>\n",
       "      <td>Data Scientist</td>\n",
       "      <td>{scorecardresearch, ptk, sg-btn-block, skip, c...</td>\n",
       "    </tr>\n",
       "    <tr>\n",
       "      <th>9</th>\n",
       "      <td>{bachelor, advanced_degree}</td>\n",
       "      <td>{mathematics, statistics, business}</td>\n",
       "      <td>{node, nlp, c, asp, java, advanced_degree, bus...</td>\n",
       "      <td>{}</td>\n",
       "      <td></td>\n",
       "      <td>{node, asp}</td>\n",
       "      <td>{}</td>\n",
       "      <td>{spark, hive}</td>\n",
       "      <td>http://www.indeed.com/pagead/clk?mo=r&amp;ad=-6NYl...</td>\n",
       "      <td>{python, r, c, javascript, java}</td>\n",
       "      <td>{nlp}</td>\n",
       "      <td>{}</td>\n",
       "      <td>{}</td>\n",
       "      <td>data+scientist</td>\n",
       "      <td>{h2}</td>\n",
       "      <td>Data Scientist</td>\n",
       "      <td>{code, skip, platforms, global, gz, themes, to...</td>\n",
       "    </tr>\n",
       "  </tbody>\n",
       "</table>\n",
       "</div>"
      ],
      "text/plain": [
       "              academic_degrees                 academic_disciplines  \\\n",
       "0                           {}                           {business}   \n",
       "1                           {}                                   {}   \n",
       "2                           {}                         {statistics}   \n",
       "3                           {}                           {business}   \n",
       "4                     {master}  {mathematics, statistics, business}   \n",
       "5                   {bachelor}                           {business}   \n",
       "6                        {phd}                                   {}   \n",
       "7            {advanced_degree}  {mathematics, statistics, business}   \n",
       "8                        {phd}            {mathematics, statistics}   \n",
       "9  {bachelor, advanced_degree}  {mathematics, statistics, business}   \n",
       "\n",
       "                                          all_skills        analysis_tools  \\\n",
       "0                                {r, cart, business}                    {}   \n",
       "1                                                 {}                    {}   \n",
       "2  {statistics, java, scala, python, hadoop, juli...                    {}   \n",
       "3  {business, sql, python, decision_trees, javasc...                    {}   \n",
       "4  {statistics, business, python, excel, cart, r,...               {excel}   \n",
       "5  {c, business, javascript, excel, bachelor, r, ...               {excel}   \n",
       "6                      {r, angular, javascript, phd}                    {}   \n",
       "7  {clustering, statistics, business, nosql, adva...  {sas, tableau, spss}   \n",
       "8  {natural_language, c, statistics, tableau, jav...             {tableau}   \n",
       "9  {node, nlp, c, asp, java, advanced_degree, bus...                    {}   \n",
       "\n",
       "  city   frameworks graph_databases hadoop_technologies  \\\n",
       "0                {}              {}                  {}   \n",
       "1                {}              {}                  {}   \n",
       "2                {}              {}       {hadoop, pig}   \n",
       "3         {angular}              {}             {spark}   \n",
       "4                {}              {}                  {}   \n",
       "5                {}              {}                  {}   \n",
       "6         {angular}              {}                  {}   \n",
       "7         {angular}              {}            {hadoop}   \n",
       "8                {}              {}            {hadoop}   \n",
       "9       {node, asp}              {}       {spark, hive}   \n",
       "\n",
       "                                                href  \\\n",
       "0  http://www.indeed.com/pagead/clk?mo=r&ad=-6NYl...   \n",
       "1  http://www.indeed.com/pagead/clk?mo=r&ad=-6NYl...   \n",
       "2  http://www.indeed.com/pagead/clk?mo=r&ad=-6NYl...   \n",
       "3  http://www.indeed.com/pagead/clk?mo=r&ad=-6NYl...   \n",
       "4  http://www.indeed.com/pagead/clk?mo=r&ad=-6NYl...   \n",
       "5  http://www.indeed.com/pagead/clk?mo=r&ad=-6NYl...   \n",
       "6  http://www.indeed.com/pagead/clk?mo=r&ad=-6NYl...   \n",
       "7  http://www.indeed.com/pagead/clk?mo=r&ad=-6NYl...   \n",
       "8  http://www.indeed.com/pagead/clk?mo=r&ad=-6NYl...   \n",
       "9  http://www.indeed.com/pagead/clk?mo=r&ad=-6NYl...   \n",
       "\n",
       "                              languages  \\\n",
       "0                                   {r}   \n",
       "1                                    {}   \n",
       "2  {java, scala, python, julia, r, sql}   \n",
       "3    {python, r, javascript, sql, perl}   \n",
       "4                           {python, r}   \n",
       "5               {c, javascript, r, sql}   \n",
       "6                       {r, javascript}   \n",
       "7                  {r, javascript, sql}   \n",
       "8               {c, javascript, r, sql}   \n",
       "9      {python, r, c, javascript, java}   \n",
       "\n",
       "                         machine_learning_algorithms nosql_technologies  \\\n",
       "0                                             {cart}                 {}   \n",
       "1                                                 {}                 {}   \n",
       "2                                                 {}                 {}   \n",
       "3  {reinforcement_learning, decision_trees, regre...                 {}   \n",
       "4                            {neural_networks, cart}                 {}   \n",
       "5                                                 {}                 {}   \n",
       "6                                                 {}                 {}   \n",
       "7                           {clustering, regression}            {nosql}   \n",
       "8                                 {natural_language}                 {}   \n",
       "9                                              {nlp}                 {}   \n",
       "\n",
       "  operating_system_tools           query relational_databases  \\\n",
       "0                     {}  data+scientist                   {}   \n",
       "1                     {}  data+scientist                   {}   \n",
       "2                     {}  data+scientist                   {}   \n",
       "3                {linux}  data+scientist                   {}   \n",
       "4                     {}  data+scientist                   {}   \n",
       "5                     {}  data+scientist                   {}   \n",
       "6                     {}  data+scientist                   {}   \n",
       "7                     {}  data+scientist                 {h2}   \n",
       "8                     {}  data+scientist                   {}   \n",
       "9                     {}  data+scientist                 {h2}   \n",
       "\n",
       "                                      title  \\\n",
       "0        Director, Competitive Intelligence   \n",
       "1                            Data Scientist   \n",
       "2                            Data Scientist   \n",
       "3                            Data Scientist   \n",
       "4     Data Scientist – Predictive Analytics   \n",
       "5                           Data Specialist   \n",
       "6  Principal Scientist, Analytical Services   \n",
       "7                  Marketing Data Scientist   \n",
       "8                            Data Scientist   \n",
       "9                            Data Scientist   \n",
       "\n",
       "                                               words  \n",
       "0  {limited, applyemailsubjectapplication, 3cli, ...  \n",
       "1                                                 []  \n",
       "2  {operations, savebuttonoutsidecontentblock, he...  \n",
       "3  {code, sales, setcustomvar, global, results, c...  \n",
       "4  {applyemailsubjectapplication, code, ftltab, m...  \n",
       "5  {ptk, sg-btn-block, skip, cwoa, focus, #2e, sn...  \n",
       "6  {chain, dissolution, results, existing, catch,...  \n",
       "7  {educationbachelor, catch, ga, jv-job-list, au...  \n",
       "8  {scorecardresearch, ptk, sg-btn-block, skip, c...  \n",
       "9  {code, skip, platforms, global, gz, themes, to...  "
      ]
     },
     "execution_count": 12,
     "metadata": {},
     "output_type": "execute_result"
    }
   ],
   "source": [
    "data_scientist_all.head(10)"
   ]
  },
  {
   "cell_type": "code",
   "execution_count": 58,
   "metadata": {
    "collapsed": false
   },
   "outputs": [
    {
     "data": {
      "text/plain": [
       "{'business', 'cart', 'r'}"
      ]
     },
     "execution_count": 58,
     "metadata": {},
     "output_type": "execute_result"
    }
   ],
   "source": [
    "#each \"skill\" attribute is a python core set object\n",
    "data_scientist_all.iloc[0]['all_skills']"
   ]
  },
  {
   "cell_type": "code",
   "execution_count": 15,
   "metadata": {
    "collapsed": false
   },
   "outputs": [],
   "source": [
    "#accepts a processed dataframe, and a list of skill categories to include\n",
    "def get_skill_frequency(df, *exclude_categories): \n",
    "    \n",
    "    counter = Counter()\n",
    "    for index, job_post in df.iterrows():\n",
    "        for category_to_exclude in exclude_categories:\n",
    "            skills = job_post['all_skills'] - job_post[category_to_exclude][0]\n",
    "        for skill in skills: \n",
    "            counter[skill]+=1\n",
    "    \n",
    "    #convert values to a freqeuncy of total posts that have that skill\n",
    "    number_of_posts = float(df.shape[0])\n",
    "    \n",
    "    for key in counter.keys():\n",
    "        counter[key] = counter[key]/number_of_posts\n",
    "    \n",
    "    df = pd.DataFrame(data = counter, index = [0]).T\n",
    "    \n",
    "    df.sort_values(by = 0, inplace = True)\n",
    "\n",
    "    return df\n",
    "        \n",
    "    "
   ]
  },
  {
   "cell_type": "code",
   "execution_count": 21,
   "metadata": {
    "collapsed": false,
    "scrolled": false
   },
   "outputs": [],
   "source": [
    "data_scientist_all_frequency = get_skill_frequency(data_scientist_all, ['academic_degrees'])\n",
    "data_analyst_all_frequency = get_skill_frequency(data_analyst_all, ['academic_degrees'])\n",
    "data_engineer_all_frequency = get_skill_frequency(data_engineer_all, ['academic_degrees'])\n",
    "machine_learning_engineer_all_frequency = get_skill_frequency(machine_learning_engineer_all, ['academic_degrees'])"
   ]
  },
  {
   "cell_type": "code",
   "execution_count": 46,
   "metadata": {
    "collapsed": true
   },
   "outputs": [],
   "source": [
    "data_scientist_nyc_frequency = get_skill_frequency(data_scientist_nyc, ['academic_degrees'])\n",
    "data_scientist_boston_frequency = get_skill_frequency(data_scientist_boston, ['academic_degrees'])\n",
    "data_scientist_sanfran_frequency = get_skill_frequency(data_scientist_sanfran, ['academic_degrees'])\n",
    "data_scientist_chicago_frequency = get_skill_frequency(data_scientist_chicago, ['academic_degrees'])"
   ]
  },
  {
   "cell_type": "code",
   "execution_count": 42,
   "metadata": {
    "collapsed": false
   },
   "outputs": [
    {
     "data": {
      "text/plain": [
       "<matplotlib.axes._subplots.AxesSubplot at 0x1337edf50>"
      ]
     },
     "execution_count": 42,
     "metadata": {},
     "output_type": "execute_result"
    },
    {
     "data": {
      "image/png": "[encoded data removed]",
      "text/plain": [
       "<matplotlib.figure.Figure at 0x12013e490>"
      ]
     },
     "metadata": {},
     "output_type": "display_data"
    }
   ],
   "source": [
    "\n",
    "fig, axes = plt.subplots(nrows=2, ncols=2, figsize=(20, 15))\n",
    "plt.subplots_adjust(hspace = .3)\n",
    "    \n",
    "data_scientist_all_frequency.plot(ax=axes[0,0],  kind = 'bar', legend = None, \n",
    "                              title = 'Percentage of job posts found under search \"data scientist\" with listed skill:')\n",
    "\n",
    "data_analyst_all_frequency.plot(ax=axes[0,1],  kind = 'bar', legend = None, \n",
    "                              title = 'Percentage of job posts found under search \"data analyst\" with listed skill:')\n",
    "\n",
    "data_engineer_all_frequency.plot(ax=axes[1,0],  kind = 'bar', legend = None, \n",
    "                              title = 'Percentage of job posts found under search \"data engineer\" with listed skill:')\n",
    "\n",
    "machine_learning_engineer_all_frequency.plot(ax=axes[1,1],  kind = 'bar', legend = None, \n",
    "                              title = 'Percentage of job posts found under search \"machine learning engineer\" with listed skill:')"
   ]
  },
  {
   "cell_type": "code",
   "execution_count": 48,
   "metadata": {
    "collapsed": false
   },
   "outputs": [
    {
     "data": {
      "text/plain": [
       "<matplotlib.axes._subplots.AxesSubplot at 0x137b72690>"
      ]
     },
     "execution_count": 48,
     "metadata": {},
     "output_type": "execute_result"
    },
    {
     "data": {
      "image/png": "[encoded data removed]",
      "text/plain": [
       "<matplotlib.figure.Figure at 0x10d2a0810>"
      ]
     },
     "metadata": {},
     "output_type": "display_data"
    }
   ],
   "source": [
    "fig, axes = plt.subplots(nrows=2, ncols=2, figsize=(20, 15))\n",
    "plt.subplots_adjust(hspace = .3)\n",
    "    \n",
    "data_scientist_nyc_frequency.plot(ax=axes[0,0],  kind = 'bar', legend = None, \n",
    "                              title = 'Percentage of \"data scientist\" jobs in new york city with listed skill:')\n",
    "\n",
    "data_scientist_boston_frequency.plot(ax=axes[0,1],  kind = 'bar', legend = None, \n",
    "                              title = 'Percentage of \"data scientist\" jobs in boston with listed skill')\n",
    "\n",
    "data_scientist_sanfran_frequency.plot(ax=axes[1,0],  kind = 'bar', legend = None, \n",
    "                              title = 'Percentage of \"data scientist\" jobs in san fransisco city with listed skill')\n",
    "\n",
    "data_scientist_chicago_frequency.plot(ax=axes[1,1],  kind = 'bar', legend = None, \n",
    "                              title = 'Percentage of \"data scientist\" jobs in chicago with listed skill:')"
   ]
  },
  {
   "cell_type": "code",
   "execution_count": 49,
   "metadata": {
    "collapsed": true
   },
   "outputs": [],
   "source": [
    "#takes a dataframe of job posts, and computes the cardinality of the skills set intersection as a simlarity score\n",
    "def job_post_similarity_matrix(df, *categories_to_exclude):\n",
    "    \n",
    "    for category_to_exclude in categories_to_exclude:\n",
    "        df['all_skills'] = df['all_skills'] - df['category_to_exclude']\n",
    "        \n",
    "    similarity_matrix = pd.pivot(df, index = 'title', columns = 'title', values = 'all_skills', agg_func = '-')"
   ]
  },
  {
   "cell_type": "code",
   "execution_count": 172,
   "metadata": {
    "collapsed": false
   },
   "outputs": [],
   "source": [
    "phd = set(['phd', 'doctorate', 'mscphd', 'mastersphd'])\n",
    "data_scientist_phd = data_scientist_all[data_scientist_all.academic_degrees & phd]\n",
    "machine_learning_engineer_phd = machine_learning_engineer_all[machine_learning_engineer_all.academic_degrees & phd]\n",
    "\n",
    "\n",
    "masters = set(['masters', 'master','msc', 'mscphd', 'mastersphd'])\n",
    "data_scientist_masters = data_scientist_all[data_scientist_all.academic_degrees & masters]\n",
    "machine_learning_engineer_masters = machine_learning_engineer_all[machine_learning_engineer_all.academic_degrees & masters]\n",
    "\n",
    "\n",
    "advanced_degree = set(['advanced_degree']).union(phd).union(masters)\n",
    "data_scientist_advanced_degree = data_scientist_all[data_scientist_all.academic_degrees & advanced_degree]\n",
    "machine_learning_engineer_advanced_degree = machine_learning_engineer_all[machine_learning_engineer_all.academic_degrees & advanced_degree]\n",
    "\n",
    "\n",
    "bachelors = set(['bachelor', 'bachelors', 'bsc', 'ba'])\n",
    "data_scientist_bachelors = data_scientist_all[data_scientist_all.academic_degrees & bachelors]\n",
    "machine_learning_engineer_bachelors = machine_learning_engineer_all[machine_learning_engineer_all.academic_degrees & bachelors]\n",
    "\n",
    "\n",
    "data_scientist_no_degree =  data_scientist_all[[len(degrees_set) == 0 \n",
    "                                                for degrees_set in data_scientist_all.academic_degrees]]\n",
    "\n",
    "machine_learning_engineer_no_degree =  machine_learning_engineer_all[[len(degrees_set) == 0 \n",
    "                                                for degrees_set in machine_learning_engineer_all.academic_degrees]]\n"
   ]
  },
  {
   "cell_type": "code",
   "execution_count": 198,
   "metadata": {
    "collapsed": false
   },
   "outputs": [
    {
     "name": "stdout",
     "output_type": "stream",
     "text": [
      "number of data science positions: 170\n",
      "number of machine learning engineer positions: 123\n"
     ]
    }
   ],
   "source": [
    "print 'number of data science positions:' , data_scientist_all.shape[0]\n",
    "print 'number of machine learning engineer positions:' , machine_learning_engineer_all.shape[0]"
   ]
  },
  {
   "cell_type": "code",
   "execution_count": 80,
   "metadata": {
    "collapsed": false
   },
   "outputs": [
    {
     "data": {
      "text/html": [
       "<div>\n",
       "<table border=\"1\" class=\"dataframe\">\n",
       "  <thead>\n",
       "    <tr style=\"text-align: right;\">\n",
       "      <th></th>\n",
       "      <th>academic_degrees</th>\n",
       "      <th>academic_disciplines</th>\n",
       "      <th>all_skills</th>\n",
       "      <th>analysis_tools</th>\n",
       "      <th>city</th>\n",
       "      <th>frameworks</th>\n",
       "      <th>graph_databases</th>\n",
       "      <th>hadoop_technologies</th>\n",
       "      <th>href</th>\n",
       "      <th>languages</th>\n",
       "      <th>machine_learning_algorithms</th>\n",
       "      <th>nosql_technologies</th>\n",
       "      <th>operating_system_tools</th>\n",
       "      <th>query</th>\n",
       "      <th>relational_databases</th>\n",
       "      <th>title</th>\n",
       "      <th>words</th>\n",
       "    </tr>\n",
       "  </thead>\n",
       "  <tbody>\n",
       "    <tr>\n",
       "      <th>6</th>\n",
       "      <td>{phd}</td>\n",
       "      <td>{}</td>\n",
       "      <td>{r, angular, javascript, phd}</td>\n",
       "      <td>{}</td>\n",
       "      <td></td>\n",
       "      <td>{angular}</td>\n",
       "      <td>{}</td>\n",
       "      <td>{}</td>\n",
       "      <td>http://www.indeed.com/pagead/clk?mo=r&amp;ad=-6NYl...</td>\n",
       "      <td>{r, javascript}</td>\n",
       "      <td>{}</td>\n",
       "      <td>{}</td>\n",
       "      <td>{}</td>\n",
       "      <td>data+scientist</td>\n",
       "      <td>{}</td>\n",
       "      <td>Principal Scientist, Analytical Services</td>\n",
       "      <td>{chain, dissolution, results, existing, catch,...</td>\n",
       "    </tr>\n",
       "    <tr>\n",
       "      <th>8</th>\n",
       "      <td>{phd}</td>\n",
       "      <td>{mathematics, statistics}</td>\n",
       "      <td>{natural_language, c, statistics, tableau, jav...</td>\n",
       "      <td>{tableau}</td>\n",
       "      <td></td>\n",
       "      <td>{}</td>\n",
       "      <td>{}</td>\n",
       "      <td>{hadoop}</td>\n",
       "      <td>http://www.indeed.com/pagead/clk?mo=r&amp;ad=-6NYl...</td>\n",
       "      <td>{c, javascript, r, sql}</td>\n",
       "      <td>{natural_language}</td>\n",
       "      <td>{}</td>\n",
       "      <td>{}</td>\n",
       "      <td>data+scientist</td>\n",
       "      <td>{}</td>\n",
       "      <td>Data Scientist</td>\n",
       "      <td>{scorecardresearch, ptk, sg-btn-block, skip, c...</td>\n",
       "    </tr>\n",
       "  </tbody>\n",
       "</table>\n",
       "</div>"
      ],
      "text/plain": [
       "  academic_degrees       academic_disciplines  \\\n",
       "6            {phd}                         {}   \n",
       "8            {phd}  {mathematics, statistics}   \n",
       "\n",
       "                                          all_skills analysis_tools city  \\\n",
       "6                      {r, angular, javascript, phd}             {}        \n",
       "8  {natural_language, c, statistics, tableau, jav...      {tableau}        \n",
       "\n",
       "  frameworks graph_databases hadoop_technologies  \\\n",
       "6  {angular}              {}                  {}   \n",
       "8         {}              {}            {hadoop}   \n",
       "\n",
       "                                                href                languages  \\\n",
       "6  http://www.indeed.com/pagead/clk?mo=r&ad=-6NYl...          {r, javascript}   \n",
       "8  http://www.indeed.com/pagead/clk?mo=r&ad=-6NYl...  {c, javascript, r, sql}   \n",
       "\n",
       "  machine_learning_algorithms nosql_technologies operating_system_tools  \\\n",
       "6                          {}                 {}                     {}   \n",
       "8          {natural_language}                 {}                     {}   \n",
       "\n",
       "            query relational_databases  \\\n",
       "6  data+scientist                   {}   \n",
       "8  data+scientist                   {}   \n",
       "\n",
       "                                      title  \\\n",
       "6  Principal Scientist, Analytical Services   \n",
       "8                            Data Scientist   \n",
       "\n",
       "                                               words  \n",
       "6  {chain, dissolution, results, existing, catch,...  \n",
       "8  {scorecardresearch, ptk, sg-btn-block, skip, c...  "
      ]
     },
     "execution_count": 80,
     "metadata": {},
     "output_type": "execute_result"
    }
   ],
   "source": [
    "data_scientist_phd.head(2)"
   ]
  },
  {
   "cell_type": "code",
   "execution_count": 137,
   "metadata": {
    "collapsed": false
   },
   "outputs": [
    {
     "data": {
      "text/html": [
       "<div>\n",
       "<table border=\"1\" class=\"dataframe\">\n",
       "  <thead>\n",
       "    <tr style=\"text-align: right;\">\n",
       "      <th></th>\n",
       "      <th>academic_degrees</th>\n",
       "      <th>academic_disciplines</th>\n",
       "      <th>all_skills</th>\n",
       "      <th>analysis_tools</th>\n",
       "      <th>city</th>\n",
       "      <th>frameworks</th>\n",
       "      <th>graph_databases</th>\n",
       "      <th>hadoop_technologies</th>\n",
       "      <th>href</th>\n",
       "      <th>languages</th>\n",
       "      <th>machine_learning_algorithms</th>\n",
       "      <th>nosql_technologies</th>\n",
       "      <th>operating_system_tools</th>\n",
       "      <th>query</th>\n",
       "      <th>relational_databases</th>\n",
       "      <th>title</th>\n",
       "      <th>words</th>\n",
       "    </tr>\n",
       "  </thead>\n",
       "  <tbody>\n",
       "    <tr>\n",
       "      <th>4</th>\n",
       "      <td>{master}</td>\n",
       "      <td>{mathematics, statistics, business}</td>\n",
       "      <td>{statistics, business, python, excel, cart, r,...</td>\n",
       "      <td>{excel}</td>\n",
       "      <td></td>\n",
       "      <td>{}</td>\n",
       "      <td>{}</td>\n",
       "      <td>{}</td>\n",
       "      <td>http://www.indeed.com/pagead/clk?mo=r&amp;ad=-6NYl...</td>\n",
       "      <td>{python, r}</td>\n",
       "      <td>{neural_networks, cart}</td>\n",
       "      <td>{}</td>\n",
       "      <td>{}</td>\n",
       "      <td>data+scientist</td>\n",
       "      <td>{}</td>\n",
       "      <td>Data Scientist – Predictive Analytics</td>\n",
       "      <td>{applyemailsubjectapplication, code, ftltab, m...</td>\n",
       "    </tr>\n",
       "    <tr>\n",
       "      <th>13</th>\n",
       "      <td>{master, advanced_degree}</td>\n",
       "      <td>{business}</td>\n",
       "      <td>{c, java, advanced_degree, business, h2, excel...</td>\n",
       "      <td>{excel}</td>\n",
       "      <td></td>\n",
       "      <td>{}</td>\n",
       "      <td>{}</td>\n",
       "      <td>{}</td>\n",
       "      <td>http://www.indeed.com/pagead/clk?mo=r&amp;ad=-6NYl...</td>\n",
       "      <td>{c, r, java}</td>\n",
       "      <td>{}</td>\n",
       "      <td>{}</td>\n",
       "      <td>{windows}</td>\n",
       "      <td>data+scientist</td>\n",
       "      <td>{h2}</td>\n",
       "      <td>Manager, Data Analysis</td>\n",
       "      <td>{skip, dynamic, results, manager, manages, ga,...</td>\n",
       "    </tr>\n",
       "  </tbody>\n",
       "</table>\n",
       "</div>"
      ],
      "text/plain": [
       "             academic_degrees                 academic_disciplines  \\\n",
       "4                    {master}  {mathematics, statistics, business}   \n",
       "13  {master, advanced_degree}                           {business}   \n",
       "\n",
       "                                           all_skills analysis_tools city  \\\n",
       "4   {statistics, business, python, excel, cart, r,...        {excel}        \n",
       "13  {c, java, advanced_degree, business, h2, excel...        {excel}        \n",
       "\n",
       "   frameworks graph_databases hadoop_technologies  \\\n",
       "4          {}              {}                  {}   \n",
       "13         {}              {}                  {}   \n",
       "\n",
       "                                                 href     languages  \\\n",
       "4   http://www.indeed.com/pagead/clk?mo=r&ad=-6NYl...   {python, r}   \n",
       "13  http://www.indeed.com/pagead/clk?mo=r&ad=-6NYl...  {c, r, java}   \n",
       "\n",
       "   machine_learning_algorithms nosql_technologies operating_system_tools  \\\n",
       "4      {neural_networks, cart}                 {}                     {}   \n",
       "13                          {}                 {}              {windows}   \n",
       "\n",
       "             query relational_databases  \\\n",
       "4   data+scientist                   {}   \n",
       "13  data+scientist                 {h2}   \n",
       "\n",
       "                                    title  \\\n",
       "4   Data Scientist – Predictive Analytics   \n",
       "13                 Manager, Data Analysis   \n",
       "\n",
       "                                                words  \n",
       "4   {applyemailsubjectapplication, code, ftltab, m...  \n",
       "13  {skip, dynamic, results, manager, manages, ga,...  "
      ]
     },
     "execution_count": 137,
     "metadata": {},
     "output_type": "execute_result"
    }
   ],
   "source": [
    "data_scientist_masters.head(2)"
   ]
  },
  {
   "cell_type": "code",
   "execution_count": 82,
   "metadata": {
    "collapsed": false
   },
   "outputs": [
    {
     "data": {
      "text/html": [
       "<div>\n",
       "<table border=\"1\" class=\"dataframe\">\n",
       "  <thead>\n",
       "    <tr style=\"text-align: right;\">\n",
       "      <th></th>\n",
       "      <th>academic_degrees</th>\n",
       "      <th>academic_disciplines</th>\n",
       "      <th>all_skills</th>\n",
       "      <th>analysis_tools</th>\n",
       "      <th>city</th>\n",
       "      <th>frameworks</th>\n",
       "      <th>graph_databases</th>\n",
       "      <th>hadoop_technologies</th>\n",
       "      <th>href</th>\n",
       "      <th>languages</th>\n",
       "      <th>machine_learning_algorithms</th>\n",
       "      <th>nosql_technologies</th>\n",
       "      <th>operating_system_tools</th>\n",
       "      <th>query</th>\n",
       "      <th>relational_databases</th>\n",
       "      <th>title</th>\n",
       "      <th>words</th>\n",
       "    </tr>\n",
       "  </thead>\n",
       "  <tbody>\n",
       "    <tr>\n",
       "      <th>4</th>\n",
       "      <td>{master}</td>\n",
       "      <td>{mathematics, statistics, business}</td>\n",
       "      <td>{statistics, business, python, excel, cart, r,...</td>\n",
       "      <td>{excel}</td>\n",
       "      <td></td>\n",
       "      <td>{}</td>\n",
       "      <td>{}</td>\n",
       "      <td>{}</td>\n",
       "      <td>http://www.indeed.com/pagead/clk?mo=r&amp;ad=-6NYl...</td>\n",
       "      <td>{python, r}</td>\n",
       "      <td>{neural_networks, cart}</td>\n",
       "      <td>{}</td>\n",
       "      <td>{}</td>\n",
       "      <td>data+scientist</td>\n",
       "      <td>{}</td>\n",
       "      <td>Data Scientist – Predictive Analytics</td>\n",
       "      <td>{applyemailsubjectapplication, code, ftltab, m...</td>\n",
       "    </tr>\n",
       "    <tr>\n",
       "      <th>6</th>\n",
       "      <td>{phd}</td>\n",
       "      <td>{}</td>\n",
       "      <td>{r, angular, javascript, phd}</td>\n",
       "      <td>{}</td>\n",
       "      <td></td>\n",
       "      <td>{angular}</td>\n",
       "      <td>{}</td>\n",
       "      <td>{}</td>\n",
       "      <td>http://www.indeed.com/pagead/clk?mo=r&amp;ad=-6NYl...</td>\n",
       "      <td>{r, javascript}</td>\n",
       "      <td>{}</td>\n",
       "      <td>{}</td>\n",
       "      <td>{}</td>\n",
       "      <td>data+scientist</td>\n",
       "      <td>{}</td>\n",
       "      <td>Principal Scientist, Analytical Services</td>\n",
       "      <td>{chain, dissolution, results, existing, catch,...</td>\n",
       "    </tr>\n",
       "  </tbody>\n",
       "</table>\n",
       "</div>"
      ],
      "text/plain": [
       "  academic_degrees                 academic_disciplines  \\\n",
       "4         {master}  {mathematics, statistics, business}   \n",
       "6            {phd}                                   {}   \n",
       "\n",
       "                                          all_skills analysis_tools city  \\\n",
       "4  {statistics, business, python, excel, cart, r,...        {excel}        \n",
       "6                      {r, angular, javascript, phd}             {}        \n",
       "\n",
       "  frameworks graph_databases hadoop_technologies  \\\n",
       "4         {}              {}                  {}   \n",
       "6  {angular}              {}                  {}   \n",
       "\n",
       "                                                href        languages  \\\n",
       "4  http://www.indeed.com/pagead/clk?mo=r&ad=-6NYl...      {python, r}   \n",
       "6  http://www.indeed.com/pagead/clk?mo=r&ad=-6NYl...  {r, javascript}   \n",
       "\n",
       "  machine_learning_algorithms nosql_technologies operating_system_tools  \\\n",
       "4     {neural_networks, cart}                 {}                     {}   \n",
       "6                          {}                 {}                     {}   \n",
       "\n",
       "            query relational_databases  \\\n",
       "4  data+scientist                   {}   \n",
       "6  data+scientist                   {}   \n",
       "\n",
       "                                      title  \\\n",
       "4     Data Scientist – Predictive Analytics   \n",
       "6  Principal Scientist, Analytical Services   \n",
       "\n",
       "                                               words  \n",
       "4  {applyemailsubjectapplication, code, ftltab, m...  \n",
       "6  {chain, dissolution, results, existing, catch,...  "
      ]
     },
     "execution_count": 82,
     "metadata": {},
     "output_type": "execute_result"
    }
   ],
   "source": [
    "data_scientist_advanced_degree.head(2)"
   ]
  },
  {
   "cell_type": "code",
   "execution_count": 83,
   "metadata": {
    "collapsed": false
   },
   "outputs": [
    {
     "data": {
      "text/html": [
       "<div>\n",
       "<table border=\"1\" class=\"dataframe\">\n",
       "  <thead>\n",
       "    <tr style=\"text-align: right;\">\n",
       "      <th></th>\n",
       "      <th>academic_degrees</th>\n",
       "      <th>academic_disciplines</th>\n",
       "      <th>all_skills</th>\n",
       "      <th>analysis_tools</th>\n",
       "      <th>city</th>\n",
       "      <th>frameworks</th>\n",
       "      <th>graph_databases</th>\n",
       "      <th>hadoop_technologies</th>\n",
       "      <th>href</th>\n",
       "      <th>languages</th>\n",
       "      <th>machine_learning_algorithms</th>\n",
       "      <th>nosql_technologies</th>\n",
       "      <th>operating_system_tools</th>\n",
       "      <th>query</th>\n",
       "      <th>relational_databases</th>\n",
       "      <th>title</th>\n",
       "      <th>words</th>\n",
       "    </tr>\n",
       "  </thead>\n",
       "  <tbody>\n",
       "    <tr>\n",
       "      <th>5</th>\n",
       "      <td>{bachelor}</td>\n",
       "      <td>{business}</td>\n",
       "      <td>{c, business, javascript, excel, bachelor, r, ...</td>\n",
       "      <td>{excel}</td>\n",
       "      <td></td>\n",
       "      <td>{}</td>\n",
       "      <td>{}</td>\n",
       "      <td>{}</td>\n",
       "      <td>http://www.indeed.com/pagead/clk?mo=r&amp;ad=-6NYl...</td>\n",
       "      <td>{c, javascript, r, sql}</td>\n",
       "      <td>{}</td>\n",
       "      <td>{}</td>\n",
       "      <td>{}</td>\n",
       "      <td>data+scientist</td>\n",
       "      <td>{}</td>\n",
       "      <td>Data Specialist</td>\n",
       "      <td>{ptk, sg-btn-block, skip, cwoa, focus, #2e, sn...</td>\n",
       "    </tr>\n",
       "    <tr>\n",
       "      <th>9</th>\n",
       "      <td>{bachelor, advanced_degree}</td>\n",
       "      <td>{mathematics, statistics, business}</td>\n",
       "      <td>{node, nlp, c, asp, java, advanced_degree, bus...</td>\n",
       "      <td>{}</td>\n",
       "      <td></td>\n",
       "      <td>{node, asp}</td>\n",
       "      <td>{}</td>\n",
       "      <td>{spark, hive}</td>\n",
       "      <td>http://www.indeed.com/pagead/clk?mo=r&amp;ad=-6NYl...</td>\n",
       "      <td>{python, r, c, javascript, java}</td>\n",
       "      <td>{nlp}</td>\n",
       "      <td>{}</td>\n",
       "      <td>{}</td>\n",
       "      <td>data+scientist</td>\n",
       "      <td>{h2}</td>\n",
       "      <td>Data Scientist</td>\n",
       "      <td>{code, skip, platforms, global, gz, themes, to...</td>\n",
       "    </tr>\n",
       "  </tbody>\n",
       "</table>\n",
       "</div>"
      ],
      "text/plain": [
       "              academic_degrees                 academic_disciplines  \\\n",
       "5                   {bachelor}                           {business}   \n",
       "9  {bachelor, advanced_degree}  {mathematics, statistics, business}   \n",
       "\n",
       "                                          all_skills analysis_tools city  \\\n",
       "5  {c, business, javascript, excel, bachelor, r, ...        {excel}        \n",
       "9  {node, nlp, c, asp, java, advanced_degree, bus...             {}        \n",
       "\n",
       "    frameworks graph_databases hadoop_technologies  \\\n",
       "5           {}              {}                  {}   \n",
       "9  {node, asp}              {}       {spark, hive}   \n",
       "\n",
       "                                                href  \\\n",
       "5  http://www.indeed.com/pagead/clk?mo=r&ad=-6NYl...   \n",
       "9  http://www.indeed.com/pagead/clk?mo=r&ad=-6NYl...   \n",
       "\n",
       "                          languages machine_learning_algorithms  \\\n",
       "5           {c, javascript, r, sql}                          {}   \n",
       "9  {python, r, c, javascript, java}                       {nlp}   \n",
       "\n",
       "  nosql_technologies operating_system_tools           query  \\\n",
       "5                 {}                     {}  data+scientist   \n",
       "9                 {}                     {}  data+scientist   \n",
       "\n",
       "  relational_databases            title  \\\n",
       "5                   {}  Data Specialist   \n",
       "9                 {h2}   Data Scientist   \n",
       "\n",
       "                                               words  \n",
       "5  {ptk, sg-btn-block, skip, cwoa, focus, #2e, sn...  \n",
       "9  {code, skip, platforms, global, gz, themes, to...  "
      ]
     },
     "execution_count": 83,
     "metadata": {},
     "output_type": "execute_result"
    }
   ],
   "source": [
    "data_scientist_bachelors.head(2)"
   ]
  },
  {
   "cell_type": "code",
   "execution_count": 89,
   "metadata": {
    "collapsed": false
   },
   "outputs": [
    {
     "data": {
      "text/html": [
       "<div>\n",
       "<table border=\"1\" class=\"dataframe\">\n",
       "  <thead>\n",
       "    <tr style=\"text-align: right;\">\n",
       "      <th></th>\n",
       "      <th>academic_degrees</th>\n",
       "      <th>academic_disciplines</th>\n",
       "      <th>all_skills</th>\n",
       "      <th>analysis_tools</th>\n",
       "      <th>city</th>\n",
       "      <th>frameworks</th>\n",
       "      <th>graph_databases</th>\n",
       "      <th>hadoop_technologies</th>\n",
       "      <th>href</th>\n",
       "      <th>languages</th>\n",
       "      <th>machine_learning_algorithms</th>\n",
       "      <th>nosql_technologies</th>\n",
       "      <th>operating_system_tools</th>\n",
       "      <th>query</th>\n",
       "      <th>relational_databases</th>\n",
       "      <th>title</th>\n",
       "      <th>words</th>\n",
       "    </tr>\n",
       "  </thead>\n",
       "  <tbody>\n",
       "    <tr>\n",
       "      <th>0</th>\n",
       "      <td>{}</td>\n",
       "      <td>{business}</td>\n",
       "      <td>{r, cart, business}</td>\n",
       "      <td>{}</td>\n",
       "      <td></td>\n",
       "      <td>{}</td>\n",
       "      <td>{}</td>\n",
       "      <td>{}</td>\n",
       "      <td>http://www.indeed.com/pagead/clk?mo=r&amp;ad=-6NYl...</td>\n",
       "      <td>{r}</td>\n",
       "      <td>{cart}</td>\n",
       "      <td>{}</td>\n",
       "      <td>{}</td>\n",
       "      <td>data+scientist</td>\n",
       "      <td>{}</td>\n",
       "      <td>Director, Competitive Intelligence</td>\n",
       "      <td>{limited, applyemailsubjectapplication, 3cli, ...</td>\n",
       "    </tr>\n",
       "    <tr>\n",
       "      <th>1</th>\n",
       "      <td>{}</td>\n",
       "      <td>{}</td>\n",
       "      <td>{}</td>\n",
       "      <td>{}</td>\n",
       "      <td></td>\n",
       "      <td>{}</td>\n",
       "      <td>{}</td>\n",
       "      <td>{}</td>\n",
       "      <td>http://www.indeed.com/pagead/clk?mo=r&amp;ad=-6NYl...</td>\n",
       "      <td>{}</td>\n",
       "      <td>{}</td>\n",
       "      <td>{}</td>\n",
       "      <td>{}</td>\n",
       "      <td>data+scientist</td>\n",
       "      <td>{}</td>\n",
       "      <td>Data Scientist</td>\n",
       "      <td>[]</td>\n",
       "    </tr>\n",
       "  </tbody>\n",
       "</table>\n",
       "</div>"
      ],
      "text/plain": [
       "  academic_degrees academic_disciplines           all_skills analysis_tools  \\\n",
       "0               {}           {business}  {r, cart, business}             {}   \n",
       "1               {}                   {}                   {}             {}   \n",
       "\n",
       "  city frameworks graph_databases hadoop_technologies  \\\n",
       "0              {}              {}                  {}   \n",
       "1              {}              {}                  {}   \n",
       "\n",
       "                                                href languages  \\\n",
       "0  http://www.indeed.com/pagead/clk?mo=r&ad=-6NYl...       {r}   \n",
       "1  http://www.indeed.com/pagead/clk?mo=r&ad=-6NYl...        {}   \n",
       "\n",
       "  machine_learning_algorithms nosql_technologies operating_system_tools  \\\n",
       "0                      {cart}                 {}                     {}   \n",
       "1                          {}                 {}                     {}   \n",
       "\n",
       "            query relational_databases                               title  \\\n",
       "0  data+scientist                   {}  Director, Competitive Intelligence   \n",
       "1  data+scientist                   {}                      Data Scientist   \n",
       "\n",
       "                                               words  \n",
       "0  {limited, applyemailsubjectapplication, 3cli, ...  \n",
       "1                                                 []  "
      ]
     },
     "execution_count": 89,
     "metadata": {},
     "output_type": "execute_result"
    }
   ],
   "source": [
    "data_scientist_no_degree.head(2)"
   ]
  },
  {
   "cell_type": "code",
   "execution_count": 181,
   "metadata": {
    "collapsed": false
   },
   "outputs": [],
   "source": [
    "perc_data_scientist_bachelors = data_scientist_bachelors.shape[0]/float(data_scientist_all.shape[0])\n",
    "perc_data_scientist_masters = data_scientist_masters.shape[0]/float(data_scientist_all.shape[0])\n",
    "perc_data_scientist_advanced_degree = data_scientist_advanced_degree.shape[0]/float(data_scientist_all.shape[0])\n",
    "perc_data_scientist_phd = data_scientist_phd.shape[0]/float(data_scientist_all.shape[0])\n",
    "perc_data_scientist_no_degree = data_scientist_no_degree.shape[0]/float(data_scientist_all.shape[0])\n",
    "\n",
    "data_scientist_degree_percentages = pd.DataFrame(data = {'Percentage posts with masters': perc_data_scientist_bachelors,\n",
    "                                     'Percentage posts with bachelors': perc_data_scientist_masters,\n",
    "                                     'Percentage posts with advanced degree': perc_data_scientist_advanced_degree,\n",
    "                                     'Percentage posts with phd': perc_data_scientist_phd,\n",
    "                                     'Percentage posts with no degree specified': perc_data_scientist_no_degree}, \n",
    "                             index = [0]).T"
   ]
  },
  {
   "cell_type": "code",
   "execution_count": 186,
   "metadata": {
    "collapsed": true
   },
   "outputs": [],
   "source": [
    "perc_machine_learning_engineer_bachelors = machine_learning_engineer_bachelors.shape[0]/float(machine_learning_engineer_all.shape[0])\n",
    "perc_machine_learning_engineer_masters = machine_learning_engineer_masters.shape[0]/float(machine_learning_engineer_all.shape[0])\n",
    "perc_machine_learning_engineer_advanced_degree = machine_learning_engineer_advanced_degree.shape[0]/float(machine_learning_engineer_all.shape[0])\n",
    "perc_machine_learning_engineer_phd = machine_learning_engineer_phd.shape[0]/float(machine_learning_engineer_all.shape[0])\n",
    "perc_machine_learning_engineer_no_degree = machine_learning_engineer_no_degree.shape[0]/float(machine_learning_engineer_all.shape[0])\n",
    "\n",
    "machine_learning_engineer_degree_percentages = pd.DataFrame(data = {'Percentage posts with masters': perc_machine_learning_engineer_bachelors,\n",
    "                                     'Percentage posts with bachelors': perc_machine_learning_engineer_masters,\n",
    "                                     'Percentage posts with advanced degree': perc_machine_learning_engineer_advanced_degree,\n",
    "                                     'Percentage posts with phd': perc_machine_learning_engineer_phd,\n",
    "                                     'Percentage posts with no degree specified': perc_machine_learning_engineer_no_degree}, \n",
    "                             index = [0]).T"
   ]
  },
  {
   "cell_type": "code",
   "execution_count": 194,
   "metadata": {
    "collapsed": false
   },
   "outputs": [
    {
     "data": {
      "text/plain": [
       "<matplotlib.axes._subplots.AxesSubplot at 0x14a59ab50>"
      ]
     },
     "execution_count": 194,
     "metadata": {},
     "output_type": "execute_result"
    },
    {
     "data": {
      "image/png": "[encoded data removed]",
      "text/plain": [
       "<matplotlib.figure.Figure at 0x149646710>"
      ]
     },
     "metadata": {},
     "output_type": "display_data"
    }
   ],
   "source": [
    "fig, axes = plt.subplots(nrows=2, ncols=1, figsize=(20, 20))\n",
    "\n",
    "\n",
    "data_scientist_degree_percentages.plot.barh(ax = axes[0], legend = None, figsize = (10, 10), xlim = (0, .7), \n",
    "                                        title = \"Percentage of Data Scientist positions with academic degree spcified:\")\n",
    "machine_learning_engineer_degree_percentages.plot.barh(ax = axes[1], legend = None, figsize = (10, 10), xlim = (0, .7), \n",
    "                                        title = \"Percentage of Machine Learning Engineer positions with academic degree specified:\")"
   ]
  },
  {
   "cell_type": "code",
   "execution_count": null,
   "metadata": {
    "collapsed": true
   },
   "outputs": [],
   "source": []
  },
  {
   "cell_type": "code",
   "execution_count": 118,
   "metadata": {
    "collapsed": false
   },
   "outputs": [],
   "source": [
    "data_scientist_phd_frequency = get_skill_frequency(data_scientist_phd, ['academic_degrees'])\n",
    "data_scientist_masters_frequency = get_skill_frequency(data_scientist_masters, ['academic_degrees'])\n",
    "data_scientist_advanced_degree_frequency = get_skill_frequency(data_scientist_advanced_degree, ['academic_degrees'])\n",
    "data_scientist_bachelors = get_skill_frequency(data_scientist_bachelors, ['academic_degrees'])\n",
    "data_scientist_all_frequency = get_skill_frequency(data_scientist_all, ['academic_degrees'])"
   ]
  },
  {
   "cell_type": "code",
   "execution_count": 129,
   "metadata": {
    "collapsed": false
   },
   "outputs": [
    {
     "data": {
      "text/plain": [
       "<matplotlib.axes._subplots.AxesSubplot at 0x1444ae710>"
      ]
     },
     "execution_count": 129,
     "metadata": {},
     "output_type": "execute_result"
    },
    {
     "data": {
      "image/png": "[encoded data removed]",
      "text/plain": [
       "<matplotlib.figure.Figure at 0x142f53790>"
      ]
     },
     "metadata": {},
     "output_type": "display_data"
    }
   ],
   "source": [
    "data_scientist_all_frequency.plot( kind = 'bar', legend = None, figsize = (16,7) ,\n",
    "                              title = 'Percentage of \"data scientist\" with listed skill for all degrees')\n"
   ]
  },
  {
   "cell_type": "code",
   "execution_count": 122,
   "metadata": {
    "collapsed": false
   },
   "outputs": [
    {
     "data": {
      "text/plain": [
       "<matplotlib.axes._subplots.AxesSubplot at 0x13a4dc910>"
      ]
     },
     "execution_count": 122,
     "metadata": {},
     "output_type": "execute_result"
    },
    {
     "data": {
      "image/png": "[encoded data removed]",
      "text/plain": [
       "<matplotlib.figure.Figure at 0x13671d1d0>"
      ]
     },
     "metadata": {},
     "output_type": "display_data"
    }
   ],
   "source": [
    "\n",
    "fig, axes = plt.subplots(nrows=2, ncols=2, figsize=(20, 15))\n",
    "plt.subplots_adjust(hspace = .3)\n",
    "\n",
    "\n",
    "data_scientist_phd_frequency.plot(ax=axes[0,0],  kind = 'bar', legend = None, \n",
    "                              title = 'Percentage of \"data scientist\" jobs that specify a phd with listed skill:')\n",
    "\n",
    "data_scientist_masters_frequency.plot(ax=axes[0,1],  kind = 'bar', legend = None, \n",
    "                              title = 'Percentage of \"data scientist\" that specify a masters degree with listed skill:')\n",
    "\n",
    "data_scientist_advanced_degree_frequency.plot(ax=axes[1,0],  kind = 'bar', legend = None, \n",
    "                              title = 'Percentage of \"data scientist\" that specify an \"advanced degree\" with listed skill:')\n",
    "\n",
    "data_scientist_bachelors.plot(ax=axes[1,1],  kind = 'bar', legend = None, \n",
    "                              title = 'Percentage of \"data scientist\" jobs that specify a bachelors degree with listed skill:')\n"
   ]
  },
  {
   "cell_type": "code",
   "execution_count": 200,
   "metadata": {
    "collapsed": false
   },
   "outputs": [],
   "source": [
    "data_analyst_all['index'] = range(data_analyst_all.shape[0]) "
   ]
  },
  {
   "cell_type": "code",
   "execution_count": 201,
   "metadata": {
    "collapsed": false
   },
   "outputs": [
    {
     "data": {
      "text/html": [
       "<div>\n",
       "<table border=\"1\" class=\"dataframe\">\n",
       "  <thead>\n",
       "    <tr style=\"text-align: right;\">\n",
       "      <th></th>\n",
       "      <th>academic_degrees</th>\n",
       "      <th>academic_disciplines</th>\n",
       "      <th>all_skills</th>\n",
       "      <th>analysis_tools</th>\n",
       "      <th>city</th>\n",
       "      <th>frameworks</th>\n",
       "      <th>graph_databases</th>\n",
       "      <th>hadoop_technologies</th>\n",
       "      <th>href</th>\n",
       "      <th>languages</th>\n",
       "      <th>machine_learning_algorithms</th>\n",
       "      <th>nosql_technologies</th>\n",
       "      <th>operating_system_tools</th>\n",
       "      <th>query</th>\n",
       "      <th>relational_databases</th>\n",
       "      <th>title</th>\n",
       "      <th>words</th>\n",
       "      <th>index</th>\n",
       "    </tr>\n",
       "  </thead>\n",
       "  <tbody>\n",
       "    <tr>\n",
       "      <th>0</th>\n",
       "      <td>{bachelor}</td>\n",
       "      <td>{mathematics, statistics, business}</td>\n",
       "      <td>{statistics, business, python, hadoop, hive, t...</td>\n",
       "      <td>{tableau}</td>\n",
       "      <td></td>\n",
       "      <td>{}</td>\n",
       "      <td>{}</td>\n",
       "      <td>{hadoop, hive}</td>\n",
       "      <td>http://www.indeed.com/pagead/clk?mo=r&amp;ad=-6NYl...</td>\n",
       "      <td>{python, r, sql}</td>\n",
       "      <td>{}</td>\n",
       "      <td>{}</td>\n",
       "      <td>{}</td>\n",
       "      <td>data+analyst</td>\n",
       "      <td>{}</td>\n",
       "      <td>Data Analyst</td>\n",
       "      <td>{results, manages, ga, decisions, relationship...</td>\n",
       "      <td>0</td>\n",
       "    </tr>\n",
       "    <tr>\n",
       "      <th>1</th>\n",
       "      <td>{}</td>\n",
       "      <td>{business}</td>\n",
       "      <td>{business, javascript, hadoop, cart, pig, orac...</td>\n",
       "      <td>{sas}</td>\n",
       "      <td></td>\n",
       "      <td>{}</td>\n",
       "      <td>{}</td>\n",
       "      <td>{hadoop, pig}</td>\n",
       "      <td>http://www.indeed.com/pagead/clk?mo=r&amp;ad=-6NYl...</td>\n",
       "      <td>{javascript, tsql, sql}</td>\n",
       "      <td>{cart}</td>\n",
       "      <td>{}</td>\n",
       "      <td>{}</td>\n",
       "      <td>data+analyst</td>\n",
       "      <td>{netezza, oracle}</td>\n",
       "      <td>Data Analyst / SQL Developer</td>\n",
       "      <td>{code, skip, global, existing, founded, toggle...</td>\n",
       "      <td>1</td>\n",
       "    </tr>\n",
       "    <tr>\n",
       "      <th>2</th>\n",
       "      <td>{bachelor}</td>\n",
       "      <td>{mathematics, business}</td>\n",
       "      <td>{c, business, h2, excel, bachelor, r, mathemat...</td>\n",
       "      <td>{excel}</td>\n",
       "      <td></td>\n",
       "      <td>{}</td>\n",
       "      <td>{}</td>\n",
       "      <td>{}</td>\n",
       "      <td>http://www.indeed.com/pagead/clk?mo=r&amp;ad=-6NYl...</td>\n",
       "      <td>{c, r}</td>\n",
       "      <td>{}</td>\n",
       "      <td>{}</td>\n",
       "      <td>{}</td>\n",
       "      <td>data+analyst</td>\n",
       "      <td>{h2}</td>\n",
       "      <td>Data Analyst</td>\n",
       "      <td>{code, skip, focus, research, issues, aug, tu,...</td>\n",
       "      <td>2</td>\n",
       "    </tr>\n",
       "    <tr>\n",
       "      <th>3</th>\n",
       "      <td>{bachelor}</td>\n",
       "      <td>{business}</td>\n",
       "      <td>{c, business, javascript, excel, bachelor, r, ...</td>\n",
       "      <td>{excel}</td>\n",
       "      <td></td>\n",
       "      <td>{}</td>\n",
       "      <td>{}</td>\n",
       "      <td>{}</td>\n",
       "      <td>http://www.indeed.com/pagead/clk?mo=r&amp;ad=-6NYl...</td>\n",
       "      <td>{c, javascript, r, sql}</td>\n",
       "      <td>{}</td>\n",
       "      <td>{}</td>\n",
       "      <td>{}</td>\n",
       "      <td>data+analyst</td>\n",
       "      <td>{}</td>\n",
       "      <td>DATA ANALYST</td>\n",
       "      <td>{ptk, sg-btn-block, skip, cwoa, focus, existin...</td>\n",
       "      <td>3</td>\n",
       "    </tr>\n",
       "    <tr>\n",
       "      <th>4</th>\n",
       "      <td>{}</td>\n",
       "      <td>{}</td>\n",
       "      <td>{c, r, javascript}</td>\n",
       "      <td>{}</td>\n",
       "      <td></td>\n",
       "      <td>{}</td>\n",
       "      <td>{}</td>\n",
       "      <td>{}</td>\n",
       "      <td>http://www.indeed.com/pagead/clk?mo=r&amp;ad=-6NYl...</td>\n",
       "      <td>{c, javascript, r}</td>\n",
       "      <td>{}</td>\n",
       "      <td>{}</td>\n",
       "      <td>{}</td>\n",
       "      <td>data+analyst</td>\n",
       "      <td>{}</td>\n",
       "      <td>Data Analyst</td>\n",
       "      <td>{ptk, sg-btn-block, skip, cwoa, focus, snip, i...</td>\n",
       "      <td>4</td>\n",
       "    </tr>\n",
       "  </tbody>\n",
       "</table>\n",
       "</div>"
      ],
      "text/plain": [
       "  academic_degrees                 academic_disciplines  \\\n",
       "0       {bachelor}  {mathematics, statistics, business}   \n",
       "1               {}                           {business}   \n",
       "2       {bachelor}              {mathematics, business}   \n",
       "3       {bachelor}                           {business}   \n",
       "4               {}                                   {}   \n",
       "\n",
       "                                          all_skills analysis_tools city  \\\n",
       "0  {statistics, business, python, hadoop, hive, t...      {tableau}        \n",
       "1  {business, javascript, hadoop, cart, pig, orac...          {sas}        \n",
       "2  {c, business, h2, excel, bachelor, r, mathemat...        {excel}        \n",
       "3  {c, business, javascript, excel, bachelor, r, ...        {excel}        \n",
       "4                                 {c, r, javascript}             {}        \n",
       "\n",
       "  frameworks graph_databases hadoop_technologies  \\\n",
       "0         {}              {}      {hadoop, hive}   \n",
       "1         {}              {}       {hadoop, pig}   \n",
       "2         {}              {}                  {}   \n",
       "3         {}              {}                  {}   \n",
       "4         {}              {}                  {}   \n",
       "\n",
       "                                                href                languages  \\\n",
       "0  http://www.indeed.com/pagead/clk?mo=r&ad=-6NYl...         {python, r, sql}   \n",
       "1  http://www.indeed.com/pagead/clk?mo=r&ad=-6NYl...  {javascript, tsql, sql}   \n",
       "2  http://www.indeed.com/pagead/clk?mo=r&ad=-6NYl...                   {c, r}   \n",
       "3  http://www.indeed.com/pagead/clk?mo=r&ad=-6NYl...  {c, javascript, r, sql}   \n",
       "4  http://www.indeed.com/pagead/clk?mo=r&ad=-6NYl...       {c, javascript, r}   \n",
       "\n",
       "  machine_learning_algorithms nosql_technologies operating_system_tools  \\\n",
       "0                          {}                 {}                     {}   \n",
       "1                      {cart}                 {}                     {}   \n",
       "2                          {}                 {}                     {}   \n",
       "3                          {}                 {}                     {}   \n",
       "4                          {}                 {}                     {}   \n",
       "\n",
       "          query relational_databases                         title  \\\n",
       "0  data+analyst                   {}                  Data Analyst   \n",
       "1  data+analyst    {netezza, oracle}  Data Analyst / SQL Developer   \n",
       "2  data+analyst                 {h2}                  Data Analyst   \n",
       "3  data+analyst                   {}                  DATA ANALYST   \n",
       "4  data+analyst                   {}                  Data Analyst   \n",
       "\n",
       "                                               words  index  \n",
       "0  {results, manages, ga, decisions, relationship...      0  \n",
       "1  {code, skip, global, existing, founded, toggle...      1  \n",
       "2  {code, skip, focus, research, issues, aug, tu,...      2  \n",
       "3  {ptk, sg-btn-block, skip, cwoa, focus, existin...      3  \n",
       "4  {ptk, sg-btn-block, skip, cwoa, focus, snip, i...      4  "
      ]
     },
     "execution_count": 201,
     "metadata": {},
     "output_type": "execute_result"
    }
   ],
   "source": [
    "data_analyst_all.head()"
   ]
  },
  {
   "cell_type": "code",
   "execution_count": 202,
   "metadata": {
    "collapsed": true
   },
   "outputs": [],
   "source": [
    "skills = data_analyst_all.all_skills"
   ]
  },
  {
   "cell_type": "code",
   "execution_count": 206,
   "metadata": {
    "collapsed": true
   },
   "outputs": [],
   "source": [
    "def set_distance(skillset_0, skillset_1):\n",
    "    return len(skillset_0 & skillset_1)"
   ]
  },
  {
   "cell_type": "code",
   "execution_count": 207,
   "metadata": {
    "collapsed": false
   },
   "outputs": [
    {
     "ename": "TypeError",
     "evalue": "float() argument must be a string or a number",
     "output_type": "error",
     "traceback": [
      "\u001b[0;31m---------------------------------------------------------------------------\u001b[0m",
      "\u001b[0;31mTypeError\u001b[0m                                 Traceback (most recent call last)",
      "\u001b[0;32m<ipython-input-207-5fb2a81d9028>\u001b[0m in \u001b[0;36m<module>\u001b[0;34m()\u001b[0m\n\u001b[0;32m----> 1\u001b[0;31m \u001b[0mpairwise_distances\u001b[0m\u001b[0;34m(\u001b[0m\u001b[0mskills\u001b[0m\u001b[0;34m,\u001b[0m \u001b[0mskills\u001b[0m\u001b[0;34m,\u001b[0m \u001b[0mset_distance\u001b[0m\u001b[0;34m)\u001b[0m\u001b[0;34m\u001b[0m\u001b[0m\n\u001b[0m",
      "\u001b[0;32m/Library/Frameworks/Python.framework/Versions/2.7/lib/python2.7/site-packages/sklearn/metrics/pairwise.pyc\u001b[0m in \u001b[0;36mpairwise_distances\u001b[0;34m(X, Y, metric, n_jobs, **kwds)\u001b[0m\n\u001b[1;32m   1205\u001b[0m         \u001b[0mfunc\u001b[0m \u001b[0;34m=\u001b[0m \u001b[0mpartial\u001b[0m\u001b[0;34m(\u001b[0m\u001b[0mdistance\u001b[0m\u001b[0;34m.\u001b[0m\u001b[0mcdist\u001b[0m\u001b[0;34m,\u001b[0m \u001b[0mmetric\u001b[0m\u001b[0;34m=\u001b[0m\u001b[0mmetric\u001b[0m\u001b[0;34m,\u001b[0m \u001b[0;34m**\u001b[0m\u001b[0mkwds\u001b[0m\u001b[0;34m)\u001b[0m\u001b[0;34m\u001b[0m\u001b[0m\n\u001b[1;32m   1206\u001b[0m \u001b[0;34m\u001b[0m\u001b[0m\n\u001b[0;32m-> 1207\u001b[0;31m     \u001b[0;32mreturn\u001b[0m \u001b[0m_parallel_pairwise\u001b[0m\u001b[0;34m(\u001b[0m\u001b[0mX\u001b[0m\u001b[0;34m,\u001b[0m \u001b[0mY\u001b[0m\u001b[0;34m,\u001b[0m \u001b[0mfunc\u001b[0m\u001b[0;34m,\u001b[0m \u001b[0mn_jobs\u001b[0m\u001b[0;34m,\u001b[0m \u001b[0;34m**\u001b[0m\u001b[0mkwds\u001b[0m\u001b[0;34m)\u001b[0m\u001b[0;34m\u001b[0m\u001b[0m\n\u001b[0m\u001b[1;32m   1208\u001b[0m \u001b[0;34m\u001b[0m\u001b[0m\n\u001b[1;32m   1209\u001b[0m \u001b[0;34m\u001b[0m\u001b[0m\n",
      "\u001b[0;32m/Library/Frameworks/Python.framework/Versions/2.7/lib/python2.7/site-packages/sklearn/metrics/pairwise.pyc\u001b[0m in \u001b[0;36m_parallel_pairwise\u001b[0;34m(X, Y, func, n_jobs, **kwds)\u001b[0m\n\u001b[1;32m   1052\u001b[0m     \u001b[0;32mif\u001b[0m \u001b[0mn_jobs\u001b[0m \u001b[0;34m==\u001b[0m \u001b[0;36m1\u001b[0m\u001b[0;34m:\u001b[0m\u001b[0;34m\u001b[0m\u001b[0m\n\u001b[1;32m   1053\u001b[0m         \u001b[0;31m# Special case to avoid picklability checks in delayed\u001b[0m\u001b[0;34m\u001b[0m\u001b[0;34m\u001b[0m\u001b[0m\n\u001b[0;32m-> 1054\u001b[0;31m         \u001b[0;32mreturn\u001b[0m \u001b[0mfunc\u001b[0m\u001b[0;34m(\u001b[0m\u001b[0mX\u001b[0m\u001b[0;34m,\u001b[0m \u001b[0mY\u001b[0m\u001b[0;34m,\u001b[0m \u001b[0;34m**\u001b[0m\u001b[0mkwds\u001b[0m\u001b[0;34m)\u001b[0m\u001b[0;34m\u001b[0m\u001b[0m\n\u001b[0m\u001b[1;32m   1055\u001b[0m \u001b[0;34m\u001b[0m\u001b[0m\n\u001b[1;32m   1056\u001b[0m     \u001b[0;31m# TODO: in some cases, backend='threading' may be appropriate\u001b[0m\u001b[0;34m\u001b[0m\u001b[0;34m\u001b[0m\u001b[0m\n",
      "\u001b[0;32m/Library/Frameworks/Python.framework/Versions/2.7/lib/python2.7/site-packages/sklearn/metrics/pairwise.pyc\u001b[0m in \u001b[0;36m_pairwise_callable\u001b[0;34m(X, Y, metric, **kwds)\u001b[0m\n\u001b[1;32m   1066\u001b[0m     \"\"\"Handle the callable case for pairwise_{distances,kernels}\n\u001b[1;32m   1067\u001b[0m     \"\"\"\n\u001b[0;32m-> 1068\u001b[0;31m     \u001b[0mX\u001b[0m\u001b[0;34m,\u001b[0m \u001b[0mY\u001b[0m \u001b[0;34m=\u001b[0m \u001b[0mcheck_pairwise_arrays\u001b[0m\u001b[0;34m(\u001b[0m\u001b[0mX\u001b[0m\u001b[0;34m,\u001b[0m \u001b[0mY\u001b[0m\u001b[0;34m)\u001b[0m\u001b[0;34m\u001b[0m\u001b[0m\n\u001b[0m\u001b[1;32m   1069\u001b[0m \u001b[0;34m\u001b[0m\u001b[0m\n\u001b[1;32m   1070\u001b[0m     \u001b[0;32mif\u001b[0m \u001b[0mX\u001b[0m \u001b[0;32mis\u001b[0m \u001b[0mY\u001b[0m\u001b[0;34m:\u001b[0m\u001b[0;34m\u001b[0m\u001b[0m\n",
      "\u001b[0;32m/Library/Frameworks/Python.framework/Versions/2.7/lib/python2.7/site-packages/sklearn/metrics/pairwise.pyc\u001b[0m in \u001b[0;36mcheck_pairwise_arrays\u001b[0;34m(X, Y, precomputed)\u001b[0m\n\u001b[1;32m     94\u001b[0m         \u001b[0mX\u001b[0m \u001b[0;34m=\u001b[0m \u001b[0mY\u001b[0m \u001b[0;34m=\u001b[0m \u001b[0mcheck_array\u001b[0m\u001b[0;34m(\u001b[0m\u001b[0mX\u001b[0m\u001b[0;34m,\u001b[0m \u001b[0maccept_sparse\u001b[0m\u001b[0;34m=\u001b[0m\u001b[0;34m'csr'\u001b[0m\u001b[0;34m,\u001b[0m \u001b[0mdtype\u001b[0m\u001b[0;34m=\u001b[0m\u001b[0mdtype\u001b[0m\u001b[0;34m)\u001b[0m\u001b[0;34m\u001b[0m\u001b[0m\n\u001b[1;32m     95\u001b[0m     \u001b[0;32melse\u001b[0m\u001b[0;34m:\u001b[0m\u001b[0;34m\u001b[0m\u001b[0m\n\u001b[0;32m---> 96\u001b[0;31m         \u001b[0mX\u001b[0m \u001b[0;34m=\u001b[0m \u001b[0mcheck_array\u001b[0m\u001b[0;34m(\u001b[0m\u001b[0mX\u001b[0m\u001b[0;34m,\u001b[0m \u001b[0maccept_sparse\u001b[0m\u001b[0;34m=\u001b[0m\u001b[0;34m'csr'\u001b[0m\u001b[0;34m,\u001b[0m \u001b[0mdtype\u001b[0m\u001b[0;34m=\u001b[0m\u001b[0mdtype\u001b[0m\u001b[0;34m)\u001b[0m\u001b[0;34m\u001b[0m\u001b[0m\n\u001b[0m\u001b[1;32m     97\u001b[0m         \u001b[0mY\u001b[0m \u001b[0;34m=\u001b[0m \u001b[0mcheck_array\u001b[0m\u001b[0;34m(\u001b[0m\u001b[0mY\u001b[0m\u001b[0;34m,\u001b[0m \u001b[0maccept_sparse\u001b[0m\u001b[0;34m=\u001b[0m\u001b[0;34m'csr'\u001b[0m\u001b[0;34m,\u001b[0m \u001b[0mdtype\u001b[0m\u001b[0;34m=\u001b[0m\u001b[0mdtype\u001b[0m\u001b[0;34m)\u001b[0m\u001b[0;34m\u001b[0m\u001b[0m\n\u001b[1;32m     98\u001b[0m \u001b[0;34m\u001b[0m\u001b[0m\n",
      "\u001b[0;32m/Library/Frameworks/Python.framework/Versions/2.7/lib/python2.7/site-packages/sklearn/utils/validation.pyc\u001b[0m in \u001b[0;36mcheck_array\u001b[0;34m(array, accept_sparse, dtype, order, copy, force_all_finite, ensure_2d, allow_nd, ensure_min_samples, ensure_min_features, warn_on_dtype, estimator)\u001b[0m\n\u001b[1;32m    371\u001b[0m                                       force_all_finite)\n\u001b[1;32m    372\u001b[0m     \u001b[0;32melse\u001b[0m\u001b[0;34m:\u001b[0m\u001b[0;34m\u001b[0m\u001b[0m\n\u001b[0;32m--> 373\u001b[0;31m         \u001b[0marray\u001b[0m \u001b[0;34m=\u001b[0m \u001b[0mnp\u001b[0m\u001b[0;34m.\u001b[0m\u001b[0marray\u001b[0m\u001b[0;34m(\u001b[0m\u001b[0marray\u001b[0m\u001b[0;34m,\u001b[0m \u001b[0mdtype\u001b[0m\u001b[0;34m=\u001b[0m\u001b[0mdtype\u001b[0m\u001b[0;34m,\u001b[0m \u001b[0morder\u001b[0m\u001b[0;34m=\u001b[0m\u001b[0morder\u001b[0m\u001b[0;34m,\u001b[0m \u001b[0mcopy\u001b[0m\u001b[0;34m=\u001b[0m\u001b[0mcopy\u001b[0m\u001b[0;34m)\u001b[0m\u001b[0;34m\u001b[0m\u001b[0m\n\u001b[0m\u001b[1;32m    374\u001b[0m \u001b[0;34m\u001b[0m\u001b[0m\n\u001b[1;32m    375\u001b[0m         \u001b[0;32mif\u001b[0m \u001b[0mensure_2d\u001b[0m\u001b[0;34m:\u001b[0m\u001b[0;34m\u001b[0m\u001b[0m\n",
      "\u001b[0;31mTypeError\u001b[0m: float() argument must be a string or a number"
     ]
    }
   ],
   "source": [
    "pairwise_distances(skills, skills, set_distance)"
   ]
  },
  {
   "cell_type": "code",
   "execution_count": 203,
   "metadata": {
    "collapsed": false
   },
   "outputs": [
    {
     "data": {
      "text/plain": [
       "0      {statistics, business, python, hadoop, hive, t...\n",
       "1      {business, javascript, hadoop, cart, pig, orac...\n",
       "2      {c, business, h2, excel, bachelor, r, mathemat...\n",
       "3      {c, business, javascript, excel, bachelor, r, ...\n",
       "4                                     {c, r, javascript}\n",
       "5                    {bachelor, r, excel, c, javascript}\n",
       "6      {c, statistics, business, javascript, bachelor...\n",
       "7                           {bachelor, c, business, sql}\n",
       "8      {c, statistics, business, javascript, excel, b...\n",
       "9                                                     {}\n",
       "10     {nlp, statistics, business, nosql, python, jav...\n",
       "11     {c, javascript, java, business, sql, bachelor,...\n",
       "12                   {c, r, excel, regression, business}\n",
       "13                               {bachelor, excel, cart}\n",
       "14         {c, business, javascript, excel, bachelor, r}\n",
       "15     {statistics, business, windows, excel, bachelo...\n",
       "16       {statistics, business, excel, master, sql, sas}\n",
       "17     {c, statistics, java, business, nosql, python,...\n",
       "18     {c, business, windows, javascript, excel, r, sql}\n",
       "19                               {c, r, excel, business}\n",
       "20     {c, java, business, python, javascript, c++, b...\n",
       "21           {c, business, javascript, bachelor, r, sql}\n",
       "22     {c, business, python, javascript, excel, bache...\n",
       "23                {c, bachelor, r, business, javascript}\n",
       "24                        {h2, bachelor, r, c, business}\n",
       "25      {c, business, javascript, excel, r, sql, oracle}\n",
       "26     {c, statistics, javascript, c++, r, master, ma...\n",
       "27          {c, c#, javascript, excel, bachelor, r, sql}\n",
       "28                 {c, javascript, excel, business, sql}\n",
       "29                         {node, excel, cart, business}\n",
       "                             ...                        \n",
       "140         {bachelor, javascript, excel, business, sql}\n",
       "141    {c, business, javascript, excel, bachelor, r, ...\n",
       "142    {statistics, business, excel, cart, bachelor, ...\n",
       "143                                 {r, excel, business}\n",
       "144               {c, bachelor, r, business, javascript}\n",
       "145    {c, business, javascript, excel, tableau, bach...\n",
       "146    {business, windows, bachelor, unix, master, sq...\n",
       "147    {c, business, windows, javascript, bachelor, r...\n",
       "148             {c, business, c++, bachelor, r, sql, d3}\n",
       "149                {windows, c, r, business, javascript}\n",
       "150                {c, business, spss, bachelor, r, sas}\n",
       "151    {c, advanced_degree, business, javascript, exc...\n",
       "152               {c, bachelor, r, business, javascript}\n",
       "153                                                   {}\n",
       "154                   {c, java, windows, r, sql, oracle}\n",
       "155    {c, asp, business, h2, javascript, excel, cart...\n",
       "156                                           {bachelor}\n",
       "157    {statistics, business, javascript, bachelor, r...\n",
       "158          {c, business, h2, economics, excel, r, sql}\n",
       "159         {c, javascript, excel, c++, bachelor, r, d3}\n",
       "160                                      {c, r, d3, c++}\n",
       "161                       {oracle, javascript, business}\n",
       "162                    {r, excel, hadoop, business, sql}\n",
       "163    {asp, java, business, scala, python, javascrip...\n",
       "164                       {r, hadoop, business, tableau}\n",
       "165               {c, bachelor, r, business, javascript}\n",
       "166    {c, business, javascript, c++, bachelor, r, ma...\n",
       "167                                {cart, business, sql}\n",
       "168    {c, business, javascript, bachelor, r, sql, az...\n",
       "169          {c, business, javascript, excel, r, oracle}\n",
       "Name: all_skills, dtype: object"
      ]
     },
     "execution_count": 203,
     "metadata": {},
     "output_type": "execute_result"
    }
   ],
   "source": [
    "skills"
   ]
  },
  {
   "cell_type": "code",
   "execution_count": 210,
   "metadata": {
    "collapsed": false
   },
   "outputs": [],
   "source": [
    "import string\n",
    "fnx = lambda: set(random.sample(string.ascii_uppercase, 7))\n",
    "S = [fnx() for c in range(5)]"
   ]
  },
  {
   "cell_type": "code",
   "execution_count": 233,
   "metadata": {
    "collapsed": false
   },
   "outputs": [
    {
     "data": {
      "text/plain": [
       "[{'C', 'D', 'E', 'K', 'N', 'P', 'X'},\n",
       " {'E', 'H', 'M', 'P', 'V', 'X', 'Y'},\n",
       " {'E', 'I', 'Q', 'S', 'T', 'X', 'Y'},\n",
       " {'C', 'I', 'M', 'R', 'S', 'V', 'Z'},\n",
       " {'A', 'E', 'H', 'K', 'R', 'U', 'W'}]"
      ]
     },
     "execution_count": 233,
     "metadata": {},
     "output_type": "execute_result"
    }
   ],
   "source": [
    "S"
   ]
  },
  {
   "cell_type": "code",
   "execution_count": 234,
   "metadata": {
    "collapsed": true
   },
   "outputs": [],
   "source": [
    "idx = range(len(S))"
   ]
  },
  {
   "cell_type": "code",
   "execution_count": 213,
   "metadata": {
    "collapsed": false
   },
   "outputs": [
    {
     "data": {
      "text/plain": [
       "[0, 1, 2, 3, 4]"
      ]
     },
     "execution_count": 213,
     "metadata": {},
     "output_type": "execute_result"
    }
   ],
   "source": [
    "idx"
   ]
  },
  {
   "cell_type": "code",
   "execution_count": 378,
   "metadata": {
    "collapsed": true
   },
   "outputs": [],
   "source": [
    "pairs = itertools.combinations(idx, 2)"
   ]
  },
  {
   "cell_type": "code",
   "execution_count": 379,
   "metadata": {
    "collapsed": false
   },
   "outputs": [
    {
     "data": {
      "text/plain": [
       "<itertools.combinations at 0x14a952730>"
      ]
     },
     "execution_count": 379,
     "metadata": {},
     "output_type": "execute_result"
    }
   ],
   "source": [
    "pairs"
   ]
  },
  {
   "cell_type": "code",
   "execution_count": 380,
   "metadata": {
    "collapsed": true
   },
   "outputs": [],
   "source": [
    "nt = lambda a, b: S[a].intersection(S[b])"
   ]
  },
  {
   "cell_type": "code",
   "execution_count": 381,
   "metadata": {
    "collapsed": true
   },
   "outputs": [],
   "source": [
    "res = dict([ [t, nt(*t)] for t in pairs ])"
   ]
  },
  {
   "cell_type": "code",
   "execution_count": 447,
   "metadata": {
    "collapsed": false
   },
   "outputs": [
    {
     "data": {
      "text/plain": [
       "{(0, 1): {'E', 'P', 'X'},\n",
       " (0, 2): {'E', 'X'},\n",
       " (0, 3): {'C'},\n",
       " (0, 4): {'E', 'K'},\n",
       " (1, 2): {'E', 'X', 'Y'},\n",
       " (1, 3): {'M', 'V'},\n",
       " (1, 4): {'E', 'H'},\n",
       " (2, 3): {'I', 'S'},\n",
       " (2, 4): {'E'},\n",
       " (3, 4): {'R'}}"
      ]
     },
     "execution_count": 447,
     "metadata": {},
     "output_type": "execute_result"
    }
   ],
   "source": [
    "res"
   ]
  },
  {
   "cell_type": "code",
   "execution_count": 448,
   "metadata": {
    "collapsed": false
   },
   "outputs": [
    {
     "data": {
      "text/plain": [
       "{'I', 'S'}"
      ]
     },
     "execution_count": 448,
     "metadata": {},
     "output_type": "execute_result"
    }
   ],
   "source": [
    "res[(2,3)]"
   ]
  },
  {
   "cell_type": "code",
   "execution_count": 449,
   "metadata": {
    "collapsed": true
   },
   "outputs": [],
   "source": [
    "def to_set(tup):\n",
    "    return res[tup]"
   ]
  },
  {
   "cell_type": "code",
   "execution_count": 252,
   "metadata": {
    "collapsed": false
   },
   "outputs": [],
   "source": [
    "mesh = np.meshgrid(range(5), range(5))"
   ]
  },
  {
   "cell_type": "code",
   "execution_count": 440,
   "metadata": {
    "collapsed": false
   },
   "outputs": [],
   "source": [
    "X, Y = np.mgrid[0:5, 0:5]\n",
    "positions = np.vstack([X.ravel(), Y.ravel()])\n",
    "points = pd.Series(zip(positions[0], positions[1]))\n"
   ]
  },
  {
   "cell_type": "code",
   "execution_count": 446,
   "metadata": {
    "collapsed": false
   },
   "outputs": [],
   "source": [
    "df = pd.DataFrame(np.reshape(pd.DataFrame(points).as_matrix(), (5,-1)))"
   ]
  },
  {
   "cell_type": "code",
   "execution_count": null,
   "metadata": {
    "collapsed": true
   },
   "outputs": [],
   "source": [
    "a = zip(positions[0], positions[1])\n",
    "data_type=np.dtype('int,int')\n",
    "b = np.array([[tup] for tup in a], dtype = data_type)\n",
    "b = np.reshape(b, (5,-1))\n"
   ]
  },
  {
   "cell_type": "code",
   "execution_count": 439,
   "metadata": {
    "collapsed": false
   },
   "outputs": [
    {
     "ename": "TypeError",
     "evalue": "__init__() got an unexpected keyword argument 'split'",
     "output_type": "error",
     "traceback": [
      "\u001b[0;31m---------------------------------------------------------------------------\u001b[0m",
      "\u001b[0;31mTypeError\u001b[0m                                 Traceback (most recent call last)",
      "\u001b[0;32m<ipython-input-439-9c70536f5047>\u001b[0m in \u001b[0;36m<module>\u001b[0;34m()\u001b[0m\n\u001b[0;32m----> 1\u001b[0;31m \u001b[0mpd\u001b[0m\u001b[0;34m.\u001b[0m\u001b[0mDataFrame\u001b[0m\u001b[0;34m(\u001b[0m\u001b[0ma\u001b[0m\u001b[0;34m,\u001b[0m \u001b[0msplit\u001b[0m\u001b[0;34m=\u001b[0m \u001b[0mFalse\u001b[0m\u001b[0;34m)\u001b[0m\u001b[0;34m\u001b[0m\u001b[0m\n\u001b[0m",
      "\u001b[0;31mTypeError\u001b[0m: __init__() got an unexpected keyword argument 'split'"
     ]
    }
   ],
   "source": [
    "pd.DataFrame(a, split= False)"
   ]
  },
  {
   "cell_type": "code",
   "execution_count": 355,
   "metadata": {
    "collapsed": false
   },
   "outputs": [],
   "source": [
    "points = pd.Series(zip(positions[0], positions[1]))"
   ]
  },
  {
   "cell_type": "code",
   "execution_count": 391,
   "metadata": {
    "collapsed": false
   },
   "outputs": [],
   "source": [
    "a = zip(positions[0], positions[1])"
   ]
  },
  {
   "cell_type": "code",
   "execution_count": 416,
   "metadata": {
    "collapsed": false
   },
   "outputs": [],
   "source": [
    "data_type=np.dtype('int,int')\n",
    "b = np.asarray([[tup] for tup in a], dtype = data_type)"
   ]
  },
  {
   "cell_type": "code",
   "execution_count": 417,
   "metadata": {
    "collapsed": false
   },
   "outputs": [
    {
     "data": {
      "text/plain": [
       "array([[(0, 0), (0, 1), (0, 2), (0, 3), (0, 4)],\n",
       "       [(1, 0), (1, 1), (1, 2), (1, 3), (1, 4)],\n",
       "       [(2, 0), (2, 1), (2, 2), (2, 3), (2, 4)],\n",
       "       [(3, 0), (3, 1), (3, 2), (3, 3), (3, 4)],\n",
       "       [(4, 0), (4, 1), (4, 2), (4, 3), (4, 4)]], \n",
       "      dtype=[('f0', '<i8'), ('f1', '<i8')])"
      ]
     },
     "execution_count": 417,
     "metadata": {},
     "output_type": "execute_result"
    }
   ],
   "source": [
    "np.reshape(b, (5,-1))"
   ]
  },
  {
   "cell_type": "code",
   "execution_count": 361,
   "metadata": {
    "collapsed": false
   },
   "outputs": [
    {
     "data": {
      "text/html": [
       "<div>\n",
       "<table border=\"1\" class=\"dataframe\">\n",
       "  <thead>\n",
       "    <tr style=\"text-align: right;\">\n",
       "      <th></th>\n",
       "      <th>0</th>\n",
       "      <th>1</th>\n",
       "      <th>2</th>\n",
       "      <th>3</th>\n",
       "      <th>4</th>\n",
       "    </tr>\n",
       "  </thead>\n",
       "  <tbody>\n",
       "    <tr>\n",
       "      <th>0</th>\n",
       "      <td>(0, 0)</td>\n",
       "      <td>(0, 1)</td>\n",
       "      <td>(0, 2)</td>\n",
       "      <td>(0, 3)</td>\n",
       "      <td>(0, 4)</td>\n",
       "    </tr>\n",
       "    <tr>\n",
       "      <th>1</th>\n",
       "      <td>(1, 0)</td>\n",
       "      <td>(1, 1)</td>\n",
       "      <td>(1, 2)</td>\n",
       "      <td>(1, 3)</td>\n",
       "      <td>(1, 4)</td>\n",
       "    </tr>\n",
       "    <tr>\n",
       "      <th>2</th>\n",
       "      <td>(2, 0)</td>\n",
       "      <td>(2, 1)</td>\n",
       "      <td>(2, 2)</td>\n",
       "      <td>(2, 3)</td>\n",
       "      <td>(2, 4)</td>\n",
       "    </tr>\n",
       "    <tr>\n",
       "      <th>3</th>\n",
       "      <td>(3, 0)</td>\n",
       "      <td>(3, 1)</td>\n",
       "      <td>(3, 2)</td>\n",
       "      <td>(3, 3)</td>\n",
       "      <td>(3, 4)</td>\n",
       "    </tr>\n",
       "    <tr>\n",
       "      <th>4</th>\n",
       "      <td>(4, 0)</td>\n",
       "      <td>(4, 1)</td>\n",
       "      <td>(4, 2)</td>\n",
       "      <td>(4, 3)</td>\n",
       "      <td>(4, 4)</td>\n",
       "    </tr>\n",
       "  </tbody>\n",
       "</table>\n",
       "</div>"
      ],
      "text/plain": [
       "        0       1       2       3       4\n",
       "0  (0, 0)  (0, 1)  (0, 2)  (0, 3)  (0, 4)\n",
       "1  (1, 0)  (1, 1)  (1, 2)  (1, 3)  (1, 4)\n",
       "2  (2, 0)  (2, 1)  (2, 2)  (2, 3)  (2, 4)\n",
       "3  (3, 0)  (3, 1)  (3, 2)  (3, 3)  (3, 4)\n",
       "4  (4, 0)  (4, 1)  (4, 2)  (4, 3)  (4, 4)"
      ]
     },
     "execution_count": 361,
     "metadata": {},
     "output_type": "execute_result"
    }
   ],
   "source": [
    "pd.DataFrame(np.reshape(pd.DataFrame(points).as_matrix(), (5, -1)))"
   ]
  },
  {
   "cell_type": "code",
   "execution_count": null,
   "metadata": {
    "collapsed": true
   },
   "outputs": [],
   "source": []
  },
  {
   "cell_type": "code",
   "execution_count": 338,
   "metadata": {
    "collapsed": false
   },
   "outputs": [
    {
     "data": {
      "text/plain": [
       "25"
      ]
     },
     "execution_count": 338,
     "metadata": {},
     "output_type": "execute_result"
    }
   ],
   "source": [
    "len(points)"
   ]
  },
  {
   "cell_type": "code",
   "execution_count": 341,
   "metadata": {
    "collapsed": false
   },
   "outputs": [],
   "source": [
    "df = pd.DataFrame.from_records(points)"
   ]
  },
  {
   "cell_type": "code",
   "execution_count": 309,
   "metadata": {
    "collapsed": false
   },
   "outputs": [
    {
     "data": {
      "text/plain": [
       "array([[0, 0],\n",
       "       [0, 1],\n",
       "       [0, 2],\n",
       "       [0, 3],\n",
       "       [0, 4],\n",
       "       [1, 0],\n",
       "       [1, 1],\n",
       "       [1, 2],\n",
       "       [1, 3],\n",
       "       [1, 4],\n",
       "       [2, 0],\n",
       "       [2, 1],\n",
       "       [2, 2],\n",
       "       [2, 3],\n",
       "       [2, 4],\n",
       "       [3, 0],\n",
       "       [3, 1],\n",
       "       [3, 2],\n",
       "       [3, 3],\n",
       "       [3, 4],\n",
       "       [4, 0],\n",
       "       [4, 1],\n",
       "       [4, 2],\n",
       "       [4, 3],\n",
       "       [4, 4]])"
      ]
     },
     "execution_count": 309,
     "metadata": {},
     "output_type": "execute_result"
    }
   ],
   "source": [
    "np.array(tuples)"
   ]
  },
  {
   "cell_type": "code",
   "execution_count": 308,
   "metadata": {
    "collapsed": false
   },
   "outputs": [
    {
     "data": {
      "text/plain": [
       "array([[0, 0, 0, 1, 0, 2, 0, 3, 0, 4],\n",
       "       [1, 0, 1, 1, 1, 2, 1, 3, 1, 4],\n",
       "       [2, 0, 2, 1, 2, 2, 2, 3, 2, 4],\n",
       "       [3, 0, 3, 1, 3, 2, 3, 3, 3, 4],\n",
       "       [4, 0, 4, 1, 4, 2, 4, 3, 4, 4]])"
      ]
     },
     "execution_count": 308,
     "metadata": {},
     "output_type": "execute_result"
    }
   ],
   "source": [
    "np.reshape(tuples, (5, -1))"
   ]
  }
 ],
 "metadata": {
  "kernelspec": {
   "display_name": "Python 2",
   "language": "python",
   "name": "python2"
  },
  "language_info": {
   "codemirror_mode": {
    "name": "ipython",
    "version": 2
   },
   "file_extension": ".py",
   "mimetype": "text/x-python",
   "name": "python",
   "nbconvert_exporter": "python",
   "pygments_lexer": "ipython2",
   "version": "2.7.9"
  }
 },
 "nbformat": 4,
 "nbformat_minor": 0
}
